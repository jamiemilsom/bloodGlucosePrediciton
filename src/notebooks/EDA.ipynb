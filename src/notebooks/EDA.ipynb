{
 "cells": [
  {
   "cell_type": "markdown",
   "metadata": {},
   "source": [
    "# Blood Glucose Predicition\n",
    "Using historical blood glucose readings, insulin dosage, carbohydrate intake, and smartwatch activity data to predict future blood glucose. "
   ]
  },
  {
   "cell_type": "code",
   "execution_count": 12,
   "metadata": {},
   "outputs": [
    {
     "name": "stdout",
     "output_type": "stream",
     "text": [
      "torch version:  2.5.1+cu124\n",
      "Cuda available:  True\n",
      "Running on  NVIDIA GeForce GTX 1060 6GB\n"
     ]
    }
   ],
   "source": [
    "import numpy as np\n",
    "import pandas as pd\n",
    "import polars as pl\n",
    "import matplotlib.pyplot as plt\n",
    "import seaborn as sns\n",
    "import sys\n",
    "import os\n",
    "sys.path.append(os.path.abspath(os.path.join(os.getcwd(), '..')))\n",
    "from helper.helper import float_to_time, time_to_float, float_time_range, float_time_minus\n",
    "import random\n",
    "import tqdm\n",
    "# Set seed for repeatability\n",
    "def seed_everything(seed):\n",
    "    np.random.seed(seed) # np random seed\n",
    "    random.seed(seed) # py random seed\n",
    "seed_everything(seed=1024)\n",
    "import torch\n",
    "print('torch version: ',torch.__version__)\n",
    "print('Cuda available: ',torch.cuda.is_available())\n",
    "print('Running on ',torch.cuda.get_device_name(torch.cuda.current_device()))\n",
    "device = torch.device('cuda' if torch.cuda.is_available() else 'cpu')"
   ]
  },
  {
   "cell_type": "markdown",
   "metadata": {},
   "source": [
    "Set the schema for the train and test sets to ensure correct types"
   ]
  },
  {
   "cell_type": "code",
   "execution_count": 13,
   "metadata": {},
   "outputs": [],
   "source": [
    "train_participants = ['p_num_p01','p_num_p02','p_num_p03','p_num_p04','p_num_p05','p_num_p06','p_num_p10','p_num_p11','p_num_p12']\n",
    "test_participants = [ 'p_num_p01', 'p_num_p02', 'p_num_p04', 'p_num_p05', 'p_num_p06', 'p_num_p10', 'p_num_p11', 'p_num_p12', 'p_num_p15', 'p_num_p16', 'p_num_p18', 'p_num_p19', 'p_num_p21', 'p_num_p22', 'p_num_p24']\n",
    "all_participants = sorted(set(train_participants + test_participants))\n",
    "\n",
    "train_schema = {\n",
    "    'id': pl.String(),\n",
    "    'p_num': pl.String(),\n",
    "    'time': pl.Time(),\n",
    "    'bg+1:00': pl.Float64()\n",
    "    }\n",
    "\n",
    "for measurement_time in float_time_range(5.55,0.00,-0.05):\n",
    "    train_schema[f'bg-{measurement_time}'] = pl.Float64()\n",
    "    train_schema[f'insulin-{measurement_time}'] = pl.Float64()\n",
    "    train_schema[f'carbs-{measurement_time}'] = pl.Float64()\n",
    "    train_schema[f'hr-{measurement_time}'] = pl.Float64()\n",
    "    train_schema[f'steps-{measurement_time}'] = pl.Float64()\n",
    "    train_schema[f'cals-{measurement_time}'] = pl.Float64()\n",
    "    train_schema[f'activity-{measurement_time}'] = pl.String()\n",
    "    \n",
    "test_schema = train_schema\n",
    "del test_schema['bg+1:00']"
   ]
  },
  {
   "cell_type": "markdown",
   "metadata": {},
   "source": [
    "Loading the test / train sets using polars"
   ]
  },
  {
   "cell_type": "code",
   "execution_count": 123,
   "metadata": {},
   "outputs": [],
   "source": [
    "def load_data(path, schema):\n",
    "    df = pl.read_csv(path,\n",
    "                schema_overrides=pl.Schema(schema),\n",
    "                null_values = ['',' ','null','NaN','None']\n",
    "    )\n",
    "    \n",
    "    step_columns = [f'steps-{t}' for t in float_time_range(5.55, 0.00, -0.05)]\n",
    "\n",
    "    df = df.with_columns(pl.col(step_columns).cast(pl.UInt32))\n",
    "    df = df.to_dummies(columns=['p_num'])\n",
    "    \n",
    "    df = df.with_columns(pl.lit(0).alias(col) for col in all_participants if col not in df.columns)\n",
    "        \n",
    "\n",
    "    for measurement in ['insulin', 'carbs', 'steps', 'cals']:\n",
    "        for time in float_time_range(5.55, 0.00, -0.05):\n",
    "            df = df.with_columns(\n",
    "                [pl.col(f'{measurement}-{time}').fill_null(0)]\n",
    "            )\n",
    "    return df\n",
    "\n",
    "\n",
    "\n",
    "train_df = load_data('../../data/train.csv', train_schema)\n",
    "test_df = load_data('../../data/test.csv', test_schema)"
   ]
  },
  {
   "cell_type": "code",
   "execution_count": 191,
   "metadata": {},
   "outputs": [
    {
     "name": "stdout",
     "output_type": "stream",
     "text": [
      "shape: (3_644, 523)\n",
      "┌──────────┬───────────┬───────────┬───────────┬───┬────────────┬───────────┬───────────┬──────────┐\n",
      "│ id       ┆ p_num_p01 ┆ p_num_p02 ┆ p_num_p04 ┆ … ┆ activity-0 ┆ activity- ┆ p_num_p03 ┆ id_float │\n",
      "│ ---      ┆ ---       ┆ ---       ┆ ---       ┆   ┆ :05        ┆ 0:00      ┆ ---       ┆ ---      │\n",
      "│ str      ┆ u8        ┆ u8        ┆ u8        ┆   ┆ ---        ┆ ---       ┆ i32       ┆ f64      │\n",
      "│          ┆           ┆           ┆           ┆   ┆ str        ┆ str       ┆           ┆          │\n",
      "╞══════════╪═══════════╪═══════════╪═══════════╪═══╪════════════╪═══════════╪═══════════╪══════════╡\n",
      "│ p01_8459 ┆ 1         ┆ 0         ┆ 0         ┆ … ┆ null       ┆ null      ┆ 0         ┆ 1.08459  │\n",
      "│ p01_8460 ┆ 1         ┆ 0         ┆ 0         ┆ … ┆ Walk       ┆ Walk      ┆ 0         ┆ 1.0846   │\n",
      "│ p01_8461 ┆ 1         ┆ 0         ┆ 0         ┆ … ┆ null       ┆ null      ┆ 0         ┆ 1.08461  │\n",
      "│ p01_8462 ┆ 1         ┆ 0         ┆ 0         ┆ … ┆ null       ┆ null      ┆ 0         ┆ 1.08462  │\n",
      "│ p01_8463 ┆ 1         ┆ 0         ┆ 0         ┆ … ┆ null       ┆ null      ┆ 0         ┆ 1.08463  │\n",
      "│ …        ┆ …         ┆ …         ┆ …         ┆ … ┆ …          ┆ …         ┆ …         ┆ …        │\n",
      "│ p24_256  ┆ 0         ┆ 0         ┆ 0         ┆ … ┆ null       ┆ null      ┆ 0         ┆ 24.00256 │\n",
      "│ p24_257  ┆ 0         ┆ 0         ┆ 0         ┆ … ┆ null       ┆ null      ┆ 0         ┆ 24.00257 │\n",
      "│ p24_258  ┆ 0         ┆ 0         ┆ 0         ┆ … ┆ null       ┆ null      ┆ 0         ┆ 24.00258 │\n",
      "│ p24_259  ┆ 0         ┆ 0         ┆ 0         ┆ … ┆ null       ┆ null      ┆ 0         ┆ 24.00259 │\n",
      "│ p24_260  ┆ 0         ┆ 0         ┆ 0         ┆ … ┆ null       ┆ null      ┆ 0         ┆ 24.0026  │\n",
      "└──────────┴───────────┴───────────┴───────────┴───┴────────────┴───────────┴───────────┴──────────┘\n"
     ]
    }
   ],
   "source": [
    "test_df = test_df.with_columns(\n",
    "        (\n",
    "        (\n",
    "        pl.col(\"id\")\n",
    "        .str.split(\"_\")\n",
    "        .list[0]\n",
    "        .str.split('p')\n",
    "        .list[1]\n",
    "        .cast(pl.Int32)\n",
    "        )\n",
    "        +\n",
    "        (\n",
    "        (pl.col(\"id\")\n",
    "        .str.split(\"_\")\n",
    "        .list[1])\n",
    "        .cast(pl.Float64) / 1e5\n",
    "        )\n",
    "        )\n",
    "        \n",
    "        .alias(\"id_float\")) # Name the new column as 'id_float'\n",
    "\n",
    "print(test_df)"
   ]
  },
  {
   "cell_type": "code",
   "execution_count": 141,
   "metadata": {},
   "outputs": [
    {
     "name": "stdout",
     "output_type": "stream",
     "text": [
      "shape: (3_644, 523)\n",
      "┌──────────┬───────────┬───────────┬───────────┬───┬───────────┬───────────┬───────────┬───────────┐\n",
      "│ id       ┆ p_num_p01 ┆ p_num_p02 ┆ p_num_p04 ┆ … ┆ activity- ┆ activity- ┆ p_num_p03 ┆ id_float  │\n",
      "│ ---      ┆ ---       ┆ ---       ┆ ---       ┆   ┆ 0:05      ┆ 0:00      ┆ ---       ┆ ---       │\n",
      "│ str      ┆ u8        ┆ u8        ┆ u8        ┆   ┆ ---       ┆ ---       ┆ i32       ┆ f64       │\n",
      "│          ┆           ┆           ┆           ┆   ┆ str       ┆ str       ┆           ┆           │\n",
      "╞══════════╪═══════════╪═══════════╪═══════════╪═══╪═══════════╪═══════════╪═══════════╪═══════════╡\n",
      "│ p01_8459 ┆ 1         ┆ 0         ┆ 0         ┆ … ┆ null      ┆ null      ┆ 0         ┆ 1.008459  │\n",
      "│ p01_8460 ┆ 1         ┆ 0         ┆ 0         ┆ … ┆ Walk      ┆ Walk      ┆ 0         ┆ 1.00846   │\n",
      "│ p01_8461 ┆ 1         ┆ 0         ┆ 0         ┆ … ┆ null      ┆ null      ┆ 0         ┆ 1.008461  │\n",
      "│ p01_8462 ┆ 1         ┆ 0         ┆ 0         ┆ … ┆ null      ┆ null      ┆ 0         ┆ 1.008462  │\n",
      "│ p01_8463 ┆ 1         ┆ 0         ┆ 0         ┆ … ┆ null      ┆ null      ┆ 0         ┆ 1.008463  │\n",
      "│ …        ┆ …         ┆ …         ┆ …         ┆ … ┆ …         ┆ …         ┆ …         ┆ …         │\n",
      "│ p24_256  ┆ 0         ┆ 0         ┆ 0         ┆ … ┆ null      ┆ null      ┆ 0         ┆ 24.000256 │\n",
      "│ p24_257  ┆ 0         ┆ 0         ┆ 0         ┆ … ┆ null      ┆ null      ┆ 0         ┆ 24.000257 │\n",
      "│ p24_258  ┆ 0         ┆ 0         ┆ 0         ┆ … ┆ null      ┆ null      ┆ 0         ┆ 24.000258 │\n",
      "│ p24_259  ┆ 0         ┆ 0         ┆ 0         ┆ … ┆ null      ┆ null      ┆ 0         ┆ 24.000259 │\n",
      "│ p24_260  ┆ 0         ┆ 0         ┆ 0         ┆ … ┆ null      ┆ null      ┆ 0         ┆ 24.00026  │\n",
      "└──────────┴───────────┴───────────┴───────────┴───┴───────────┴───────────┴───────────┴───────────┘\n"
     ]
    }
   ],
   "source": [
    "test_df = test_df.with_columns(\n",
    "    (pl.col(\"id\")\n",
    "        .str.split(\"_\")  \n",
    "        .list[0]\n",
    "        .str.split(\"p\")\n",
    "        .list[1]\n",
    "        .cast(pl.UInt32)\n",
    "        +\n",
    "        pl.col(\"id\")\n",
    "        .str.split(\"_\")\n",
    "        .list[1]\n",
    "        .cast(pl.Float32) / 1e6\n",
    "\n",
    ").alias(\"id_float\"))  # Name the new column as 'id_float'\n",
    "\n",
    "print(test_df)"
   ]
  },
  {
   "cell_type": "markdown",
   "metadata": {},
   "source": [
    "## Dataset Description\n",
    "\n",
    "The dataset is from a study that \n",
    "- Collected data from young adults in the UK with type 1 diabetes, who used a continuous glucose monitor (CGM), an insulin pump and a smartwatch.\n",
    "- These devices collected blood glucose readings, insulin dosage, carbohydrate intake, and activity data. \n",
    "- The data collected was aggregated to five-minute intervals and formatted into samples. \n",
    "- Each sample represents a point in time and includes the aggregated five-minute intervals from the previous six hours. \n",
    "- The aim is to predict the blood glucose reading an hour into the future, for each of these samples.\n",
    "\n",
    "#### The Training Set\n",
    "- Takes samples from the first three months of study data from nine of the participants and includes the future blood glucose value.\n",
    "- These training samples appear in chronological order and overlap. \n",
    "#### The Testing Set\n",
    "- Takes samples from the remainder of the study period from fifteen of the participants (so unseen participants appear in the testing set).\n",
    "- These testing samples do not overlap and are in a random order to avoid data leakage.\n",
    "\n",
    "### Complexities to be aware of:\n",
    "- This is medical data so there are missing values and noise in the data\n",
    "- The participants did not all use the same device models (CGM, insulin pump and smartwatch) so there may be differences in the collection method of the data\n",
    "- Some participants in the test set do not appear in the training set\n",
    "\n",
    "#### Files\n",
    "* `activities.txt`: A list of activity names that appear in the `activity-X:XX` columns.\n",
    "* `sample_submission.csv`: A sample submission file in the correct format.\n",
    "* `test.csv`: The test set.\n",
    "* `train.csv`: The training set.\n",
    "\n",
    "### Training Features\n",
    "| Feature | Description |\n",
    "|---|---|\n",
    "| `id` | row id consisting of participant number and a count for that participant |\n",
    "| `p_num` | participant number |\n",
    "| `time` | time of day in the format HH:MM:SS |\n",
    "| `bg-X:XX` | blood glucose reading in mmol/L, X:XX(H:MM) time in the past (e.g. bg-2:35, would be the blood glucose reading from 2 hours and 35 minutes before the time value for that row), recorded by the continuous glucose monitor |\n",
    "| `insulin-X:XX` | total insulin dose received in units in the last 5 minutes, X:XX(H:MM) time in the past (e.g. insulin-2:35, would be the total insulin dose received between 2 hours and 40 minutes and 2 hours and 35 minutes before the time value for that row), recorded by the insulin pump |\n",
    "| `carbs-X:XX` | total carbohydrate value consumed in grammes in the last 5 minutes, X:XX(H:MM) time in the past (e.g. carbs-2:35, would be the total carbohydrate value consumed between 2 hours and 40 minutes and 2 hours and 35 minutes before the time value for that row), recorded by the participant |\n",
    "| `hr-X:XX` | mean heart rate in beats per minute in the last 5 minutes, X:XX(H:MM) time in the past (e.g. hr-2:35, would be the mean heart rate between 2 hours and 40 minutes and 2 hours and 35 minutes before the time value for that row), recorded by the smartwatch |\n",
    "| `steps-X:XX` | total steps walked in the last 5 minutes, X:XX(H:MM) time in the past (e.g. steps-2:35, would be the total steps walked between 2 hours and 40 minutes and 2 hours and 35 minutes before the time value for that row), recorded by the smartwatch |\n",
    "| `cals-X:XX` | total calories burnt in the last 5 minutes, X:XX(H:MM) time in the past (e.g. cals-2:35, would be the total calories burned between 2 hours and 40 minutes and 2 hours and 35 minutes before the time value for that row), calculated by the smartwatch |\n",
    "| `activity-X:XX` | self-declared activity performed in the last 5 minutes, X:XX(H:MM) time in the past (e.g. activity-2:35, would show a string name of the activity performed between 2 hours and 40 minutes and 2 hours and 35 minutes before the time value for that row), set on the smartwatch |\n",
    "| `bg+1:00` | blood glucose reading in mmol/L an hour in the future, this is the value you will be predicting (not provided in test.csv) |"
   ]
  },
  {
   "cell_type": "markdown",
   "metadata": {},
   "source": [
    "normalisation, sliding windows?, use padding and masking? one hot encode patient id, normalise time columnn as important - sine cosine, hour of day, \n"
   ]
  },
  {
   "cell_type": "code",
   "execution_count": 20,
   "metadata": {},
   "outputs": [
    {
     "data": {
      "image/png": "[encoded data removed]",
      "text/plain": [
       "<Figure size 900x600 with 1 Axes>"
      ]
     },
     "metadata": {},
     "output_type": "display_data"
    }
   ],
   "source": [
    "train_participants_np = train_df[all_participants].sum().to_numpy()[0]\n",
    "test_participants_np = test_df[all_participants].sum().to_numpy()[0]\n",
    "\n",
    "\n",
    "plt.figure(figsize=(9,6))\n",
    "x = np.arange(len(all_participants))\n",
    "width = 0.35\n",
    "\n",
    "plt.bar(x - width/2, train_participants_np / max(train_participants_np), width, label='Train Participants')\n",
    "plt.bar(x + width/2, test_participants_np / max(test_participants_np), width, label='Test Participants')\n",
    "\n",
    "plt.xlabel('Participants')\n",
    "plt.ylabel('% of dataset')\n",
    "plt.title('Train vs Test Participants')\n",
    "plt.xticks(x, all_participants, rotation=45)\n",
    "plt.legend()\n",
    "plt.tight_layout()"
   ]
  },
  {
   "cell_type": "markdown",
   "metadata": {},
   "source": [
    "Interesting that there is less data for p01, p05, p06, maybe leave one out in training to test unseen performance? cv leaving a participant cv? leaving two out, stratified sample out, sample out, then ensamble them all either weighted avg, nn, or other"
   ]
  },
  {
   "cell_type": "markdown",
   "metadata": {},
   "source": [
    "# Looking at patterns in how the data is recorded\n",
    "Lets have a look at the data and see if there are any consistent patterns in the missing values"
   ]
  },
  {
   "cell_type": "code",
   "execution_count": 48,
   "metadata": {},
   "outputs": [],
   "source": [
    "import statistics\n",
    "\n",
    "def pattern_finder(sample_df: pl.DataFrame):\n",
    "    df = sample_df\n",
    "    \n",
    "    missing_mask = df.select([pl.col(col).is_null().alias(col) for col in df.columns]).to_numpy()\n",
    "    \n",
    "    gaps = []\n",
    "    gap_size = 0\n",
    "    mode_instances = 0\n",
    "    next_mode_instances = 0\n",
    "\n",
    "    for column in missing_mask[0]:\n",
    "        if column == 0:\n",
    "            gaps.append(gap_size)\n",
    "            gap_size = 0\n",
    "        if column == 1:\n",
    "            gap_size += 1\n",
    "            \n",
    "    for column in missing_mask[1]:\n",
    "        if column == 0:\n",
    "            gaps.append(gap_size)\n",
    "            gap_size = 0\n",
    "        if column == 1:\n",
    "            gap_size += 1\n",
    "    mode = statistics.mode(gaps)\n",
    "    mode_instances = gaps.count(mode)\n",
    "    gaps = [x for x in gaps if x!= mode]\n",
    "    if len(gaps) == 0:\n",
    "        next_mode = -1 # here to signify no other missing data\n",
    "    else:\n",
    "        next_mode = statistics.mode(gaps)\n",
    "        next_mode_instances = gaps.count(next_mode)\n",
    "    return mode,mode_instances, next_mode, next_mode_instances\n"
   ]
  },
  {
   "cell_type": "code",
   "execution_count": 78,
   "metadata": {},
   "outputs": [
    {
     "data": {
      "text/html": [
       "<div><style>\n",
       ".dataframe > thead > tr,\n",
       ".dataframe > tbody > tr {\n",
       "  text-align: right;\n",
       "  white-space: pre-wrap;\n",
       "}\n",
       "</style>\n",
       "<small>shape: (2, 4)</small><table border=\"1\" class=\"dataframe\"><thead><tr><th>participant</th><th>metric</th><th>pattern one</th><th>pattern two</th></tr><tr><td>str</td><td>str</td><td>list[i64]</td><td>list[i64]</td></tr></thead><tbody><tr><td>&quot;p_num_p01&quot;</td><td>&quot;bg&quot;</td><td>[2,&nbsp;48]</td><td>[0,&nbsp;6]</td></tr><tr><td>&quot;p_num_p05&quot;</td><td>&quot;bg&quot;</td><td>[2,&nbsp;27]</td><td>[0,&nbsp;6]</td></tr></tbody></table></div>"
      ],
      "text/plain": [
       "shape: (2, 4)\n",
       "┌─────────────┬────────┬─────────────┬─────────────┐\n",
       "│ participant ┆ metric ┆ pattern one ┆ pattern two │\n",
       "│ ---         ┆ ---    ┆ ---         ┆ ---         │\n",
       "│ str         ┆ str    ┆ list[i64]   ┆ list[i64]   │\n",
       "╞═════════════╪════════╪═════════════╪═════════════╡\n",
       "│ p_num_p01   ┆ bg     ┆ [2, 48]     ┆ [0, 6]      │\n",
       "│ p_num_p05   ┆ bg     ┆ [2, 27]     ┆ [0, 6]      │\n",
       "└─────────────┴────────┴─────────────┴─────────────┘"
      ]
     },
     "execution_count": 78,
     "metadata": {},
     "output_type": "execute_result"
    }
   ],
   "source": [
    "metrics = ['bg','insulin','carbs','hr','steps','cals']# removed activity as categorical,'activity']\n",
    "patterns = []\n",
    "for participant in train_participants:\n",
    "    for metric in metrics:\n",
    "        sample_columns = [f'{metric}-{t}' for t in float_time_range(5.55,0.00,-0.05)]\n",
    "        sample_columns = [f'{participant}','time'] + sample_columns + ['bg+1:00']\n",
    "        sample_df = train_df[sample_columns].filter(pl.col(f'{participant}') == 1)\n",
    "        pattern_one = pattern_finder(sample_df)[:2]\n",
    "        pattern_two = pattern_finder(sample_df)[2:]\n",
    "        patterns.append({'participant': participant, 'metric': metric, 'pattern one': pattern_one, 'pattern two': pattern_two})\n",
    "\n",
    "patterns_df = pl.DataFrame(patterns)\n",
    "patterns_df.filter(\n",
    "    pl.col('pattern one').list[0] > 0,\n",
    "    pl.col('metric') == 'bg'\n",
    ")\n"
   ]
  },
  {
   "cell_type": "markdown",
   "metadata": {},
   "source": [
    "From this pattern analysis we can see two clear groups with different recording frequencies for the blood glucose readings only, heavily hinting at different continuous glucose monitor devices. It is likely that the test set has a new monitor as the study is to generalise but this could be a potential feature.\n",
    "\n",
    "Every 5 mins:\n",
    " - Participant 2\n",
    " - Participant 3\n",
    " - Participant 4\n",
    " - Participant 10\n",
    " - Participant 11\n",
    " - Participant 12\n",
    " - The rest\n",
    "\n",
    "Every 15 Mins:\n",
    " - Participant 1\n",
    " - Participant 5 (with missing recordings at the start)\n",
    " - Participant 6 (with missing recordings at the start)\n",
    " - Participant 21 occasionally\n"
   ]
  },
  {
   "cell_type": "code",
   "execution_count": 79,
   "metadata": {},
   "outputs": [
    {
     "data": {
      "text/html": [
       "<div><style>\n",
       ".dataframe > thead > tr,\n",
       ".dataframe > tbody > tr {\n",
       "  text-align: right;\n",
       "  white-space: pre-wrap;\n",
       "}\n",
       "</style>\n",
       "<small>shape: (2, 4)</small><table border=\"1\" class=\"dataframe\"><thead><tr><th>participant</th><th>metric</th><th>pattern one</th><th>pattern two</th></tr><tr><td>str</td><td>str</td><td>list[i64]</td><td>list[i64]</td></tr></thead><tbody><tr><td>&quot;p_num_p06&quot;</td><td>&quot;bg&quot;</td><td>[0,&nbsp;6]</td><td>[2,&nbsp;3]</td></tr><tr><td>&quot;p_num_p12&quot;</td><td>&quot;bg&quot;</td><td>[0,&nbsp;9]</td><td>[70,&nbsp;1]</td></tr></tbody></table></div>"
      ],
      "text/plain": [
       "shape: (2, 4)\n",
       "┌─────────────┬────────┬─────────────┬─────────────┐\n",
       "│ participant ┆ metric ┆ pattern one ┆ pattern two │\n",
       "│ ---         ┆ ---    ┆ ---         ┆ ---         │\n",
       "│ str         ┆ str    ┆ list[i64]   ┆ list[i64]   │\n",
       "╞═════════════╪════════╪═════════════╪═════════════╡\n",
       "│ p_num_p06   ┆ bg     ┆ [0, 6]      ┆ [2, 3]      │\n",
       "│ p_num_p12   ┆ bg     ┆ [0, 9]      ┆ [70, 1]     │\n",
       "└─────────────┴────────┴─────────────┴─────────────┘"
      ]
     },
     "execution_count": 79,
     "metadata": {},
     "output_type": "execute_result"
    }
   ],
   "source": [
    "missed_readings_df = patterns_df.filter(\n",
    "    pl.col('pattern one').list[0] == 0,\n",
    "    pl.col('pattern two').list[0] > 0,\n",
    "    pl.col('metric') == 'bg'\n",
    ")\n",
    "missed_readings_df\n"
   ]
  },
  {
   "cell_type": "markdown",
   "metadata": {},
   "source": [
    "We can also see a large trend where most of the tests have a 6 hour gap semi regularly, with almost all having this same gap, Im assuming this is for charging the device overnight currently."
   ]
  },
  {
   "cell_type": "markdown",
   "metadata": {},
   "source": [
    "Lets have a quick look at the test set now and see what intervals we have"
   ]
  },
  {
   "cell_type": "code",
   "execution_count": 80,
   "metadata": {},
   "outputs": [
    {
     "data": {
      "text/html": [
       "<div><style>\n",
       ".dataframe > thead > tr,\n",
       ".dataframe > tbody > tr {\n",
       "  text-align: right;\n",
       "  white-space: pre-wrap;\n",
       "}\n",
       "</style>\n",
       "<small>shape: (3, 4)</small><table border=\"1\" class=\"dataframe\"><thead><tr><th>participant</th><th>metric</th><th>pattern one</th><th>pattern two</th></tr><tr><td>str</td><td>str</td><td>list[i64]</td><td>list[i64]</td></tr></thead><tbody><tr><td>&quot;p_num_p01&quot;</td><td>&quot;bg&quot;</td><td>[2,&nbsp;46]</td><td>[0,&nbsp;4]</td></tr><tr><td>&quot;p_num_p05&quot;</td><td>&quot;bg&quot;</td><td>[2,&nbsp;46]</td><td>[0,&nbsp;4]</td></tr><tr><td>&quot;p_num_p06&quot;</td><td>&quot;bg&quot;</td><td>[2,&nbsp;44]</td><td>[0,&nbsp;4]</td></tr></tbody></table></div>"
      ],
      "text/plain": [
       "shape: (3, 4)\n",
       "┌─────────────┬────────┬─────────────┬─────────────┐\n",
       "│ participant ┆ metric ┆ pattern one ┆ pattern two │\n",
       "│ ---         ┆ ---    ┆ ---         ┆ ---         │\n",
       "│ str         ┆ str    ┆ list[i64]   ┆ list[i64]   │\n",
       "╞═════════════╪════════╪═════════════╪═════════════╡\n",
       "│ p_num_p01   ┆ bg     ┆ [2, 46]     ┆ [0, 4]      │\n",
       "│ p_num_p05   ┆ bg     ┆ [2, 46]     ┆ [0, 4]      │\n",
       "│ p_num_p06   ┆ bg     ┆ [2, 44]     ┆ [0, 4]      │\n",
       "└─────────────┴────────┴─────────────┴─────────────┘"
      ]
     },
     "execution_count": 80,
     "metadata": {},
     "output_type": "execute_result"
    }
   ],
   "source": [
    "metrics = ['bg','insulin','carbs','hr','steps','cals']# removed activity as categorical,'activity']\n",
    "patterns = []\n",
    "for participant in test_participants:\n",
    "    for metric in metrics:\n",
    "        sample_columns = [f'{metric}-{t}' for t in float_time_range(5.55,0.00,-0.05)]\n",
    "        sample_columns = [f'{participant}','time'] + sample_columns\n",
    "        sample_df = test_df[sample_columns].filter(pl.col(f'{participant}') == 1)\n",
    "        pattern_one = pattern_finder(sample_df)[:2]\n",
    "        pattern_two = pattern_finder(sample_df)[2:]\n",
    "        patterns.append({'participant': participant, 'metric': metric, 'pattern one': pattern_one, 'pattern two': pattern_two})\n",
    "\n",
    "test_patterns_df = pl.DataFrame(patterns)\n",
    "test_patterns_df.filter(\n",
    "    pl.col('pattern one').list[0] > 0,\n",
    "    pl.col('metric') == 'bg'\n",
    ")"
   ]
  },
  {
   "cell_type": "code",
   "execution_count": 83,
   "metadata": {},
   "outputs": [
    {
     "data": {
      "text/html": [
       "<div><style>\n",
       ".dataframe > thead > tr,\n",
       ".dataframe > tbody > tr {\n",
       "  text-align: right;\n",
       "  white-space: pre-wrap;\n",
       "}\n",
       "</style>\n",
       "<small>shape: (1, 4)</small><table border=\"1\" class=\"dataframe\"><thead><tr><th>participant</th><th>metric</th><th>pattern one</th><th>pattern two</th></tr><tr><td>str</td><td>str</td><td>list[i64]</td><td>list[i64]</td></tr></thead><tbody><tr><td>&quot;p_num_p21&quot;</td><td>&quot;bg&quot;</td><td>[0,&nbsp;76]</td><td>[2,&nbsp;22]</td></tr></tbody></table></div>"
      ],
      "text/plain": [
       "shape: (1, 4)\n",
       "┌─────────────┬────────┬─────────────┬─────────────┐\n",
       "│ participant ┆ metric ┆ pattern one ┆ pattern two │\n",
       "│ ---         ┆ ---    ┆ ---         ┆ ---         │\n",
       "│ str         ┆ str    ┆ list[i64]   ┆ list[i64]   │\n",
       "╞═════════════╪════════╪═════════════╪═════════════╡\n",
       "│ p_num_p21   ┆ bg     ┆ [0, 76]     ┆ [2, 22]     │\n",
       "└─────────────┴────────┴─────────────┴─────────────┘"
      ]
     },
     "execution_count": 83,
     "metadata": {},
     "output_type": "execute_result"
    }
   ],
   "source": [
    "test_patterns_df.filter(\n",
    "    pl.col('pattern one').list[0] == 0,\n",
    "    pl.col('pattern two').list[0] > 0,\n",
    "    pl.col('metric') == 'bg'\n",
    ")"
   ]
  },
  {
   "cell_type": "markdown",
   "metadata": {},
   "source": [
    "Now there are some columns that are categorical that need to be sorted out, lets fix the time column\n",
    "\n",
    "I want to convert it to seconds, then normalise it"
   ]
  },
  {
   "cell_type": "code",
   "execution_count": 27,
   "metadata": {},
   "outputs": [],
   "source": [
    "def time_to_seconds(df, column = 'time'):\n",
    "    \n",
    "    return df.with_columns(\n",
    "        (\n",
    "            pl.col(column)\n",
    "            .cast(pl.String)\n",
    "            .str.split(':')\n",
    "            .list.get(0).cast(pl.Int64).mul(3600) +  # hours to seconds\n",
    "            pl.col(column)\n",
    "            .cast(pl.String)\n",
    "            .str.split(':')\n",
    "            .list.get(1).cast(pl.Int64).mul(60) +  # minutes to seconds\n",
    "            pl.col(column)\n",
    "            .cast(pl.String)\n",
    "            .str.split(':')\n",
    "            .list.get(2).cast(pl.Int64)  # seconds\n",
    "        ).alias(f'{column}_in_seconds')\n",
    "    )\n",
    "def normalise_time(df, column='time'):\n",
    "    seconds_in_day = 24 * 60 * 60\n",
    "    df = time_to_seconds(df, column)\n",
    "    return df.with_columns(\n",
    "        (pl.col(f'{column}_in_seconds') / seconds_in_day).alias('normalised_time')\n",
    "    ).drop([column, f'{column}_in_seconds'])"
   ]
  },
  {
   "cell_type": "code",
   "execution_count": 151,
   "metadata": {},
   "outputs": [
    {
     "data": {
      "text/plain": [
       "Text(0.5, 1.0, 'Time difference betwen different measurements - Test Set')"
      ]
     },
     "execution_count": 151,
     "metadata": {},
     "output_type": "execute_result"
    },
    {
     "data": {
      "image/png": "[encoded data removed]",
      "text/plain": [
       "<Figure size 1600x1000 with 2 Axes>"
      ]
     },
     "metadata": {},
     "output_type": "display_data"
    }
   ],
   "source": [
    "def calculate_time_differences(df, p_num_id='p_num_p01'):\n",
    "\n",
    "    filtered_time = df.filter(pl.col(p_num_id) == 1).select('time')\n",
    "\n",
    "    filtered_time = filtered_time.with_columns(\n",
    "        pl.col('time').shift(-1).alias('time n+1')\n",
    "    )\n",
    "\n",
    "    filtered_time = time_to_seconds(filtered_time, column='time')\n",
    "    filtered_time = time_to_seconds(filtered_time, column='time n+1')\n",
    "\n",
    "    filtered_time = filtered_time.with_columns(\n",
    "        ((pl.col('time n+1_in_seconds') - pl.col('time_in_seconds')) / 60).alias('time_diff')\n",
    "    )\n",
    "    return filtered_time\n",
    "\n",
    "p_num_id = 'p_num_p05'\n",
    "train_td = calculate_time_differences(train_df,p_num_id)\n",
    "test_td = calculate_time_differences(test_df,p_num_id)\n",
    "\n",
    "plt.figure(figsize=(16,10))\n",
    "plt.subplot(2,1,1)\n",
    "sns.histplot(train_td['time_diff'])\n",
    "plt.title('Time difference betwen different measurements - Train Set')\n",
    "\n",
    "plt.subplot(2,1,2)\n",
    "sns.histplot(test_td['time_diff'])\n",
    "plt.title('Time difference betwen different measurements - Test Set')\n"
   ]
  },
  {
   "cell_type": "code",
   "execution_count": null,
   "metadata": {},
   "outputs": [],
   "source": [
    "lstm__train_features = [\n",
    "    'id', 'p_num_p01', 'p_num_p02', 'p_num_p03', 'p_num_p04', 'p_num_p05', 'p_num_p06',\n",
    "    'p_num_p10', 'p_num_p11', 'p_num_p12', 'bg', 'insulin', 'carbs', 'hr', 'steps', \n",
    "    'cals', 'Run', 'Strength training', 'Swim', 'Bike', 'Dancing', 'Stairclimber', \n",
    "    'Spinning', 'Walking', 'HIIT', 'Outdoor Bike', 'Walk', 'Aerobic Workout', 'Tennis', \n",
    "    'Workout', 'Hike', 'Zumba', 'Sport', 'Yoga', 'Swimming', 'Weights', 'Running'\n",
    "]\n",
    "lstm_target = ['bg+1:00']\n",
    "\n",
    "lstm_train_schema = {\n",
    "    'id': pl.String,\n",
    "    'time_delta': pl.Float64,\n",
    "    'time': pl.Float64,  \n",
    "    'p_num_p01': pl.Boolean, \n",
    "    'p_num_p02': pl.Boolean,\n",
    "    'p_num_p03': pl.Boolean,\n",
    "    'p_num_p04': pl.Boolean,\n",
    "    'p_num_p05': pl.Boolean,\n",
    "    'p_num_p06': pl.Boolean,\n",
    "    'p_num_p10': pl.Boolean,\n",
    "    'p_num_p11': pl.Boolean,\n",
    "    'p_num_p12': pl.Boolean,\n",
    "    'bg': pl.Float64,  \n",
    "    'insulin': pl.Float64,\n",
    "    'carbs': pl.Float64,\n",
    "    'hr': pl.Float64,  \n",
    "    'steps': pl.Float64, \n",
    "    'cals': pl.Float64,  \n",
    "    'Run': pl.Boolean,\n",
    "    'Strength training': pl.Boolean,\n",
    "    'Swim': pl.Boolean,\n",
    "    'Bike': pl.Boolean,\n",
    "    'Dancing': pl.Boolean,\n",
    "    'Stairclimber': pl.Boolean,\n",
    "    'Spinning': pl.Boolean,\n",
    "    'Walking': pl.Boolean,\n",
    "    'HIIT': pl.Boolean,\n",
    "    'Outdoor Bike': pl.Boolean,\n",
    "    'Walk': pl.Boolean,\n",
    "    'Aerobic Workout': pl.Boolean,\n",
    "    'Tennis': pl.Boolean,\n",
    "    'Workout': pl.Boolean,\n",
    "    'Hike': pl.Boolean,\n",
    "    'Zumba': pl.Boolean,\n",
    "    'Sport': pl.Boolean,\n",
    "    'Yoga': pl.Boolean,\n",
    "    'Swimming': pl.Boolean,\n",
    "    'Weights': pl.Boolean,\n",
    "    'Running': pl.Boolean,\n",
    "    'bg+1:00': pl.Float64\n",
    "}"
   ]
  },
  {
   "cell_type": "code",
   "execution_count": null,
   "metadata": {},
   "outputs": [
    {
     "name": "stderr",
     "output_type": "stream",
     "text": [
      "Processing rows: 100%|██████████| 177024/177024 [11:52<00:00, 248.42it/s]\n"
     ]
    }
   ],
   "source": [
    "time_range = float_time_range(5.55, 0.00, -0.05)\n",
    "float_minute_percent = 10/6\n",
    "def melt_row(melter_row, is_train=True):\n",
    "    rows = []\n",
    "    for m_time in time_range:\n",
    "        m_time_float = time_to_float(m_time)\n",
    "        m_time_hours = int(m_time_float)\n",
    "        m_time_minutes = (m_time_float - m_time_hours) * float_minute_percent\n",
    "        current_activity = melter_row[f'activity-{m_time}'][0]\n",
    "        row = {\n",
    "            'id'               : melter_row['id'][0],\n",
    "            'time_delta'       : 1.0 if m_time == '0:00' else 5/60,\n",
    "            'time'             : (( melter_row['time'][0].hour + melter_row['time'][0].minute / 60 ) - (m_time_hours + m_time_minutes)) % 24, \n",
    "            'p_num_p01'        : melter_row['p_num_p01'][0], \n",
    "            'p_num_p02'        : melter_row['p_num_p02'][0],\n",
    "            'p_num_p03'        : melter_row['p_num_p03'][0],\n",
    "            'p_num_p04'        : melter_row['p_num_p04'][0], \n",
    "            'p_num_p05'        : melter_row['p_num_p05'][0],\n",
    "            'p_num_p06'        : melter_row['p_num_p06'][0],\n",
    "            'p_num_p10'        : melter_row['p_num_p10'][0],\n",
    "            'p_num_p11'        : melter_row['p_num_p11'][0],\n",
    "            'p_num_p12'        : melter_row['p_num_p12'][0],\n",
    "            'bg'               : melter_row[f'bg-{m_time}'][0], \n",
    "            'insulin'          : melter_row[f'insulin-{m_time}'][0], \n",
    "            'carbs'            : melter_row[f'carbs-{m_time}'][0],\n",
    "            'hr'               : melter_row[f'hr-{m_time}'][0],\n",
    "            'steps'            : melter_row[f'steps-{m_time}'][0], \n",
    "            'cals'             : melter_row[f'cals-{m_time}'][0],\n",
    "            'Run'              : 1 if current_activity == 'Run' else 0,\n",
    "            'Strength training': 1 if current_activity == 'Strength training' else 0,\n",
    "            'Swim'             : 1 if current_activity == 'Swim' else 0,\n",
    "            'Bike'             : 1 if current_activity == 'Bike' else 0, \n",
    "            'Dancing'          : 1 if current_activity == 'Dancing' else 0,\n",
    "            'Stairclimber'     : 1 if current_activity == 'Stairclimber' else 0,\n",
    "            'Spinning'         : 1 if current_activity == 'Spinning' else 0,\n",
    "            'Walking'          : 1 if current_activity == 'Walking' else 0,\n",
    "            'HIIT'             : 1 if current_activity == 'HIIT' else 0,\n",
    "            'Outdoor Bike'     : 1 if current_activity == 'Outdoor Bike' else 0,\n",
    "            'Walk'             : 1 if current_activity == 'Walk' else 0,\n",
    "            'Aerobic Workout'  : 1 if current_activity == 'Aerobic Workout' else 0,\n",
    "            'Tennis'           : 1 if current_activity == 'Tennis' else 0,\n",
    "            'Workout'          : 1 if current_activity == 'Workout' else 0,\n",
    "            'Hike'             : 1 if current_activity == 'Hike' else 0,\n",
    "            'Zumba'            : 1 if current_activity == 'Zumba' else 0,\n",
    "            'Sport'            : 1 if current_activity == 'Sport' else 0,\n",
    "            'Yoga'             : 1 if current_activity == 'Yoga' else 0,\n",
    "            'Swimming'         : 1 if current_activity == 'Swimming' else 0,\n",
    "            'Weights'          : 1 if current_activity == 'Weights' else 0,\n",
    "            'Running'          : 1 if current_activity == 'Running' else 0\n",
    "        }\n",
    "        if is_train:\n",
    "            row['bg+1:00'] = melter_row[f'bg+1:00'][0]\n",
    "        rows.append(row)\n",
    "    return rows\n",
    "\n",
    "\n",
    "lstm_train_schema = {\n",
    "    'id': pl.String,\n",
    "    'time_delta': pl.Float64,\n",
    "    'time': pl.Float64,  \n",
    "    'p_num_p01': pl.Boolean, \n",
    "    'p_num_p02': pl.Boolean,\n",
    "    'p_num_p03': pl.Boolean,\n",
    "    'p_num_p04': pl.Boolean,\n",
    "    'p_num_p05': pl.Boolean,\n",
    "    'p_num_p06': pl.Boolean,\n",
    "    'p_num_p10': pl.Boolean,\n",
    "    'p_num_p11': pl.Boolean,\n",
    "    'p_num_p12': pl.Boolean,\n",
    "    'bg': pl.Float64,  \n",
    "    'insulin': pl.Float64,\n",
    "    'carbs': pl.Float64,\n",
    "    'hr': pl.Float64,  \n",
    "    'steps': pl.Float64, \n",
    "    'cals': pl.Float64,\n",
    "    'Run': pl.Boolean,\n",
    "    'Strength training': pl.Boolean,\n",
    "    'Swim': pl.Boolean,\n",
    "    'Bike': pl.Boolean,\n",
    "    'Dancing': pl.Boolean,\n",
    "    'Stairclimber': pl.Boolean,\n",
    "    'Spinning': pl.Boolean,\n",
    "    'Walking': pl.Boolean,\n",
    "    'HIIT': pl.Boolean,\n",
    "    'Outdoor Bike': pl.Boolean,\n",
    "    'Walk': pl.Boolean,\n",
    "    'Aerobic Workout': pl.Boolean,\n",
    "    'Tennis': pl.Boolean,\n",
    "    'Workout': pl.Boolean,\n",
    "    'Hike': pl.Boolean,\n",
    "    'Zumba': pl.Boolean,\n",
    "    'Sport': pl.Boolean,\n",
    "    'Yoga': pl.Boolean,\n",
    "    'Swimming': pl.Boolean,\n",
    "    'Weights': pl.Boolean,\n",
    "    'Running': pl.Boolean,\n",
    "    'bg+1:00': pl.Float64\n",
    "}\n",
    "\n",
    "output_file = '../../data/lstm_train.csv'\n",
    "is_first_write = True\n",
    "all_rows = []\n",
    "for melter_row in tqdm.tqdm(range(train_df.shape[0]), desc=\"Processing rows\"):\n",
    "    all_rows.extend(melt_row(train_df[int(melter_row)]))\n",
    "    \n",
    "\n",
    "    if melter_row % 100 == 0 or melter_row == train_df.shape[0] - 1:\n",
    "        lstm_df = pl.DataFrame(all_rows, schema=lstm_train_schema)\n",
    "        all_rows = []\n",
    "        \n",
    "        if is_first_write:\n",
    "            lstm_df.write_csv(output_file, include_header=True)\n",
    "            is_first_write = False\n",
    "        else:\n",
    "            with open(output_file, 'a') as f:\n",
    "                lstm_df.write_csv(f, include_header=False)\n"
   ]
  },
  {
   "cell_type": "markdown",
   "metadata": {},
   "source": [
    "Need to figure out what normalisation and what to do with all the missing values."
   ]
  },
  {
   "cell_type": "code",
   "execution_count": null,
   "metadata": {},
   "outputs": [
    {
     "data": {
      "text/html": [
       "<div><style>\n",
       ".dataframe > thead > tr,\n",
       ".dataframe > tbody > tr {\n",
       "  text-align: right;\n",
       "  white-space: pre-wrap;\n",
       "}\n",
       "</style>\n",
       "<small>shape: (9, 41)</small><table border=\"1\" class=\"dataframe\"><thead><tr><th>statistic</th><th>id</th><th>time_delta</th><th>time</th><th>p_num_p01</th><th>p_num_p02</th><th>p_num_p03</th><th>p_num_p04</th><th>p_num_p05</th><th>p_num_p06</th><th>p_num_p10</th><th>p_num_p11</th><th>p_num_p12</th><th>bg</th><th>insulin</th><th>carbs</th><th>hr</th><th>steps</th><th>cals</th><th>Run</th><th>Strength training</th><th>Swim</th><th>Bike</th><th>Dancing</th><th>Stairclimber</th><th>Spinning</th><th>Walking</th><th>HIIT</th><th>Outdoor Bike</th><th>Walk</th><th>Aerobic Workout</th><th>Tennis</th><th>Workout</th><th>Hike</th><th>Zumba</th><th>Sport</th><th>Yoga</th><th>Swimming</th><th>Weights</th><th>Running</th><th>bg+1:00</th></tr><tr><td>str</td><td>str</td><td>f64</td><td>f64</td><td>f64</td><td>f64</td><td>f64</td><td>f64</td><td>f64</td><td>f64</td><td>f64</td><td>f64</td><td>f64</td><td>f64</td><td>f64</td><td>f64</td><td>f64</td><td>f64</td><td>f64</td><td>f64</td><td>f64</td><td>f64</td><td>f64</td><td>f64</td><td>f64</td><td>f64</td><td>f64</td><td>f64</td><td>f64</td><td>f64</td><td>f64</td><td>f64</td><td>f64</td><td>f64</td><td>f64</td><td>f64</td><td>f64</td><td>f64</td><td>f64</td><td>f64</td><td>f64</td></tr></thead><tbody><tr><td>&quot;count&quot;</td><td>&quot;12745728&quot;</td><td>1.2745728e7</td><td>1.2745728e7</td><td>1.2745728e7</td><td>1.2745728e7</td><td>1.2745728e7</td><td>1.2745728e7</td><td>1.2745728e7</td><td>1.2745728e7</td><td>1.2745728e7</td><td>1.2745728e7</td><td>1.2745728e7</td><td>1.1374044e7</td><td>1.2745728e7</td><td>1.2745728e7</td><td>9.036634e6</td><td>1.2745728e7</td><td>1.2745728e7</td><td>1.2745728e7</td><td>1.2745728e7</td><td>1.2745728e7</td><td>1.2745728e7</td><td>1.2745728e7</td><td>1.2745728e7</td><td>1.2745728e7</td><td>1.2745728e7</td><td>1.2745728e7</td><td>1.2745728e7</td><td>1.2745728e7</td><td>1.2745728e7</td><td>1.2745728e7</td><td>1.2745728e7</td><td>1.2745728e7</td><td>1.2745728e7</td><td>1.2745728e7</td><td>1.2745728e7</td><td>1.2745728e7</td><td>1.2745728e7</td><td>1.2745728e7</td><td>1.2745728e7</td></tr><tr><td>&quot;null_count&quot;</td><td>&quot;0&quot;</td><td>0.0</td><td>0.0</td><td>0.0</td><td>0.0</td><td>0.0</td><td>0.0</td><td>0.0</td><td>0.0</td><td>0.0</td><td>0.0</td><td>0.0</td><td>1.371684e6</td><td>0.0</td><td>0.0</td><td>3.709094e6</td><td>0.0</td><td>0.0</td><td>0.0</td><td>0.0</td><td>0.0</td><td>0.0</td><td>0.0</td><td>0.0</td><td>0.0</td><td>0.0</td><td>0.0</td><td>0.0</td><td>0.0</td><td>0.0</td><td>0.0</td><td>0.0</td><td>0.0</td><td>0.0</td><td>0.0</td><td>0.0</td><td>0.0</td><td>0.0</td><td>0.0</td><td>0.0</td></tr><tr><td>&quot;mean&quot;</td><td>null</td><td>0.096065</td><td>11.926472</td><td>0.047784</td><td>0.14615</td><td>0.147031</td><td>0.13945</td><td>0.046819</td><td>0.047355</td><td>0.143788</td><td>0.13871</td><td>0.142913</td><td>8.236099</td><td>0.192198</td><td>0.695743</td><td>79.314833</td><td>24.489425</td><td>7.481751</td><td>0.001378</td><td>0.000019</td><td>0.000232</td><td>0.000034</td><td>0.00008</td><td>0.000002</td><td>0.000011</td><td>0.001287</td><td>0.000058</td><td>0.000243</td><td>0.011157</td><td>0.00013</td><td>0.000009</td><td>0.000054</td><td>0.000113</td><td>0.00003</td><td>0.00044</td><td>0.000051</td><td>0.000034</td><td>0.000027</td><td>0.000047</td><td>8.277045</td></tr><tr><td>&quot;std&quot;</td><td>null</td><td>0.107277</td><td>6.912417</td><td>null</td><td>null</td><td>null</td><td>null</td><td>null</td><td>null</td><td>null</td><td>null</td><td>null</td><td>2.906333</td><td>0.990758</td><td>7.437724</td><td>18.036637</td><td>77.925658</td><td>8.086336</td><td>null</td><td>null</td><td>null</td><td>null</td><td>null</td><td>null</td><td>null</td><td>null</td><td>null</td><td>null</td><td>null</td><td>null</td><td>null</td><td>null</td><td>null</td><td>null</td><td>null</td><td>null</td><td>null</td><td>null</td><td>null</td><td>2.99639</td></tr><tr><td>&quot;min&quot;</td><td>&quot;p01_0&quot;</td><td>0.083333</td><td>0.0</td><td>0.0</td><td>0.0</td><td>0.0</td><td>0.0</td><td>0.0</td><td>0.0</td><td>0.0</td><td>0.0</td><td>0.0</td><td>2.2</td><td>-0.3078</td><td>0.0</td><td>37.6</td><td>0.0</td><td>0.0</td><td>0.0</td><td>0.0</td><td>0.0</td><td>0.0</td><td>0.0</td><td>0.0</td><td>0.0</td><td>0.0</td><td>0.0</td><td>0.0</td><td>0.0</td><td>0.0</td><td>0.0</td><td>0.0</td><td>0.0</td><td>0.0</td><td>0.0</td><td>0.0</td><td>0.0</td><td>0.0</td><td>0.0</td><td>2.2</td></tr><tr><td>&quot;25%&quot;</td><td>null</td><td>0.083333</td><td>5.916667</td><td>null</td><td>null</td><td>null</td><td>null</td><td>null</td><td>null</td><td>null</td><td>null</td><td>null</td><td>6.1</td><td>0.0292</td><td>0.0</td><td>64.8</td><td>0.0</td><td>4.55</td><td>null</td><td>null</td><td>null</td><td>null</td><td>null</td><td>null</td><td>null</td><td>null</td><td>null</td><td>null</td><td>null</td><td>null</td><td>null</td><td>null</td><td>null</td><td>null</td><td>null</td><td>null</td><td>null</td><td>null</td><td>null</td><td>6.1</td></tr><tr><td>&quot;50%&quot;</td><td>null</td><td>0.083333</td><td>11.916667</td><td>null</td><td>null</td><td>null</td><td>null</td><td>null</td><td>null</td><td>null</td><td>null</td><td>null</td><td>7.6</td><td>0.0729</td><td>0.0</td><td>77.5</td><td>0.0</td><td>5.95</td><td>null</td><td>null</td><td>null</td><td>null</td><td>null</td><td>null</td><td>null</td><td>null</td><td>null</td><td>null</td><td>null</td><td>null</td><td>null</td><td>null</td><td>null</td><td>null</td><td>null</td><td>null</td><td>null</td><td>null</td><td>null</td><td>7.7</td></tr><tr><td>&quot;75%&quot;</td><td>null</td><td>0.083333</td><td>17.916667</td><td>null</td><td>null</td><td>null</td><td>null</td><td>null</td><td>null</td><td>null</td><td>null</td><td>null</td><td>9.8</td><td>0.1083</td><td>0.0</td><td>90.0</td><td>6.0</td><td>7.7</td><td>null</td><td>null</td><td>null</td><td>null</td><td>null</td><td>null</td><td>null</td><td>null</td><td>null</td><td>null</td><td>null</td><td>null</td><td>null</td><td>null</td><td>null</td><td>null</td><td>null</td><td>null</td><td>null</td><td>null</td><td>null</td><td>9.9</td></tr><tr><td>&quot;max&quot;</td><td>&quot;p12_9999&quot;</td><td>1.0</td><td>24.0</td><td>1.0</td><td>1.0</td><td>1.0</td><td>1.0</td><td>1.0</td><td>1.0</td><td>1.0</td><td>1.0</td><td>1.0</td><td>27.8</td><td>46.311</td><td>852.0</td><td>185.3</td><td>1359.0</td><td>116.1</td><td>1.0</td><td>1.0</td><td>1.0</td><td>1.0</td><td>1.0</td><td>1.0</td><td>1.0</td><td>1.0</td><td>1.0</td><td>1.0</td><td>1.0</td><td>1.0</td><td>1.0</td><td>1.0</td><td>1.0</td><td>1.0</td><td>1.0</td><td>1.0</td><td>1.0</td><td>1.0</td><td>1.0</td><td>27.8</td></tr></tbody></table></div>"
      ],
      "text/plain": [
       "shape: (9, 41)\n",
       "┌───────────┬──────────┬───────────┬───────────┬───┬───────────┬───────────┬───────────┬───────────┐\n",
       "│ statistic ┆ id       ┆ time_delt ┆ time      ┆ … ┆ Swimming  ┆ Weights   ┆ Running   ┆ bg+1:00   │\n",
       "│ ---       ┆ ---      ┆ a         ┆ ---       ┆   ┆ ---       ┆ ---       ┆ ---       ┆ ---       │\n",
       "│ str       ┆ str      ┆ ---       ┆ f64       ┆   ┆ f64       ┆ f64       ┆ f64       ┆ f64       │\n",
       "│           ┆          ┆ f64       ┆           ┆   ┆           ┆           ┆           ┆           │\n",
       "╞═══════════╪══════════╪═══════════╪═══════════╪═══╪═══════════╪═══════════╪═══════════╪═══════════╡\n",
       "│ count     ┆ 12745728 ┆ 1.2745728 ┆ 1.2745728 ┆ … ┆ 1.2745728 ┆ 1.2745728 ┆ 1.2745728 ┆ 1.2745728 │\n",
       "│           ┆          ┆ e7        ┆ e7        ┆   ┆ e7        ┆ e7        ┆ e7        ┆ e7        │\n",
       "│ null_coun ┆ 0        ┆ 0.0       ┆ 0.0       ┆ … ┆ 0.0       ┆ 0.0       ┆ 0.0       ┆ 0.0       │\n",
       "│ t         ┆          ┆           ┆           ┆   ┆           ┆           ┆           ┆           │\n",
       "│ mean      ┆ null     ┆ 0.096065  ┆ 11.926472 ┆ … ┆ 0.000034  ┆ 0.000027  ┆ 0.000047  ┆ 8.277045  │\n",
       "│ std       ┆ null     ┆ 0.107277  ┆ 6.912417  ┆ … ┆ null      ┆ null      ┆ null      ┆ 2.99639   │\n",
       "│ min       ┆ p01_0    ┆ 0.083333  ┆ 0.0       ┆ … ┆ 0.0       ┆ 0.0       ┆ 0.0       ┆ 2.2       │\n",
       "│ 25%       ┆ null     ┆ 0.083333  ┆ 5.916667  ┆ … ┆ null      ┆ null      ┆ null      ┆ 6.1       │\n",
       "│ 50%       ┆ null     ┆ 0.083333  ┆ 11.916667 ┆ … ┆ null      ┆ null      ┆ null      ┆ 7.7       │\n",
       "│ 75%       ┆ null     ┆ 0.083333  ┆ 17.916667 ┆ … ┆ null      ┆ null      ┆ null      ┆ 9.9       │\n",
       "│ max       ┆ p12_9999 ┆ 1.0       ┆ 24.0      ┆ … ┆ 1.0       ┆ 1.0       ┆ 1.0       ┆ 27.8      │\n",
       "└───────────┴──────────┴───────────┴───────────┴───┴───────────┴───────────┴───────────┴───────────┘"
      ]
     },
     "execution_count": 15,
     "metadata": {},
     "output_type": "execute_result"
    }
   ],
   "source": [
    "output_file = '../../data/lstm_train.csv'\n",
    "lstm_df = pl.read_csv(output_file, schema_overrides=lstm_train_schema)\n",
    "lstm_df.describe()"
   ]
  },
  {
   "cell_type": "markdown",
   "metadata": {},
   "source": [
    "Training xgboost to predict missing heart rate values"
   ]
  },
  {
   "cell_type": "code",
   "execution_count": 16,
   "metadata": {},
   "outputs": [
    {
     "data": {
      "text/html": [
       "<style>#sk-container-id-1 {\n",
       "  /* Definition of color scheme common for light and dark mode */\n",
       "  --sklearn-color-text: black;\n",
       "  --sklearn-color-line: gray;\n",
       "  /* Definition of color scheme for unfitted estimators */\n",
       "  --sklearn-color-unfitted-level-0: #fff5e6;\n",
       "  --sklearn-color-unfitted-level-1: #f6e4d2;\n",
       "  --sklearn-color-unfitted-level-2: #ffe0b3;\n",
       "  --sklearn-color-unfitted-level-3: chocolate;\n",
       "  /* Definition of color scheme for fitted estimators */\n",
       "  --sklearn-color-fitted-level-0: #f0f8ff;\n",
       "  --sklearn-color-fitted-level-1: #d4ebff;\n",
       "  --sklearn-color-fitted-level-2: #b3dbfd;\n",
       "  --sklearn-color-fitted-level-3: cornflowerblue;\n",
       "\n",
       "  /* Specific color for light theme */\n",
       "  --sklearn-color-text-on-default-background: var(--sg-text-color, var(--theme-code-foreground, var(--jp-content-font-color1, black)));\n",
       "  --sklearn-color-background: var(--sg-background-color, var(--theme-background, var(--jp-layout-color0, white)));\n",
       "  --sklearn-color-border-box: var(--sg-text-color, var(--theme-code-foreground, var(--jp-content-font-color1, black)));\n",
       "  --sklearn-color-icon: #696969;\n",
       "\n",
       "  @media (prefers-color-scheme: dark) {\n",
       "    /* Redefinition of color scheme for dark theme */\n",
       "    --sklearn-color-text-on-default-background: var(--sg-text-color, var(--theme-code-foreground, var(--jp-content-font-color1, white)));\n",
       "    --sklearn-color-background: var(--sg-background-color, var(--theme-background, var(--jp-layout-color0, #111)));\n",
       "    --sklearn-color-border-box: var(--sg-text-color, var(--theme-code-foreground, var(--jp-content-font-color1, white)));\n",
       "    --sklearn-color-icon: #878787;\n",
       "  }\n",
       "}\n",
       "\n",
       "#sk-container-id-1 {\n",
       "  color: var(--sklearn-color-text);\n",
       "}\n",
       "\n",
       "#sk-container-id-1 pre {\n",
       "  padding: 0;\n",
       "}\n",
       "\n",
       "#sk-container-id-1 input.sk-hidden--visually {\n",
       "  border: 0;\n",
       "  clip: rect(1px 1px 1px 1px);\n",
       "  clip: rect(1px, 1px, 1px, 1px);\n",
       "  height: 1px;\n",
       "  margin: -1px;\n",
       "  overflow: hidden;\n",
       "  padding: 0;\n",
       "  position: absolute;\n",
       "  width: 1px;\n",
       "}\n",
       "\n",
       "#sk-container-id-1 div.sk-dashed-wrapped {\n",
       "  border: 1px dashed var(--sklearn-color-line);\n",
       "  margin: 0 0.4em 0.5em 0.4em;\n",
       "  box-sizing: border-box;\n",
       "  padding-bottom: 0.4em;\n",
       "  background-color: var(--sklearn-color-background);\n",
       "}\n",
       "\n",
       "#sk-container-id-1 div.sk-container {\n",
       "  /* jupyter's `normalize.less` sets `[hidden] { display: none; }`\n",
       "     but bootstrap.min.css set `[hidden] { display: none !important; }`\n",
       "     so we also need the `!important` here to be able to override the\n",
       "     default hidden behavior on the sphinx rendered scikit-learn.org.\n",
       "     See: https://github.com/scikit-learn/scikit-learn/issues/21755 */\n",
       "  display: inline-block !important;\n",
       "  position: relative;\n",
       "}\n",
       "\n",
       "#sk-container-id-1 div.sk-text-repr-fallback {\n",
       "  display: none;\n",
       "}\n",
       "\n",
       "div.sk-parallel-item,\n",
       "div.sk-serial,\n",
       "div.sk-item {\n",
       "  /* draw centered vertical line to link estimators */\n",
       "  background-image: linear-gradient(var(--sklearn-color-text-on-default-background), var(--sklearn-color-text-on-default-background));\n",
       "  background-size: 2px 100%;\n",
       "  background-repeat: no-repeat;\n",
       "  background-position: center center;\n",
       "}\n",
       "\n",
       "/* Parallel-specific style estimator block */\n",
       "\n",
       "#sk-container-id-1 div.sk-parallel-item::after {\n",
       "  content: \"\";\n",
       "  width: 100%;\n",
       "  border-bottom: 2px solid var(--sklearn-color-text-on-default-background);\n",
       "  flex-grow: 1;\n",
       "}\n",
       "\n",
       "#sk-container-id-1 div.sk-parallel {\n",
       "  display: flex;\n",
       "  align-items: stretch;\n",
       "  justify-content: center;\n",
       "  background-color: var(--sklearn-color-background);\n",
       "  position: relative;\n",
       "}\n",
       "\n",
       "#sk-container-id-1 div.sk-parallel-item {\n",
       "  display: flex;\n",
       "  flex-direction: column;\n",
       "}\n",
       "\n",
       "#sk-container-id-1 div.sk-parallel-item:first-child::after {\n",
       "  align-self: flex-end;\n",
       "  width: 50%;\n",
       "}\n",
       "\n",
       "#sk-container-id-1 div.sk-parallel-item:last-child::after {\n",
       "  align-self: flex-start;\n",
       "  width: 50%;\n",
       "}\n",
       "\n",
       "#sk-container-id-1 div.sk-parallel-item:only-child::after {\n",
       "  width: 0;\n",
       "}\n",
       "\n",
       "/* Serial-specific style estimator block */\n",
       "\n",
       "#sk-container-id-1 div.sk-serial {\n",
       "  display: flex;\n",
       "  flex-direction: column;\n",
       "  align-items: center;\n",
       "  background-color: var(--sklearn-color-background);\n",
       "  padding-right: 1em;\n",
       "  padding-left: 1em;\n",
       "}\n",
       "\n",
       "\n",
       "/* Toggleable style: style used for estimator/Pipeline/ColumnTransformer box that is\n",
       "clickable and can be expanded/collapsed.\n",
       "- Pipeline and ColumnTransformer use this feature and define the default style\n",
       "- Estimators will overwrite some part of the style using the `sk-estimator` class\n",
       "*/\n",
       "\n",
       "/* Pipeline and ColumnTransformer style (default) */\n",
       "\n",
       "#sk-container-id-1 div.sk-toggleable {\n",
       "  /* Default theme specific background. It is overwritten whether we have a\n",
       "  specific estimator or a Pipeline/ColumnTransformer */\n",
       "  background-color: var(--sklearn-color-background);\n",
       "}\n",
       "\n",
       "/* Toggleable label */\n",
       "#sk-container-id-1 label.sk-toggleable__label {\n",
       "  cursor: pointer;\n",
       "  display: block;\n",
       "  width: 100%;\n",
       "  margin-bottom: 0;\n",
       "  padding: 0.5em;\n",
       "  box-sizing: border-box;\n",
       "  text-align: center;\n",
       "}\n",
       "\n",
       "#sk-container-id-1 label.sk-toggleable__label-arrow:before {\n",
       "  /* Arrow on the left of the label */\n",
       "  content: \"▸\";\n",
       "  float: left;\n",
       "  margin-right: 0.25em;\n",
       "  color: var(--sklearn-color-icon);\n",
       "}\n",
       "\n",
       "#sk-container-id-1 label.sk-toggleable__label-arrow:hover:before {\n",
       "  color: var(--sklearn-color-text);\n",
       "}\n",
       "\n",
       "/* Toggleable content - dropdown */\n",
       "\n",
       "#sk-container-id-1 div.sk-toggleable__content {\n",
       "  max-height: 0;\n",
       "  max-width: 0;\n",
       "  overflow: hidden;\n",
       "  text-align: left;\n",
       "  /* unfitted */\n",
       "  background-color: var(--sklearn-color-unfitted-level-0);\n",
       "}\n",
       "\n",
       "#sk-container-id-1 div.sk-toggleable__content.fitted {\n",
       "  /* fitted */\n",
       "  background-color: var(--sklearn-color-fitted-level-0);\n",
       "}\n",
       "\n",
       "#sk-container-id-1 div.sk-toggleable__content pre {\n",
       "  margin: 0.2em;\n",
       "  border-radius: 0.25em;\n",
       "  color: var(--sklearn-color-text);\n",
       "  /* unfitted */\n",
       "  background-color: var(--sklearn-color-unfitted-level-0);\n",
       "}\n",
       "\n",
       "#sk-container-id-1 div.sk-toggleable__content.fitted pre {\n",
       "  /* unfitted */\n",
       "  background-color: var(--sklearn-color-fitted-level-0);\n",
       "}\n",
       "\n",
       "#sk-container-id-1 input.sk-toggleable__control:checked~div.sk-toggleable__content {\n",
       "  /* Expand drop-down */\n",
       "  max-height: 200px;\n",
       "  max-width: 100%;\n",
       "  overflow: auto;\n",
       "}\n",
       "\n",
       "#sk-container-id-1 input.sk-toggleable__control:checked~label.sk-toggleable__label-arrow:before {\n",
       "  content: \"▾\";\n",
       "}\n",
       "\n",
       "/* Pipeline/ColumnTransformer-specific style */\n",
       "\n",
       "#sk-container-id-1 div.sk-label input.sk-toggleable__control:checked~label.sk-toggleable__label {\n",
       "  color: var(--sklearn-color-text);\n",
       "  background-color: var(--sklearn-color-unfitted-level-2);\n",
       "}\n",
       "\n",
       "#sk-container-id-1 div.sk-label.fitted input.sk-toggleable__control:checked~label.sk-toggleable__label {\n",
       "  background-color: var(--sklearn-color-fitted-level-2);\n",
       "}\n",
       "\n",
       "/* Estimator-specific style */\n",
       "\n",
       "/* Colorize estimator box */\n",
       "#sk-container-id-1 div.sk-estimator input.sk-toggleable__control:checked~label.sk-toggleable__label {\n",
       "  /* unfitted */\n",
       "  background-color: var(--sklearn-color-unfitted-level-2);\n",
       "}\n",
       "\n",
       "#sk-container-id-1 div.sk-estimator.fitted input.sk-toggleable__control:checked~label.sk-toggleable__label {\n",
       "  /* fitted */\n",
       "  background-color: var(--sklearn-color-fitted-level-2);\n",
       "}\n",
       "\n",
       "#sk-container-id-1 div.sk-label label.sk-toggleable__label,\n",
       "#sk-container-id-1 div.sk-label label {\n",
       "  /* The background is the default theme color */\n",
       "  color: var(--sklearn-color-text-on-default-background);\n",
       "}\n",
       "\n",
       "/* On hover, darken the color of the background */\n",
       "#sk-container-id-1 div.sk-label:hover label.sk-toggleable__label {\n",
       "  color: var(--sklearn-color-text);\n",
       "  background-color: var(--sklearn-color-unfitted-level-2);\n",
       "}\n",
       "\n",
       "/* Label box, darken color on hover, fitted */\n",
       "#sk-container-id-1 div.sk-label.fitted:hover label.sk-toggleable__label.fitted {\n",
       "  color: var(--sklearn-color-text);\n",
       "  background-color: var(--sklearn-color-fitted-level-2);\n",
       "}\n",
       "\n",
       "/* Estimator label */\n",
       "\n",
       "#sk-container-id-1 div.sk-label label {\n",
       "  font-family: monospace;\n",
       "  font-weight: bold;\n",
       "  display: inline-block;\n",
       "  line-height: 1.2em;\n",
       "}\n",
       "\n",
       "#sk-container-id-1 div.sk-label-container {\n",
       "  text-align: center;\n",
       "}\n",
       "\n",
       "/* Estimator-specific */\n",
       "#sk-container-id-1 div.sk-estimator {\n",
       "  font-family: monospace;\n",
       "  border: 1px dotted var(--sklearn-color-border-box);\n",
       "  border-radius: 0.25em;\n",
       "  box-sizing: border-box;\n",
       "  margin-bottom: 0.5em;\n",
       "  /* unfitted */\n",
       "  background-color: var(--sklearn-color-unfitted-level-0);\n",
       "}\n",
       "\n",
       "#sk-container-id-1 div.sk-estimator.fitted {\n",
       "  /* fitted */\n",
       "  background-color: var(--sklearn-color-fitted-level-0);\n",
       "}\n",
       "\n",
       "/* on hover */\n",
       "#sk-container-id-1 div.sk-estimator:hover {\n",
       "  /* unfitted */\n",
       "  background-color: var(--sklearn-color-unfitted-level-2);\n",
       "}\n",
       "\n",
       "#sk-container-id-1 div.sk-estimator.fitted:hover {\n",
       "  /* fitted */\n",
       "  background-color: var(--sklearn-color-fitted-level-2);\n",
       "}\n",
       "\n",
       "/* Specification for estimator info (e.g. \"i\" and \"?\") */\n",
       "\n",
       "/* Common style for \"i\" and \"?\" */\n",
       "\n",
       ".sk-estimator-doc-link,\n",
       "a:link.sk-estimator-doc-link,\n",
       "a:visited.sk-estimator-doc-link {\n",
       "  float: right;\n",
       "  font-size: smaller;\n",
       "  line-height: 1em;\n",
       "  font-family: monospace;\n",
       "  background-color: var(--sklearn-color-background);\n",
       "  border-radius: 1em;\n",
       "  height: 1em;\n",
       "  width: 1em;\n",
       "  text-decoration: none !important;\n",
       "  margin-left: 1ex;\n",
       "  /* unfitted */\n",
       "  border: var(--sklearn-color-unfitted-level-1) 1pt solid;\n",
       "  color: var(--sklearn-color-unfitted-level-1);\n",
       "}\n",
       "\n",
       ".sk-estimator-doc-link.fitted,\n",
       "a:link.sk-estimator-doc-link.fitted,\n",
       "a:visited.sk-estimator-doc-link.fitted {\n",
       "  /* fitted */\n",
       "  border: var(--sklearn-color-fitted-level-1) 1pt solid;\n",
       "  color: var(--sklearn-color-fitted-level-1);\n",
       "}\n",
       "\n",
       "/* On hover */\n",
       "div.sk-estimator:hover .sk-estimator-doc-link:hover,\n",
       ".sk-estimator-doc-link:hover,\n",
       "div.sk-label-container:hover .sk-estimator-doc-link:hover,\n",
       ".sk-estimator-doc-link:hover {\n",
       "  /* unfitted */\n",
       "  background-color: var(--sklearn-color-unfitted-level-3);\n",
       "  color: var(--sklearn-color-background);\n",
       "  text-decoration: none;\n",
       "}\n",
       "\n",
       "div.sk-estimator.fitted:hover .sk-estimator-doc-link.fitted:hover,\n",
       ".sk-estimator-doc-link.fitted:hover,\n",
       "div.sk-label-container:hover .sk-estimator-doc-link.fitted:hover,\n",
       ".sk-estimator-doc-link.fitted:hover {\n",
       "  /* fitted */\n",
       "  background-color: var(--sklearn-color-fitted-level-3);\n",
       "  color: var(--sklearn-color-background);\n",
       "  text-decoration: none;\n",
       "}\n",
       "\n",
       "/* Span, style for the box shown on hovering the info icon */\n",
       ".sk-estimator-doc-link span {\n",
       "  display: none;\n",
       "  z-index: 9999;\n",
       "  position: relative;\n",
       "  font-weight: normal;\n",
       "  right: .2ex;\n",
       "  padding: .5ex;\n",
       "  margin: .5ex;\n",
       "  width: min-content;\n",
       "  min-width: 20ex;\n",
       "  max-width: 50ex;\n",
       "  color: var(--sklearn-color-text);\n",
       "  box-shadow: 2pt 2pt 4pt #999;\n",
       "  /* unfitted */\n",
       "  background: var(--sklearn-color-unfitted-level-0);\n",
       "  border: .5pt solid var(--sklearn-color-unfitted-level-3);\n",
       "}\n",
       "\n",
       ".sk-estimator-doc-link.fitted span {\n",
       "  /* fitted */\n",
       "  background: var(--sklearn-color-fitted-level-0);\n",
       "  border: var(--sklearn-color-fitted-level-3);\n",
       "}\n",
       "\n",
       ".sk-estimator-doc-link:hover span {\n",
       "  display: block;\n",
       "}\n",
       "\n",
       "/* \"?\"-specific style due to the `<a>` HTML tag */\n",
       "\n",
       "#sk-container-id-1 a.estimator_doc_link {\n",
       "  float: right;\n",
       "  font-size: 1rem;\n",
       "  line-height: 1em;\n",
       "  font-family: monospace;\n",
       "  background-color: var(--sklearn-color-background);\n",
       "  border-radius: 1rem;\n",
       "  height: 1rem;\n",
       "  width: 1rem;\n",
       "  text-decoration: none;\n",
       "  /* unfitted */\n",
       "  color: var(--sklearn-color-unfitted-level-1);\n",
       "  border: var(--sklearn-color-unfitted-level-1) 1pt solid;\n",
       "}\n",
       "\n",
       "#sk-container-id-1 a.estimator_doc_link.fitted {\n",
       "  /* fitted */\n",
       "  border: var(--sklearn-color-fitted-level-1) 1pt solid;\n",
       "  color: var(--sklearn-color-fitted-level-1);\n",
       "}\n",
       "\n",
       "/* On hover */\n",
       "#sk-container-id-1 a.estimator_doc_link:hover {\n",
       "  /* unfitted */\n",
       "  background-color: var(--sklearn-color-unfitted-level-3);\n",
       "  color: var(--sklearn-color-background);\n",
       "  text-decoration: none;\n",
       "}\n",
       "\n",
       "#sk-container-id-1 a.estimator_doc_link.fitted:hover {\n",
       "  /* fitted */\n",
       "  background-color: var(--sklearn-color-fitted-level-3);\n",
       "}\n",
       "</style><div id=\"sk-container-id-1\" class=\"sk-top-container\"><div class=\"sk-text-repr-fallback\"><pre>XGBRegressor(base_score=None, booster=None, callbacks=None,\n",
       "             colsample_bylevel=None, colsample_bynode=None,\n",
       "             colsample_bytree=0.8, device=&#x27;cuda&#x27;, early_stopping_rounds=None,\n",
       "             enable_categorical=False, eval_metric=None, feature_types=None,\n",
       "             gamma=None, grow_policy=None, importance_type=None,\n",
       "             interaction_constraints=None, learning_rate=0.2, max_bin=None,\n",
       "             max_cat_threshold=None, max_cat_to_onehot=None,\n",
       "             max_delta_step=None, max_depth=10, max_leaves=None,\n",
       "             min_child_weight=None, missing=nan, monotone_constraints=None,\n",
       "             multi_strategy=None, n_estimators=200, n_jobs=-1,\n",
       "             num_parallel_tree=None, random_state=42, ...)</pre><b>In a Jupyter environment, please rerun this cell to show the HTML representation or trust the notebook. <br />On GitHub, the HTML representation is unable to render, please try loading this page with nbviewer.org.</b></div><div class=\"sk-container\" hidden><div class=\"sk-item\"><div class=\"sk-estimator fitted sk-toggleable\"><input class=\"sk-toggleable__control sk-hidden--visually\" id=\"sk-estimator-id-1\" type=\"checkbox\" checked><label for=\"sk-estimator-id-1\" class=\"sk-toggleable__label fitted sk-toggleable__label-arrow fitted\">&nbsp;XGBRegressor<span class=\"sk-estimator-doc-link fitted\">i<span>Fitted</span></span></label><div class=\"sk-toggleable__content fitted\"><pre>XGBRegressor(base_score=None, booster=None, callbacks=None,\n",
       "             colsample_bylevel=None, colsample_bynode=None,\n",
       "             colsample_bytree=0.8, device=&#x27;cuda&#x27;, early_stopping_rounds=None,\n",
       "             enable_categorical=False, eval_metric=None, feature_types=None,\n",
       "             gamma=None, grow_policy=None, importance_type=None,\n",
       "             interaction_constraints=None, learning_rate=0.2, max_bin=None,\n",
       "             max_cat_threshold=None, max_cat_to_onehot=None,\n",
       "             max_delta_step=None, max_depth=10, max_leaves=None,\n",
       "             min_child_weight=None, missing=nan, monotone_constraints=None,\n",
       "             multi_strategy=None, n_estimators=200, n_jobs=-1,\n",
       "             num_parallel_tree=None, random_state=42, ...)</pre></div> </div></div></div></div>"
      ],
      "text/plain": [
       "XGBRegressor(base_score=None, booster=None, callbacks=None,\n",
       "             colsample_bylevel=None, colsample_bynode=None,\n",
       "             colsample_bytree=0.8, device='cuda', early_stopping_rounds=None,\n",
       "             enable_categorical=False, eval_metric=None, feature_types=None,\n",
       "             gamma=None, grow_policy=None, importance_type=None,\n",
       "             interaction_constraints=None, learning_rate=0.2, max_bin=None,\n",
       "             max_cat_threshold=None, max_cat_to_onehot=None,\n",
       "             max_delta_step=None, max_depth=10, max_leaves=None,\n",
       "             min_child_weight=None, missing=nan, monotone_constraints=None,\n",
       "             multi_strategy=None, n_estimators=200, n_jobs=-1,\n",
       "             num_parallel_tree=None, random_state=42, ...)"
      ]
     },
     "execution_count": 16,
     "metadata": {},
     "output_type": "execute_result"
    }
   ],
   "source": [
    "import polars as pl\n",
    "import numpy as np\n",
    "import xgboost as xgb\n",
    "from sklearn.model_selection import KFold, RandomizedSearchCV\n",
    "from sklearn.metrics import mean_squared_error\n",
    "\n",
    "best_params = { # obtained from hyperparameter tuning on google colab\n",
    "    'subsample': 1.0,\n",
    "    'n_estimators': 200,\n",
    "    'max_depth': 10,\n",
    "    'learning_rate': 0.2,\n",
    "    'colsample_bytree': 0.8\n",
    "}\n",
    "\n",
    "final_model = xgb.XGBRegressor(\n",
    "    objective=\"reg:squarederror\",\n",
    "    random_state=42,\n",
    "    n_jobs=-1,\n",
    "    tree_method='hist',\n",
    "    device='cuda',\n",
    "    **best_params\n",
    ")\n",
    "\n",
    "feature_cols = [\n",
    "    'time', 'Run', 'Strength training', 'Swim', 'Bike', 'Dancing',\n",
    "    'Stairclimber', 'Spinning', 'Walking', 'HIIT', 'Outdoor Bike',\n",
    "    'Walk', 'Aerobic Workout', 'Tennis', 'Workout', 'Hike',\n",
    "    'Zumba', 'Sport', 'Yoga', 'Swimming', 'Weights', 'Running',\n",
    "    'p_num_p01', 'p_num_p02', 'p_num_p03', 'p_num_p04',\n",
    "    'p_num_p05', 'p_num_p06', 'p_num_p10', 'p_num_p11', 'p_num_p12'\n",
    "]\n",
    "\n",
    "df_clean = lstm_df.filter(pl.col('hr').is_not_null())\n",
    "X = df_clean.select(feature_cols)\n",
    "y = df_clean.select('hr')\n",
    "X_np = X.to_numpy()\n",
    "y_np = y.to_numpy().ravel()\n",
    "\n",
    "final_model.fit(X_np, y_np)"
   ]
  },
  {
   "cell_type": "code",
   "execution_count": 17,
   "metadata": {},
   "outputs": [
    {
     "name": "stderr",
     "output_type": "stream",
     "text": [
      "/home/jamie/Documents/bloodGlucosePrediciton/bg_pred/lib/python3.12/site-packages/xgboost/core.py:158: UserWarning: [16:01:51] WARNING: /workspace/src/common/error_msg.cc:58: Falling back to prediction using DMatrix due to mismatched devices. This might lead to higher memory usage and slower performance. XGBoost is running on: cuda:0, while the input data is on: cpu.\n",
      "Potential solutions:\n",
      "- Use a data structure that matches the device ordinal in the booster.\n",
      "- Set the device for booster before call to inplace_predict.\n",
      "\n",
      "This warning will only be shown once.\n",
      "\n",
      "  warnings.warn(smsg, UserWarning)\n"
     ]
    }
   ],
   "source": [
    "df_missing_hr = lstm_df.filter(pl.col('hr').is_null())\n",
    "\n",
    "X_missing = df_missing_hr.select(feature_cols)\n",
    "X_missing_np = X_missing.to_numpy()\n",
    "\n",
    "predicted_hr = final_model.predict(X_missing_np)\n",
    "predicted_hr_lst = [hr for hr in predicted_hr]\n"
   ]
  },
  {
   "cell_type": "markdown",
   "metadata": {},
   "source": [
    "Switch to pandas to imputate the predictions"
   ]
  },
  {
   "cell_type": "code",
   "execution_count": 18,
   "metadata": {},
   "outputs": [
    {
     "name": "stdout",
     "output_type": "stream",
     "text": [
      "Number of missing 'hr' values: 3709094\n"
     ]
    }
   ],
   "source": [
    "lstm_pd = lstm_df.to_pandas()\n",
    "\n",
    "predicted_hr_lst_copy = pd.Series(predicted_hr_lst)\n",
    "\n",
    "missing_mask = lstm_pd['hr'].isnull() \n",
    "missing_count = missing_mask.sum()\n",
    "print(f\"Number of missing 'hr' values: {missing_count}\")\n",
    "\n",
    "if missing_count > 0:\n",
    "    lstm_pd.loc[missing_mask, 'hr'] = predicted_hr_lst_copy[:missing_count].values\n",
    "\n",
    "lstm_pd.to_csv(\"../../data/lstm_hr_train.csv\", index=False)"
   ]
  },
  {
   "cell_type": "code",
   "execution_count": 5,
   "metadata": {},
   "outputs": [],
   "source": [
    "\n",
    "lstm__train_features = [\n",
    "    'id', 'p_num_p01', 'p_num_p02', 'p_num_p03', 'p_num_p04', 'p_num_p05', 'p_num_p06',\n",
    "    'p_num_p10', 'p_num_p11', 'p_num_p12', 'p_num_p15', 'p_num_p16', 'p_num_p18', 'p_num_p19',\n",
    "    'p_num_p21', 'p_num_p22', 'p_num_p24','bg', 'insulin', 'carbs', 'hr', 'steps', \n",
    "    'cals', 'Run', 'Strength training', 'Swim', 'Bike', 'Dancing', 'Stairclimber', \n",
    "    'Spinning', 'Walking', 'HIIT', 'Outdoor Bike', 'Walk', 'Aerobic Workout', 'Tennis', \n",
    "    'Workout', 'Hike', 'Zumba', 'Sport', 'Yoga', 'Swimming', 'Weights', 'Running'\n",
    "]\n",
    "lstm_target = ['bg+1:00']\n",
    "\n",
    "lstm_train_schema = {\n",
    "    'id': pl.String,\n",
    "    'time_delta': pl.Float64,\n",
    "    'time': pl.Float64,  \n",
    "    'p_num_p01': pl.Boolean, \n",
    "    'p_num_p02': pl.Boolean,\n",
    "    'p_num_p03': pl.Boolean,\n",
    "    'p_num_p04': pl.Boolean,\n",
    "    'p_num_p05': pl.Boolean,\n",
    "    'p_num_p06': pl.Boolean,\n",
    "    'p_num_p10': pl.Boolean,\n",
    "    'p_num_p11': pl.Boolean,\n",
    "    'p_num_p12': pl.Boolean,\n",
    "    'p_num_p15': pl.Boolean,\n",
    "    'p_num_p16': pl.Boolean,\n",
    "    'p_num_p18': pl.Boolean,\n",
    "    'p_num_p19': pl.Boolean,\n",
    "    'p_num_p21': pl.Boolean,\n",
    "    'p_num_p22': pl.Boolean,\n",
    "    'p_num_p24': pl.Boolean,\n",
    "    'bg': pl.Float64,  \n",
    "    'insulin': pl.Float64,\n",
    "    'carbs': pl.Float64,\n",
    "    'hr': pl.Float64,  \n",
    "    'steps': pl.Float64, \n",
    "    'cals': pl.Float64,\n",
    "    'Run': pl.Boolean,\n",
    "    'Strength training': pl.Boolean,\n",
    "    'Swim': pl.Boolean,\n",
    "    'Bike': pl.Boolean,\n",
    "    'Dancing': pl.Boolean,\n",
    "    'Stairclimber': pl.Boolean,\n",
    "    'Spinning': pl.Boolean,\n",
    "    'Walking': pl.Boolean,\n",
    "    'HIIT': pl.Boolean,\n",
    "    'Outdoor Bike': pl.Boolean,\n",
    "    'Walk': pl.Boolean,\n",
    "    'Aerobic Workout': pl.Boolean,\n",
    "    'Tennis': pl.Boolean,\n",
    "    'Workout': pl.Boolean,\n",
    "    'Hike': pl.Boolean,\n",
    "    'Zumba': pl.Boolean,\n",
    "    'Sport': pl.Boolean,\n",
    "    'Yoga': pl.Boolean,\n",
    "    'Swimming': pl.Boolean,\n",
    "    'Weights': pl.Boolean,\n",
    "    'Running': pl.Boolean,\n",
    "    'bg+1:00': pl.Float64\n",
    "}\n",
    "lstm_test_schema = lstm_train_schema.copy()\n",
    "del lstm_test_schema['bg+1:00']"
   ]
  },
  {
   "cell_type": "code",
   "execution_count": 6,
   "metadata": {},
   "outputs": [
    {
     "data": {
      "text/html": [
       "<div><style>\n",
       ".dataframe > thead > tr,\n",
       ".dataframe > tbody > tr {\n",
       "  text-align: right;\n",
       "  white-space: pre-wrap;\n",
       "}\n",
       "</style>\n",
       "<small>shape: (12_745_728, 47)</small><table border=\"1\" class=\"dataframe\"><thead><tr><th>id</th><th>time_delta</th><th>time</th><th>p_num_p01</th><th>p_num_p02</th><th>p_num_p03</th><th>p_num_p04</th><th>p_num_p05</th><th>p_num_p06</th><th>p_num_p10</th><th>p_num_p11</th><th>p_num_p12</th><th>p_num_p15</th><th>p_num_p16</th><th>p_num_p18</th><th>p_num_p19</th><th>p_num_p21</th><th>p_num_p22</th><th>p_num_p24</th><th>bg</th><th>insulin</th><th>carbs</th><th>hr</th><th>steps</th><th>cals</th><th>Run</th><th>Strength training</th><th>Swim</th><th>Bike</th><th>Dancing</th><th>Stairclimber</th><th>Spinning</th><th>Walking</th><th>HIIT</th><th>Outdoor Bike</th><th>Walk</th><th>Aerobic Workout</th><th>Tennis</th><th>Workout</th><th>Hike</th><th>Zumba</th><th>Sport</th><th>Yoga</th><th>Swimming</th><th>Weights</th><th>Running</th><th>bg+1:00</th></tr><tr><td>str</td><td>f64</td><td>f64</td><td>bool</td><td>bool</td><td>bool</td><td>bool</td><td>bool</td><td>bool</td><td>bool</td><td>bool</td><td>bool</td><td>bool</td><td>bool</td><td>bool</td><td>bool</td><td>bool</td><td>bool</td><td>bool</td><td>f64</td><td>f64</td><td>f64</td><td>f64</td><td>f64</td><td>f64</td><td>bool</td><td>bool</td><td>bool</td><td>bool</td><td>bool</td><td>bool</td><td>bool</td><td>bool</td><td>bool</td><td>bool</td><td>bool</td><td>bool</td><td>bool</td><td>bool</td><td>bool</td><td>bool</td><td>bool</td><td>bool</td><td>bool</td><td>bool</td><td>bool</td><td>f64</td></tr></thead><tbody><tr><td>&quot;p01_0&quot;</td><td>0.083333</td><td>0.25</td><td>true</td><td>false</td><td>false</td><td>false</td><td>false</td><td>false</td><td>false</td><td>false</td><td>false</td><td>false</td><td>false</td><td>false</td><td>false</td><td>false</td><td>false</td><td>false</td><td>null</td><td>0.0083</td><td>0.0</td><td>68.69548</td><td>0.0</td><td>0.0</td><td>false</td><td>false</td><td>false</td><td>false</td><td>false</td><td>false</td><td>false</td><td>false</td><td>false</td><td>false</td><td>false</td><td>false</td><td>false</td><td>false</td><td>false</td><td>false</td><td>false</td><td>false</td><td>false</td><td>false</td><td>false</td><td>13.4</td></tr><tr><td>&quot;p01_0&quot;</td><td>0.083333</td><td>0.333333</td><td>true</td><td>false</td><td>false</td><td>false</td><td>false</td><td>false</td><td>false</td><td>false</td><td>false</td><td>false</td><td>false</td><td>false</td><td>false</td><td>false</td><td>false</td><td>false</td><td>null</td><td>0.0083</td><td>0.0</td><td>69.027344</td><td>0.0</td><td>0.0</td><td>false</td><td>false</td><td>false</td><td>false</td><td>false</td><td>false</td><td>false</td><td>false</td><td>false</td><td>false</td><td>false</td><td>false</td><td>false</td><td>false</td><td>false</td><td>false</td><td>false</td><td>false</td><td>false</td><td>false</td><td>false</td><td>13.4</td></tr><tr><td>&quot;p01_0&quot;</td><td>0.083333</td><td>0.416667</td><td>true</td><td>false</td><td>false</td><td>false</td><td>false</td><td>false</td><td>false</td><td>false</td><td>false</td><td>false</td><td>false</td><td>false</td><td>false</td><td>false</td><td>false</td><td>false</td><td>9.6</td><td>0.0083</td><td>0.0</td><td>68.839195</td><td>0.0</td><td>0.0</td><td>false</td><td>false</td><td>false</td><td>false</td><td>false</td><td>false</td><td>false</td><td>false</td><td>false</td><td>false</td><td>false</td><td>false</td><td>false</td><td>false</td><td>false</td><td>false</td><td>false</td><td>false</td><td>false</td><td>false</td><td>false</td><td>13.4</td></tr><tr><td>&quot;p01_0&quot;</td><td>0.083333</td><td>0.5</td><td>true</td><td>false</td><td>false</td><td>false</td><td>false</td><td>false</td><td>false</td><td>false</td><td>false</td><td>false</td><td>false</td><td>false</td><td>false</td><td>false</td><td>false</td><td>false</td><td>null</td><td>0.0083</td><td>0.0</td><td>67.394272</td><td>0.0</td><td>0.0</td><td>false</td><td>false</td><td>false</td><td>false</td><td>false</td><td>false</td><td>false</td><td>false</td><td>false</td><td>false</td><td>false</td><td>false</td><td>false</td><td>false</td><td>false</td><td>false</td><td>false</td><td>false</td><td>false</td><td>false</td><td>false</td><td>13.4</td></tr><tr><td>&quot;p01_0&quot;</td><td>0.083333</td><td>0.583333</td><td>true</td><td>false</td><td>false</td><td>false</td><td>false</td><td>false</td><td>false</td><td>false</td><td>false</td><td>false</td><td>false</td><td>false</td><td>false</td><td>false</td><td>false</td><td>false</td><td>null</td><td>0.0083</td><td>0.0</td><td>67.394272</td><td>0.0</td><td>0.0</td><td>false</td><td>false</td><td>false</td><td>false</td><td>false</td><td>false</td><td>false</td><td>false</td><td>false</td><td>false</td><td>false</td><td>false</td><td>false</td><td>false</td><td>false</td><td>false</td><td>false</td><td>false</td><td>false</td><td>false</td><td>false</td><td>13.4</td></tr><tr><td>&hellip;</td><td>&hellip;</td><td>&hellip;</td><td>&hellip;</td><td>&hellip;</td><td>&hellip;</td><td>&hellip;</td><td>&hellip;</td><td>&hellip;</td><td>&hellip;</td><td>&hellip;</td><td>&hellip;</td><td>&hellip;</td><td>&hellip;</td><td>&hellip;</td><td>&hellip;</td><td>&hellip;</td><td>&hellip;</td><td>&hellip;</td><td>&hellip;</td><td>&hellip;</td><td>&hellip;</td><td>&hellip;</td><td>&hellip;</td><td>&hellip;</td><td>&hellip;</td><td>&hellip;</td><td>&hellip;</td><td>&hellip;</td><td>&hellip;</td><td>&hellip;</td><td>&hellip;</td><td>&hellip;</td><td>&hellip;</td><td>&hellip;</td><td>&hellip;</td><td>&hellip;</td><td>&hellip;</td><td>&hellip;</td><td>&hellip;</td><td>&hellip;</td><td>&hellip;</td><td>&hellip;</td><td>&hellip;</td><td>&hellip;</td><td>&hellip;</td><td>&hellip;</td></tr><tr><td>&quot;p12_25298&quot;</td><td>0.083333</td><td>23.583333</td><td>false</td><td>false</td><td>false</td><td>false</td><td>false</td><td>false</td><td>false</td><td>false</td><td>true</td><td>false</td><td>false</td><td>false</td><td>false</td><td>false</td><td>false</td><td>false</td><td>9.8</td><td>0.275</td><td>0.0</td><td>92.587837</td><td>0.0</td><td>6.75</td><td>false</td><td>false</td><td>false</td><td>false</td><td>false</td><td>false</td><td>false</td><td>false</td><td>false</td><td>false</td><td>false</td><td>false</td><td>false</td><td>false</td><td>false</td><td>false</td><td>false</td><td>false</td><td>false</td><td>false</td><td>false</td><td>10.2</td></tr><tr><td>&quot;p12_25298&quot;</td><td>0.083333</td><td>23.666667</td><td>false</td><td>false</td><td>false</td><td>false</td><td>false</td><td>false</td><td>false</td><td>false</td><td>true</td><td>false</td><td>false</td><td>false</td><td>false</td><td>false</td><td>false</td><td>false</td><td>10.3</td><td>1.06</td><td>0.0</td><td>90.717484</td><td>0.0</td><td>6.75</td><td>false</td><td>false</td><td>false</td><td>false</td><td>false</td><td>false</td><td>false</td><td>false</td><td>false</td><td>false</td><td>false</td><td>false</td><td>false</td><td>false</td><td>false</td><td>false</td><td>false</td><td>false</td><td>false</td><td>false</td><td>false</td><td>10.2</td></tr><tr><td>&quot;p12_25298&quot;</td><td>0.083333</td><td>23.75</td><td>false</td><td>false</td><td>false</td><td>false</td><td>false</td><td>false</td><td>false</td><td>false</td><td>true</td><td>false</td><td>false</td><td>false</td><td>false</td><td>false</td><td>false</td><td>false</td><td>10.7</td><td>0.56</td><td>0.0</td><td>89.54718</td><td>0.0</td><td>6.75</td><td>false</td><td>false</td><td>false</td><td>false</td><td>false</td><td>false</td><td>false</td><td>false</td><td>false</td><td>false</td><td>false</td><td>false</td><td>false</td><td>false</td><td>false</td><td>false</td><td>false</td><td>false</td><td>false</td><td>false</td><td>false</td><td>10.2</td></tr><tr><td>&quot;p12_25298&quot;</td><td>0.083333</td><td>23.833333</td><td>false</td><td>false</td><td>false</td><td>false</td><td>false</td><td>false</td><td>false</td><td>false</td><td>true</td><td>false</td><td>false</td><td>false</td><td>false</td><td>false</td><td>false</td><td>false</td><td>11.0</td><td>0.05</td><td>0.0</td><td>89.576408</td><td>0.0</td><td>6.75</td><td>false</td><td>false</td><td>false</td><td>false</td><td>false</td><td>false</td><td>false</td><td>false</td><td>false</td><td>false</td><td>false</td><td>false</td><td>false</td><td>false</td><td>false</td><td>false</td><td>false</td><td>false</td><td>false</td><td>false</td><td>false</td><td>10.2</td></tr><tr><td>&quot;p12_25298&quot;</td><td>1.0</td><td>23.916667</td><td>false</td><td>false</td><td>false</td><td>false</td><td>false</td><td>false</td><td>false</td><td>false</td><td>true</td><td>false</td><td>false</td><td>false</td><td>false</td><td>false</td><td>false</td><td>false</td><td>11.6</td><td>0.075</td><td>0.0</td><td>89.576408</td><td>0.0</td><td>6.75</td><td>false</td><td>false</td><td>false</td><td>false</td><td>false</td><td>false</td><td>false</td><td>false</td><td>false</td><td>false</td><td>false</td><td>false</td><td>false</td><td>false</td><td>false</td><td>false</td><td>false</td><td>false</td><td>false</td><td>false</td><td>false</td><td>10.2</td></tr></tbody></table></div>"
      ],
      "text/plain": [
       "shape: (12_745_728, 47)\n",
       "┌───────────┬────────────┬───────────┬───────────┬───┬──────────┬─────────┬─────────┬─────────┐\n",
       "│ id        ┆ time_delta ┆ time      ┆ p_num_p01 ┆ … ┆ Swimming ┆ Weights ┆ Running ┆ bg+1:00 │\n",
       "│ ---       ┆ ---        ┆ ---       ┆ ---       ┆   ┆ ---      ┆ ---     ┆ ---     ┆ ---     │\n",
       "│ str       ┆ f64        ┆ f64       ┆ bool      ┆   ┆ bool     ┆ bool    ┆ bool    ┆ f64     │\n",
       "╞═══════════╪════════════╪═══════════╪═══════════╪═══╪══════════╪═════════╪═════════╪═════════╡\n",
       "│ p01_0     ┆ 0.083333   ┆ 0.25      ┆ true      ┆ … ┆ false    ┆ false   ┆ false   ┆ 13.4    │\n",
       "│ p01_0     ┆ 0.083333   ┆ 0.333333  ┆ true      ┆ … ┆ false    ┆ false   ┆ false   ┆ 13.4    │\n",
       "│ p01_0     ┆ 0.083333   ┆ 0.416667  ┆ true      ┆ … ┆ false    ┆ false   ┆ false   ┆ 13.4    │\n",
       "│ p01_0     ┆ 0.083333   ┆ 0.5       ┆ true      ┆ … ┆ false    ┆ false   ┆ false   ┆ 13.4    │\n",
       "│ p01_0     ┆ 0.083333   ┆ 0.583333  ┆ true      ┆ … ┆ false    ┆ false   ┆ false   ┆ 13.4    │\n",
       "│ …         ┆ …          ┆ …         ┆ …         ┆ … ┆ …        ┆ …       ┆ …       ┆ …       │\n",
       "│ p12_25298 ┆ 0.083333   ┆ 23.583333 ┆ false     ┆ … ┆ false    ┆ false   ┆ false   ┆ 10.2    │\n",
       "│ p12_25298 ┆ 0.083333   ┆ 23.666667 ┆ false     ┆ … ┆ false    ┆ false   ┆ false   ┆ 10.2    │\n",
       "│ p12_25298 ┆ 0.083333   ┆ 23.75     ┆ false     ┆ … ┆ false    ┆ false   ┆ false   ┆ 10.2    │\n",
       "│ p12_25298 ┆ 0.083333   ┆ 23.833333 ┆ false     ┆ … ┆ false    ┆ false   ┆ false   ┆ 10.2    │\n",
       "│ p12_25298 ┆ 1.0        ┆ 23.916667 ┆ false     ┆ … ┆ false    ┆ false   ┆ false   ┆ 10.2    │\n",
       "└───────────┴────────────┴───────────┴───────────┴───┴──────────┴─────────┴─────────┴─────────┘"
      ]
     },
     "execution_count": 6,
     "metadata": {},
     "output_type": "execute_result"
    }
   ],
   "source": [
    "lstm_hr_train_df = pl.read_csv('../../data/lstm_hr_train.csv',schema_overrides=lstm_train_schema)\n",
    "lstm_hr_test_df = pl.read_csv('../../data/lstm_test.csv',schema_overrides=lstm_test_schema)\n",
    "lstm_hr_train_df"
   ]
  },
  {
   "cell_type": "markdown",
   "metadata": {},
   "source": [
    "### Wheter to drop null bg values or not?\n",
    "Lets have a look at the distribution of null bg values in each recording sesssion (id)"
   ]
  },
  {
   "cell_type": "code",
   "execution_count": 117,
   "metadata": {},
   "outputs": [
    {
     "name": "stdout",
     "output_type": "stream",
     "text": [
      "Train\n",
      "shape: (9, 4)\n",
      "┌───────┬─────────┬────────────┬──────────────┐\n",
      "│ p_num ┆ count   ┆ null_count ┆ null_percent │\n",
      "│ ---   ┆ ---     ┆ ---        ┆ ---          │\n",
      "│ str   ┆ u32     ┆ u32        ┆ f64          │\n",
      "╞═══════╪═════════╪════════════╪══════════════╡\n",
      "│ p05   ┆ 596736  ┆ 407515     ┆ 0.682907     │\n",
      "│ p06   ┆ 603576  ┆ 407807     ┆ 0.675651     │\n",
      "│ p01   ┆ 609048  ┆ 409686     ┆ 0.672666     │\n",
      "│ p12   ┆ 1821528 ┆ 35500      ┆ 0.019489     │\n",
      "│ p11   ┆ 1767960 ┆ 28524      ┆ 0.016134     │\n",
      "│ p02   ┆ 1862784 ┆ 22640      ┆ 0.012154     │\n",
      "│ p10   ┆ 1832688 ┆ 21642      ┆ 0.011809     │\n",
      "│ p04   ┆ 1777392 ┆ 19507      ┆ 0.010975     │\n",
      "│ p03   ┆ 1874016 ┆ 18863      ┆ 0.010066     │\n",
      "└───────┴─────────┴────────────┴──────────────┘\n"
     ]
    }
   ],
   "source": [
    "null_bg_train = lstm_hr_train_df.group_by('id').agg(\n",
    "    pl.col('id').str.split('_').list[0].first().alias('p_num'),\n",
    "    (pl.col('bg').count() + pl.col('bg').null_count()).alias('count'),\n",
    "    pl.col('bg').null_count().alias('null_count')\n",
    ").group_by('p_num').agg([\n",
    "    pl.col('count').sum().alias('count'),\n",
    "    pl.col('null_count').sum().alias('null_count'),\n",
    "    (pl.col('null_count').sum() / pl.col('count').sum()).alias('null_percent') \n",
    "]).sort('null_percent', descending=True)\n",
    "\n",
    "print('Train')\n",
    "print(null_bg_train)\n"
   ]
  },
  {
   "cell_type": "code",
   "execution_count": 118,
   "metadata": {},
   "outputs": [
    {
     "name": "stdout",
     "output_type": "stream",
     "text": [
      "Test\n",
      "shape: (15, 4)\n",
      "┌───────┬───────┬────────────┬──────────────┐\n",
      "│ p_num ┆ count ┆ null_count ┆ null_percent │\n",
      "│ ---   ┆ ---   ┆ ---        ┆ ---          │\n",
      "│ str   ┆ u32   ┆ u32        ┆ f64          │\n",
      "╞═══════╪═══════╪════════════╪══════════════╡\n",
      "│ p06   ┆ 16848 ┆ 11454      ┆ 0.679843     │\n",
      "│ p05   ┆ 19872 ┆ 13421      ┆ 0.675372     │\n",
      "│ p01   ┆ 17568 ┆ 11786      ┆ 0.670879     │\n",
      "│ p21   ┆ 16992 ┆ 9269       ┆ 0.545492     │\n",
      "│ p18   ┆ 16632 ┆ 966        ┆ 0.058081     │\n",
      "│ …     ┆ …     ┆ …          ┆ …            │\n",
      "│ p22   ┆ 14472 ┆ 370        ┆ 0.025567     │\n",
      "│ p24   ┆ 18792 ┆ 425        ┆ 0.022616     │\n",
      "│ p16   ┆ 17856 ┆ 390        ┆ 0.021841     │\n",
      "│ p19   ┆ 17712 ┆ 359        ┆ 0.020269     │\n",
      "│ p04   ┆ 18576 ┆ 348        ┆ 0.018734     │\n",
      "└───────┴───────┴────────────┴──────────────┘\n"
     ]
    }
   ],
   "source": [
    "null_bg_test = lstm_hr_test_df.group_by('id').agg(\n",
    "    pl.col('id').str.split('_').list[0].first().alias('p_num'),\n",
    "    (pl.col('bg').count() + pl.col('bg').null_count()).alias('count'),\n",
    "    pl.col('bg').null_count().alias('null_count')\n",
    ").group_by('p_num').agg([\n",
    "    pl.col('count').sum().alias('count'),\n",
    "    pl.col('null_count').sum().alias('null_count'),\n",
    "    (pl.col('null_count').sum() / pl.col('count').sum()).alias('null_percent') \n",
    "]).sort('null_percent', descending=True)\n",
    "print('Test')\n",
    "print(null_bg_test)"
   ]
  },
  {
   "cell_type": "code",
   "execution_count": 121,
   "metadata": {},
   "outputs": [
    {
     "data": {
      "image/png": "[encoded data removed]",
      "text/plain": [
       "<Figure size 1200x600 with 1 Axes>"
      ]
     },
     "metadata": {},
     "output_type": "display_data"
    }
   ],
   "source": [
    "null_bg_train = null_bg_train.with_columns(pl.lit('train').alias('source'))\n",
    "null_bg_test = null_bg_test.with_columns(pl.lit('test').alias('source'))\n",
    "\n",
    "# Combine the dataframes\n",
    "combined_df = pl.concat([null_bg_train, null_bg_test])\n",
    "\n",
    "# Create the plot\n",
    "plt.figure(figsize=(12, 6))  # Adjust size as needed\n",
    "sns.barplot(x='p_num', y='null_percent', hue='source', data=combined_df.to_pandas())\n",
    "plt.xticks(rotation=45)  # Rotate x labels for better readability\n",
    "plt.title('Null Percentages by Patient Group - Train vs Test')\n",
    "plt.tight_layout()"
   ]
  },
  {
   "cell_type": "markdown",
   "metadata": {},
   "source": [
    "Again this shows clear grouping between p01, p05, p06 and p21"
   ]
  },
  {
   "cell_type": "code",
   "execution_count": 115,
   "metadata": {},
   "outputs": [
    {
     "data": {
      "image/png": "[encoded data removed]",
      "text/plain": [
       "<Figure size 1600x1000 with 2 Axes>"
      ]
     },
     "metadata": {},
     "output_type": "display_data"
    }
   ],
   "source": [
    "plt.figure(figsize=(16, 10))\n",
    "null_bg_train = lstm_hr_train_df.group_by('id').agg(\n",
    "    pl.col('bg').null_count().alias('null_count')\n",
    ").sort('null_count', descending=True)\n",
    "\n",
    "null_bg_test = lstm_hr_test_df.group_by('id').agg(\n",
    "    pl.col('bg').null_count().alias('null_count')\n",
    ").sort('null_count', descending=True)\n",
    "\n",
    "plt.subplot(2, 1, 1)\n",
    "sns.kdeplot(null_bg_train['null_count'].to_numpy(), \n",
    "            fill=True, \n",
    "            alpha=0.5, \n",
    "            label='Train')\n",
    "sns.kdeplot(null_bg_test['null_count'].to_numpy(), \n",
    "            fill=True, \n",
    "            alpha=0.5,  \n",
    "            label='Test')\n",
    "plt.title('Distribution of Missing bg Values')\n",
    "plt.legend()\n",
    "\n",
    "plt.subplot(2, 1, 2)\n",
    "sns.ecdfplot(null_bg_train['null_count'].to_numpy(), \n",
    "                label='Train')\n",
    "sns.ecdfplot(null_bg_test['null_count'].to_numpy(), \n",
    "                label='Test')\n",
    "plt.title('Cumulative Distribution of Missing bg Values')\n",
    "plt.xlabel('Number of Missing bg Values')\n",
    "plt.ylabel('Cumulative Probability')\n",
    "plt.legend()\n",
    "\n",
    "plt.tight_layout()"
   ]
  },
  {
   "cell_type": "markdown",
   "metadata": {},
   "source": [
    "Around 80% of the data has no / low numbers of missing bg values, as the rest is very high at around 65% missing values we will just drop this 20% seeting a threshold at 0 missing data points"
   ]
  },
  {
   "cell_type": "code",
   "execution_count": 11,
   "metadata": {},
   "outputs": [
    {
     "name": "stdout",
     "output_type": "stream",
     "text": [
      "Train:\n",
      "total datapoints:  177024\n",
      "datapoints with less than 30 / 72 null values:  150066\n",
      "datapoints with less than 10 / 72 null values:  147280\n",
      "datapoints with less than 5 / 72 null values:  146834\n",
      "datapoints with 0 null values:  144016 or when not grouped by id:  10369152\n",
      "Test:\n",
      "total datapoints:  3644\n",
      "datapoints with less than 30 / 72 null values:  2622\n",
      "datapoints with less than 10 / 72 null values:  2544\n",
      "datapoints with less than 5 / 72 null values:  2525\n",
      "datapoints with 0 null values:  2491 or when not grouped by id:  179352\n"
     ]
    }
   ],
   "source": [
    "def null_bg_thresholds(null_bg):\n",
    "    print('total datapoints: ',null_bg.count()['null_count'][0])\n",
    "    print('datapoints with less than 30 / 72 null values: ',null_bg.filter(pl.col('null_count') < 30).count()['null_count'][0])   \n",
    "    print('datapoints with less than 10 / 72 null values: ',null_bg.filter(pl.col('null_count') < 10).count()['null_count'][0])   \n",
    "    print('datapoints with less than 5 / 72 null values: ',null_bg.filter(pl.col('null_count') < 5).count()['null_count'][0])   \n",
    "    print('datapoints with 0 null values: ',null_bg.filter(pl.col('null_count') == 0).count()['null_count'][0], 'or when not grouped by id: ',null_bg.filter(pl.col('null_count') == 0).count()['null_count'][0] * 72)\n",
    "\n",
    "print('Train:')\n",
    "null_bg_thresholds(null_bg_train)\n",
    "print('Test:')\n",
    "null_bg_thresholds(null_bg_test)"
   ]
  },
  {
   "cell_type": "markdown",
   "metadata": {},
   "source": [
    "dropping any values with more than 0 null values"
   ]
  },
  {
   "cell_type": "code",
   "execution_count": 130,
   "metadata": {},
   "outputs": [
    {
     "data": {
      "text/plain": [
       "((10369152, 40), (2376576, 40))"
      ]
     },
     "execution_count": 130,
     "metadata": {},
     "output_type": "execute_result"
    }
   ],
   "source": [
    "id_list = null_bg.filter(pl.col('null_count') > 0).select('id')\n",
    "dirty_hr_df = lstm_hr_df.filter(pl.col('id').is_in(id_list['id']))\n",
    "lstm_hr_df = lstm_hr_df.filter(~pl.col('id').is_in(id_list['id']))\n",
    "lstm_hr_df.shape, dirty_hr_df.shape"
   ]
  },
  {
   "cell_type": "code",
   "execution_count": 134,
   "metadata": {},
   "outputs": [
    {
     "data": {
      "image/png": "[encoded data removed]",
      "text/plain": [
       "<Figure size 900x600 with 1 Axes>"
      ]
     },
     "metadata": {},
     "output_type": "display_data"
    }
   ],
   "source": [
    "train_participants = ['p_num_p01','p_num_p02','p_num_p03','p_num_p04','p_num_p05','p_num_p06','p_num_p10','p_num_p11','p_num_p12']\n",
    "clean = lstm_hr_df[train_participants]\n",
    "dirty = dirty_hr_df[train_participants]\n",
    "clean_np = clean.sum().to_numpy()\n",
    "dirty_np = dirty.sum().to_numpy()\n",
    "plt.figure(figsize=(9,6))\n",
    "x = np.arange(len(train_participants))\n",
    "width = 0.35\n",
    "\n",
    "plt.bar(x - width/2, clean_np[0], width, label='Clean Data')\n",
    "plt.bar(x + width/2, dirty_np[0], width, label='Dirty Data')\n",
    "\n",
    "plt.xlabel('Participants')\n",
    "plt.ylabel('Sum of Data')\n",
    "plt.title('Clean vs Dirty Data')\n",
    "plt.xticks(x, train_participants, rotation=45)\n",
    "plt.legend()\n",
    "plt.tight_layout()\n",
    "plt.show()"
   ]
  },
  {
   "cell_type": "code",
   "execution_count": null,
   "metadata": {},
   "outputs": [],
   "source": [
    "train_participants = ['p_num_p01','p_num_p02','p_num_p03','p_num_p04','p_num_p05','p_num_p06','p_num_p10','p_num_p11','p_num_p12']\n",
    "clean = test_df[train_participants]\n",
    "dirty = test_df[train_participants]\n",
    "clean_np = clean.sum().to_numpy()\n",
    "dirty_np = dirty.sum().to_numpy()\n",
    "plt.figure(figsize=(9,6))\n",
    "x = np.arange(len(train_participants))\n",
    "width = 0.35\n",
    "\n",
    "plt.bar(x - width/2, clean_np[0], width, label='Clean Data')\n",
    "plt.bar(x + width/2, dirty_np[0], width, label='Dirty Data')\n",
    "\n",
    "plt.xlabel('Participants')\n",
    "plt.ylabel('Sum of Data')\n",
    "plt.title('Clean vs Dirty Data')\n",
    "plt.xticks(x, train_participants, rotation=45)\n",
    "plt.legend()\n",
    "plt.tight_layout()\n",
    "plt.show()"
   ]
  },
  {
   "cell_type": "markdown",
   "metadata": {},
   "source": [
    "This actually ends up removing 3 of the participants data, this is not great and should be avoided, instead of ruining the spread of the dataset we will split it into dirty and clean versions for training."
   ]
  },
  {
   "cell_type": "markdown",
   "metadata": {},
   "source": [
    "## Normalising the data\n",
    "normalising time, insulin, carbs, hr, steps and cals to help training stability. I have used min max scaling as most of my approaches will be nueral network based and values between 0-1 train well"
   ]
  },
  {
   "cell_type": "code",
   "execution_count": 122,
   "metadata": {},
   "outputs": [
    {
     "ename": "NameError",
     "evalue": "name 'lstm_hr_df' is not defined",
     "output_type": "error",
     "traceback": [
      "\u001b[0;31m---------------------------------------------------------------------------\u001b[0m",
      "\u001b[0;31mNameError\u001b[0m                                 Traceback (most recent call last)",
      "Cell \u001b[0;32mIn[122], line 6\u001b[0m\n\u001b[1;32m      1\u001b[0m \u001b[38;5;28;01mfrom\u001b[39;00m \u001b[38;5;21;01msklearn\u001b[39;00m\u001b[38;5;21;01m.\u001b[39;00m\u001b[38;5;21;01mpreprocessing\u001b[39;00m \u001b[38;5;28;01mimport\u001b[39;00m MinMaxScaler\n\u001b[1;32m      4\u001b[0m columns_to_normalise \u001b[38;5;241m=\u001b[39m [\u001b[38;5;124m\"\u001b[39m\u001b[38;5;124mtime\u001b[39m\u001b[38;5;124m\"\u001b[39m, \u001b[38;5;124m\"\u001b[39m\u001b[38;5;124minsulin\u001b[39m\u001b[38;5;124m\"\u001b[39m, \u001b[38;5;124m\"\u001b[39m\u001b[38;5;124mcarbs\u001b[39m\u001b[38;5;124m\"\u001b[39m, \u001b[38;5;124m\"\u001b[39m\u001b[38;5;124mhr\u001b[39m\u001b[38;5;124m\"\u001b[39m, \u001b[38;5;124m\"\u001b[39m\u001b[38;5;124msteps\u001b[39m\u001b[38;5;124m\"\u001b[39m, \u001b[38;5;124m\"\u001b[39m\u001b[38;5;124mcals\u001b[39m\u001b[38;5;124m\"\u001b[39m] \u001b[38;5;66;03m# removed bg columns as they should be normalised together\u001b[39;00m\n\u001b[0;32m----> 6\u001b[0m data_to_normalize \u001b[38;5;241m=\u001b[39m \u001b[43mlstm_hr_df\u001b[49m\u001b[38;5;241m.\u001b[39mselect(columns_to_normalise)\u001b[38;5;241m.\u001b[39mto_numpy()\n\u001b[1;32m      8\u001b[0m scaler \u001b[38;5;241m=\u001b[39m MinMaxScaler()\n\u001b[1;32m     10\u001b[0m normalised_data \u001b[38;5;241m=\u001b[39m scaler\u001b[38;5;241m.\u001b[39mfit_transform(data_to_normalize)\n",
      "\u001b[0;31mNameError\u001b[0m: name 'lstm_hr_df' is not defined"
     ]
    }
   ],
   "source": [
    "from sklearn.preprocessing import MinMaxScaler\n",
    "\n",
    "\n",
    "columns_to_normalise = [\"time\", \"insulin\", \"carbs\", \"hr\", \"steps\", \"cals\"] # removed bg columns as they should be normalised together\n",
    "\n",
    "data_to_normalize = lstm_hr_df.select(columns_to_normalise).to_numpy()\n",
    "\n",
    "scaler = MinMaxScaler()\n",
    "\n",
    "normalised_data = scaler.fit_transform(data_to_normalize)\n",
    "\n",
    "lstm_hr_df = lstm_hr_df.with_columns(\n",
    "    [pl.Series(columns_to_normalise[i], normalised_data[:, i]) for i in range(len(columns_to_normalise))]\n",
    ")\n",
    "\n",
    "lstm_hr_df\n"
   ]
  },
  {
   "cell_type": "markdown",
   "metadata": {},
   "source": [
    "Normalising the bg columns together"
   ]
  },
  {
   "cell_type": "code",
   "execution_count": 24,
   "metadata": {},
   "outputs": [
    {
     "data": {
      "text/html": [
       "<div><style>\n",
       ".dataframe > thead > tr,\n",
       ".dataframe > tbody > tr {\n",
       "  text-align: right;\n",
       "  white-space: pre-wrap;\n",
       "}\n",
       "</style>\n",
       "<small>shape: (10_369_152, 40)</small><table border=\"1\" class=\"dataframe\"><thead><tr><th>id</th><th>time_delta</th><th>time</th><th>p_num_p01</th><th>p_num_p02</th><th>p_num_p03</th><th>p_num_p04</th><th>p_num_p05</th><th>p_num_p06</th><th>p_num_p10</th><th>p_num_p11</th><th>p_num_p12</th><th>bg</th><th>insulin</th><th>carbs</th><th>hr</th><th>steps</th><th>cals</th><th>Run</th><th>Strength training</th><th>Swim</th><th>Bike</th><th>Dancing</th><th>Stairclimber</th><th>Spinning</th><th>Walking</th><th>HIIT</th><th>Outdoor Bike</th><th>Walk</th><th>Aerobic Workout</th><th>Tennis</th><th>Workout</th><th>Hike</th><th>Zumba</th><th>Sport</th><th>Yoga</th><th>Swimming</th><th>Weights</th><th>Running</th><th>bg+1:00</th></tr><tr><td>str</td><td>f64</td><td>f64</td><td>bool</td><td>bool</td><td>bool</td><td>bool</td><td>bool</td><td>bool</td><td>bool</td><td>bool</td><td>bool</td><td>f64</td><td>f64</td><td>f64</td><td>f64</td><td>f64</td><td>f64</td><td>bool</td><td>bool</td><td>bool</td><td>bool</td><td>bool</td><td>bool</td><td>bool</td><td>bool</td><td>bool</td><td>bool</td><td>bool</td><td>bool</td><td>bool</td><td>bool</td><td>bool</td><td>bool</td><td>bool</td><td>bool</td><td>bool</td><td>bool</td><td>bool</td><td>f64</td></tr></thead><tbody><tr><td>&quot;p02_0&quot;</td><td>0.083333</td><td>0.006944</td><td>false</td><td>true</td><td>false</td><td>false</td><td>false</td><td>false</td><td>false</td><td>false</td><td>false</td><td>0.365</td><td>0.008284</td><td>0.0</td><td>0.225317</td><td>0.0</td><td>0.0</td><td>false</td><td>false</td><td>false</td><td>false</td><td>false</td><td>false</td><td>false</td><td>false</td><td>false</td><td>false</td><td>false</td><td>false</td><td>false</td><td>false</td><td>false</td><td>false</td><td>false</td><td>false</td><td>false</td><td>false</td><td>false</td><td>0.245</td></tr><tr><td>&quot;p02_0&quot;</td><td>0.083333</td><td>0.010417</td><td>false</td><td>true</td><td>false</td><td>false</td><td>false</td><td>false</td><td>false</td><td>false</td><td>false</td><td>0.37</td><td>0.008338</td><td>0.0</td><td>0.225827</td><td>0.0</td><td>0.0</td><td>false</td><td>false</td><td>false</td><td>false</td><td>false</td><td>false</td><td>false</td><td>false</td><td>false</td><td>false</td><td>false</td><td>false</td><td>false</td><td>false</td><td>false</td><td>false</td><td>false</td><td>false</td><td>false</td><td>false</td><td>false</td><td>0.245</td></tr><tr><td>&quot;p02_0&quot;</td><td>0.083333</td><td>0.013889</td><td>false</td><td>true</td><td>false</td><td>false</td><td>false</td><td>false</td><td>false</td><td>false</td><td>false</td><td>0.37</td><td>0.008572</td><td>0.0</td><td>0.226764</td><td>0.0</td><td>0.0</td><td>false</td><td>false</td><td>false</td><td>false</td><td>false</td><td>false</td><td>false</td><td>false</td><td>false</td><td>false</td><td>false</td><td>false</td><td>false</td><td>false</td><td>false</td><td>false</td><td>false</td><td>false</td><td>false</td><td>false</td><td>false</td><td>0.245</td></tr><tr><td>&quot;p02_0&quot;</td><td>0.083333</td><td>0.017361</td><td>false</td><td>true</td><td>false</td><td>false</td><td>false</td><td>false</td><td>false</td><td>false</td><td>false</td><td>0.385</td><td>0.008299</td><td>0.0</td><td>0.226595</td><td>0.0</td><td>0.0</td><td>false</td><td>false</td><td>false</td><td>false</td><td>false</td><td>false</td><td>false</td><td>false</td><td>false</td><td>false</td><td>false</td><td>false</td><td>false</td><td>false</td><td>false</td><td>false</td><td>false</td><td>false</td><td>false</td><td>false</td><td>false</td><td>0.245</td></tr><tr><td>&quot;p02_0&quot;</td><td>0.083333</td><td>0.020833</td><td>false</td><td>true</td><td>false</td><td>false</td><td>false</td><td>false</td><td>false</td><td>false</td><td>false</td><td>0.395</td><td>0.023036</td><td>0.0</td><td>0.226131</td><td>0.0</td><td>0.0</td><td>false</td><td>false</td><td>false</td><td>false</td><td>false</td><td>false</td><td>false</td><td>false</td><td>false</td><td>false</td><td>false</td><td>false</td><td>false</td><td>false</td><td>false</td><td>false</td><td>false</td><td>false</td><td>false</td><td>false</td><td>false</td><td>0.245</td></tr><tr><td>&hellip;</td><td>&hellip;</td><td>&hellip;</td><td>&hellip;</td><td>&hellip;</td><td>&hellip;</td><td>&hellip;</td><td>&hellip;</td><td>&hellip;</td><td>&hellip;</td><td>&hellip;</td><td>&hellip;</td><td>&hellip;</td><td>&hellip;</td><td>&hellip;</td><td>&hellip;</td><td>&hellip;</td><td>&hellip;</td><td>&hellip;</td><td>&hellip;</td><td>&hellip;</td><td>&hellip;</td><td>&hellip;</td><td>&hellip;</td><td>&hellip;</td><td>&hellip;</td><td>&hellip;</td><td>&hellip;</td><td>&hellip;</td><td>&hellip;</td><td>&hellip;</td><td>&hellip;</td><td>&hellip;</td><td>&hellip;</td><td>&hellip;</td><td>&hellip;</td><td>&hellip;</td><td>&hellip;</td><td>&hellip;</td><td>&hellip;</td></tr><tr><td>&quot;p12_25298&quot;</td><td>0.083333</td><td>0.982639</td><td>false</td><td>false</td><td>false</td><td>false</td><td>false</td><td>false</td><td>false</td><td>false</td><td>true</td><td>0.38</td><td>0.012501</td><td>0.0</td><td>0.361875</td><td>0.0</td><td>0.05814</td><td>false</td><td>false</td><td>false</td><td>false</td><td>false</td><td>false</td><td>false</td><td>false</td><td>false</td><td>false</td><td>false</td><td>false</td><td>false</td><td>false</td><td>false</td><td>false</td><td>false</td><td>false</td><td>false</td><td>false</td><td>false</td><td>0.4</td></tr><tr><td>&quot;p12_25298&quot;</td><td>0.083333</td><td>0.986111</td><td>false</td><td>false</td><td>false</td><td>false</td><td>false</td><td>false</td><td>false</td><td>false</td><td>true</td><td>0.405</td><td>0.02934</td><td>0.0</td><td>0.348772</td><td>0.0</td><td>0.05814</td><td>false</td><td>false</td><td>false</td><td>false</td><td>false</td><td>false</td><td>false</td><td>false</td><td>false</td><td>false</td><td>false</td><td>false</td><td>false</td><td>false</td><td>false</td><td>false</td><td>false</td><td>false</td><td>false</td><td>false</td><td>false</td><td>0.4</td></tr><tr><td>&quot;p12_25298&quot;</td><td>0.083333</td><td>0.989583</td><td>false</td><td>false</td><td>false</td><td>false</td><td>false</td><td>false</td><td>false</td><td>false</td><td>true</td><td>0.425</td><td>0.018615</td><td>0.0</td><td>0.340627</td><td>0.0</td><td>0.05814</td><td>false</td><td>false</td><td>false</td><td>false</td><td>false</td><td>false</td><td>false</td><td>false</td><td>false</td><td>false</td><td>false</td><td>false</td><td>false</td><td>false</td><td>false</td><td>false</td><td>false</td><td>false</td><td>false</td><td>false</td><td>false</td><td>0.4</td></tr><tr><td>&quot;p12_25298&quot;</td><td>0.083333</td><td>0.993056</td><td>false</td><td>false</td><td>false</td><td>false</td><td>false</td><td>false</td><td>false</td><td>false</td><td>true</td><td>0.44</td><td>0.007675</td><td>0.0</td><td>0.341132</td><td>0.0</td><td>0.05814</td><td>false</td><td>false</td><td>false</td><td>false</td><td>false</td><td>false</td><td>false</td><td>false</td><td>false</td><td>false</td><td>false</td><td>false</td><td>false</td><td>false</td><td>false</td><td>false</td><td>false</td><td>false</td><td>false</td><td>false</td><td>false</td><td>0.4</td></tr><tr><td>&quot;p12_25298&quot;</td><td>1.0</td><td>0.996528</td><td>false</td><td>false</td><td>false</td><td>false</td><td>false</td><td>false</td><td>false</td><td>false</td><td>true</td><td>0.47</td><td>0.008211</td><td>0.0</td><td>0.341132</td><td>0.0</td><td>0.05814</td><td>false</td><td>false</td><td>false</td><td>false</td><td>false</td><td>false</td><td>false</td><td>false</td><td>false</td><td>false</td><td>false</td><td>false</td><td>false</td><td>false</td><td>false</td><td>false</td><td>false</td><td>false</td><td>false</td><td>false</td><td>false</td><td>0.4</td></tr></tbody></table></div>"
      ],
      "text/plain": [
       "shape: (10_369_152, 40)\n",
       "┌───────────┬────────────┬──────────┬───────────┬───┬──────────┬─────────┬─────────┬─────────┐\n",
       "│ id        ┆ time_delta ┆ time     ┆ p_num_p01 ┆ … ┆ Swimming ┆ Weights ┆ Running ┆ bg+1:00 │\n",
       "│ ---       ┆ ---        ┆ ---      ┆ ---       ┆   ┆ ---      ┆ ---     ┆ ---     ┆ ---     │\n",
       "│ str       ┆ f64        ┆ f64      ┆ bool      ┆   ┆ bool     ┆ bool    ┆ bool    ┆ f64     │\n",
       "╞═══════════╪════════════╪══════════╪═══════════╪═══╪══════════╪═════════╪═════════╪═════════╡\n",
       "│ p02_0     ┆ 0.083333   ┆ 0.006944 ┆ false     ┆ … ┆ false    ┆ false   ┆ false   ┆ 0.245   │\n",
       "│ p02_0     ┆ 0.083333   ┆ 0.010417 ┆ false     ┆ … ┆ false    ┆ false   ┆ false   ┆ 0.245   │\n",
       "│ p02_0     ┆ 0.083333   ┆ 0.013889 ┆ false     ┆ … ┆ false    ┆ false   ┆ false   ┆ 0.245   │\n",
       "│ p02_0     ┆ 0.083333   ┆ 0.017361 ┆ false     ┆ … ┆ false    ┆ false   ┆ false   ┆ 0.245   │\n",
       "│ p02_0     ┆ 0.083333   ┆ 0.020833 ┆ false     ┆ … ┆ false    ┆ false   ┆ false   ┆ 0.245   │\n",
       "│ …         ┆ …          ┆ …        ┆ …         ┆ … ┆ …        ┆ …       ┆ …       ┆ …       │\n",
       "│ p12_25298 ┆ 0.083333   ┆ 0.982639 ┆ false     ┆ … ┆ false    ┆ false   ┆ false   ┆ 0.4     │\n",
       "│ p12_25298 ┆ 0.083333   ┆ 0.986111 ┆ false     ┆ … ┆ false    ┆ false   ┆ false   ┆ 0.4     │\n",
       "│ p12_25298 ┆ 0.083333   ┆ 0.989583 ┆ false     ┆ … ┆ false    ┆ false   ┆ false   ┆ 0.4     │\n",
       "│ p12_25298 ┆ 0.083333   ┆ 0.993056 ┆ false     ┆ … ┆ false    ┆ false   ┆ false   ┆ 0.4     │\n",
       "│ p12_25298 ┆ 1.0        ┆ 0.996528 ┆ false     ┆ … ┆ false    ┆ false   ┆ false   ┆ 0.4     │\n",
       "└───────────┴────────────┴──────────┴───────────┴───┴──────────┴─────────┴─────────┴─────────┘"
      ]
     },
     "execution_count": 24,
     "metadata": {},
     "output_type": "execute_result"
    }
   ],
   "source": [
    "bg_columns = ['bg', 'bg+1:00']\n",
    "bg_max = max(lstm_hr_df['bg'].max(), lstm_hr_df['bg+1:00'].max())\n",
    "bg_min = min(lstm_hr_df['bg'].min(), lstm_hr_df['bg+1:00'].min())\n",
    "\n",
    "bg_data = lstm_hr_df.select(bg_columns).to_numpy()\n",
    "\n",
    "bg_scaler = MinMaxScaler()\n",
    "bg_scaler.fit([[bg_min, bg_min], [bg_max, bg_max]])\n",
    "\n",
    "bg_normalised = bg_scaler.transform(bg_data)\n",
    "\n",
    "lstm_hr_df = lstm_hr_df.with_columns(\n",
    "    [pl.Series(bg_columns[i], bg_normalised[:, i]) for i in range(len(bg_columns))]\n",
    ")\n",
    "\n",
    "lstm_hr_df"
   ]
  },
  {
   "cell_type": "markdown",
   "metadata": {},
   "source": [
    "### Formatting the data for pytorch / lstm\n",
    "For lstm using pytorch the tensor should be in the format (seq_length, batch_size, input_features)\n",
    "\n",
    "therefore to access a data point, we use tensor_data[sequence_point, batch_number, feature_index]"
   ]
  },
  {
   "cell_type": "code",
   "execution_count": 25,
   "metadata": {},
   "outputs": [],
   "source": [
    "lstm_by_id = (lstm_hr_df\n",
    "    .group_by('id')\n",
    "    .agg(pl.all())\n",
    ")"
   ]
  },
  {
   "cell_type": "code",
   "execution_count": 26,
   "metadata": {},
   "outputs": [
    {
     "data": {
      "text/html": [
       "<div><style>\n",
       ".dataframe > thead > tr,\n",
       ".dataframe > tbody > tr {\n",
       "  text-align: right;\n",
       "  white-space: pre-wrap;\n",
       "}\n",
       "</style>\n",
       "<small>shape: (9, 2)</small><table border=\"1\" class=\"dataframe\"><thead><tr><th>statistic</th><th>time_delta</th></tr><tr><td>str</td><td>f64</td></tr></thead><tbody><tr><td>&quot;count&quot;</td><td>1.0369152e7</td></tr><tr><td>&quot;null_count&quot;</td><td>0.0</td></tr><tr><td>&quot;mean&quot;</td><td>0.096065</td></tr><tr><td>&quot;std&quot;</td><td>0.107277</td></tr><tr><td>&quot;min&quot;</td><td>0.083333</td></tr><tr><td>&quot;25%&quot;</td><td>0.083333</td></tr><tr><td>&quot;50%&quot;</td><td>0.083333</td></tr><tr><td>&quot;75%&quot;</td><td>0.083333</td></tr><tr><td>&quot;max&quot;</td><td>1.0</td></tr></tbody></table></div>"
      ],
      "text/plain": [
       "shape: (9, 2)\n",
       "┌────────────┬─────────────┐\n",
       "│ statistic  ┆ time_delta  │\n",
       "│ ---        ┆ ---         │\n",
       "│ str        ┆ f64         │\n",
       "╞════════════╪═════════════╡\n",
       "│ count      ┆ 1.0369152e7 │\n",
       "│ null_count ┆ 0.0         │\n",
       "│ mean       ┆ 0.096065    │\n",
       "│ std        ┆ 0.107277    │\n",
       "│ min        ┆ 0.083333    │\n",
       "│ 25%        ┆ 0.083333    │\n",
       "│ 50%        ┆ 0.083333    │\n",
       "│ 75%        ┆ 0.083333    │\n",
       "│ max        ┆ 1.0         │\n",
       "└────────────┴─────────────┘"
      ]
     },
     "execution_count": 26,
     "metadata": {},
     "output_type": "execute_result"
    }
   ],
   "source": [
    "lstm_hr_df.select('time_delta').describe()"
   ]
  },
  {
   "cell_type": "markdown",
   "metadata": {},
   "source": [
    "Get the features in the correct tensor format"
   ]
  },
  {
   "cell_type": "code",
   "execution_count": 27,
   "metadata": {},
   "outputs": [],
   "source": [
    "lstm_df = lstm_by_id.drop(['id'])\n",
    "lstm_np = np.stack([\n",
    "    np.array(lstm_df[col].to_list(), \n",
    "            dtype=bool if lstm_df[col].dtype == pl.Boolean else np.float32) \n",
    "    for col in lstm_df.columns\n",
    "])\n",
    "lstm_tensor = torch.from_numpy(lstm_np)"
   ]
  },
  {
   "cell_type": "code",
   "execution_count": 28,
   "metadata": {},
   "outputs": [
    {
     "data": {
      "text/plain": [
       "torch.Size([144016, 1])"
      ]
     },
     "execution_count": 28,
     "metadata": {},
     "output_type": "execute_result"
    }
   ],
   "source": [
    "# currently in the form [feature, batch_number,sequence_position]\n",
    "t_lstm_tensor = lstm_tensor[-1,:,0]\n",
    "t_lstm_tensor = t_lstm_tensor.reshape(-1,1)\n",
    "t_lstm_tensor.shape"
   ]
  },
  {
   "cell_type": "code",
   "execution_count": 29,
   "metadata": {},
   "outputs": [
    {
     "data": {
      "text/plain": [
       "torch.Size([144016, 72, 38])"
      ]
     },
     "execution_count": 29,
     "metadata": {},
     "output_type": "execute_result"
    }
   ],
   "source": [
    "X_lstm_tensor = lstm_tensor[:-1,:,:]\n",
    "X_lstm_tensor = X_lstm_tensor.permute(1,2,0)\n",
    "X_lstm_tensor.shape"
   ]
  },
  {
   "cell_type": "code",
   "execution_count": 31,
   "metadata": {},
   "outputs": [
    {
     "data": {
      "text/plain": [
       "(torch.Size([144016, 72, 38]), torch.Size([144016, 1]))"
      ]
     },
     "execution_count": 31,
     "metadata": {},
     "output_type": "execute_result"
    }
   ],
   "source": [
    "X_lstm_tensor.shape, t_lstm_tensor.shape"
   ]
  },
  {
   "cell_type": "code",
   "execution_count": 32,
   "metadata": {},
   "outputs": [],
   "source": [
    "# in form tensor_data[sequence_point, batch_number, feature_index]\n",
    "torch.save(X_lstm_tensor,'../../data/X_lstm.pt')\n",
    "torch.save(t_lstm_tensor,'../../data/t_lstm.pt')"
   ]
  }
 ],
 "metadata": {
  "kernelspec": {
   "display_name": "bg_pred",
   "language": "python",
   "name": "python3"
  },
  "language_info": {
   "codemirror_mode": {
    "name": "ipython",
    "version": 3
   },
   "file_extension": ".py",
   "mimetype": "text/x-python",
   "name": "python",
   "nbconvert_exporter": "python",
   "pygments_lexer": "ipython3",
   "version": "3.12.3"
  }
 },
 "nbformat": 4,
 "nbformat_minor": 2
}
