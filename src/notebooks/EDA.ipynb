{
 "cells": [
  {
   "cell_type": "markdown",
   "metadata": {},
   "source": [
    "# Blood Glucose Predicition\n",
    "Using historical blood glucose readings, insulin dosage, carbohydrate intake, and smartwatch activity data to predict future blood glucose. "
   ]
  },
  {
   "cell_type": "code",
   "execution_count": 1,
   "metadata": {},
   "outputs": [],
   "source": [
    "import numpy as np\n",
    "import pandas as pd\n",
    "import polars as pl\n",
    "import matplotlib.pyplot as plt\n",
    "import sys\n",
    "import os\n",
    "sys.path.append(os.path.abspath(os.path.join(os.getcwd(), '..')))\n",
    "from helper.helper import float_to_time, time_to_float, float_time_range"
   ]
  },
  {
   "cell_type": "code",
   "execution_count": 11,
   "metadata": {},
   "outputs": [
    {
     "data": {
      "text/html": [
       "<div><style>\n",
       ".dataframe > thead > tr,\n",
       ".dataframe > tbody > tr {\n",
       "  text-align: right;\n",
       "  white-space: pre-wrap;\n",
       "}\n",
       "</style>\n",
       "<small>shape: (10, 72)</small><table border=\"1\" class=\"dataframe\"><thead><tr><th>steps-5:55</th><th>steps-5:50</th><th>steps-5:45</th><th>steps-5:40</th><th>steps-5:35</th><th>steps-5:30</th><th>steps-5:25</th><th>steps-5:20</th><th>steps-5:15</th><th>steps-5:10</th><th>steps-5:05</th><th>steps-5:00</th><th>steps-4:55</th><th>steps-4:50</th><th>steps-4:45</th><th>steps-4:40</th><th>steps-4:35</th><th>steps-4:30</th><th>steps-4:25</th><th>steps-4:20</th><th>steps-4:15</th><th>steps-4:10</th><th>steps-4:05</th><th>steps-4:00</th><th>steps-3:55</th><th>steps-3:50</th><th>steps-3:45</th><th>steps-3:40</th><th>steps-3:35</th><th>steps-3:30</th><th>steps-3:25</th><th>steps-3:20</th><th>steps-3:15</th><th>steps-3:10</th><th>steps-3:05</th><th>steps-3:00</th><th>steps-2:55</th><th>steps-2:50</th><th>steps-2:45</th><th>steps-2:40</th><th>steps-2:35</th><th>steps-2:30</th><th>steps-2:25</th><th>steps-2:20</th><th>steps-2:15</th><th>steps-2:10</th><th>steps-2:05</th><th>steps-2:00</th><th>steps-1:55</th><th>steps-1:50</th><th>steps-1:45</th><th>steps-1:40</th><th>steps-1:35</th><th>steps-1:30</th><th>steps-1:25</th><th>steps-1:20</th><th>steps-1:15</th><th>steps-1:10</th><th>steps-1:05</th><th>steps-1:00</th><th>steps-0:55</th><th>steps-0:50</th><th>steps-0:45</th><th>steps-0:40</th><th>steps-0:35</th><th>steps-0:30</th><th>steps-0:25</th><th>steps-0:20</th><th>steps-0:15</th><th>steps-0:10</th><th>steps-0:05</th><th>steps-0:00</th></tr><tr><td>i64</td><td>i64</td><td>i64</td><td>i64</td><td>i64</td><td>i64</td><td>i64</td><td>i64</td><td>i64</td><td>i64</td><td>i64</td><td>i64</td><td>i64</td><td>i64</td><td>i64</td><td>i64</td><td>i64</td><td>i64</td><td>i64</td><td>i64</td><td>i64</td><td>i64</td><td>i64</td><td>i64</td><td>i64</td><td>i64</td><td>i64</td><td>i64</td><td>i64</td><td>i64</td><td>i64</td><td>i64</td><td>i64</td><td>i64</td><td>i64</td><td>i64</td><td>i64</td><td>i64</td><td>i64</td><td>i64</td><td>i64</td><td>i64</td><td>i64</td><td>i64</td><td>i64</td><td>i64</td><td>i64</td><td>i64</td><td>i64</td><td>i64</td><td>i64</td><td>i64</td><td>i64</td><td>i64</td><td>i64</td><td>i64</td><td>i64</td><td>i64</td><td>i64</td><td>i64</td><td>i64</td><td>i64</td><td>i64</td><td>i64</td><td>i64</td><td>i64</td><td>i64</td><td>i64</td><td>i64</td><td>i64</td><td>i64</td><td>i64</td></tr></thead><tbody><tr><td>1359</td><td>358</td><td>null</td><td>776</td><td>47</td><td>null</td><td>null</td><td>37</td><td>12</td><td>null</td><td>null</td><td>171</td><td>null</td><td>null</td><td>null</td><td>null</td><td>null</td><td>null</td><td>null</td><td>null</td><td>null</td><td>null</td><td>null</td><td>null</td><td>null</td><td>null</td><td>null</td><td>null</td><td>null</td><td>null</td><td>null</td><td>null</td><td>null</td><td>null</td><td>null</td><td>null</td><td>null</td><td>null</td><td>null</td><td>null</td><td>null</td><td>null</td><td>null</td><td>null</td><td>null</td><td>null</td><td>null</td><td>null</td><td>null</td><td>null</td><td>null</td><td>null</td><td>null</td><td>null</td><td>null</td><td>null</td><td>null</td><td>null</td><td>null</td><td>null</td><td>null</td><td>null</td><td>null</td><td>null</td><td>null</td><td>null</td><td>null</td><td>null</td><td>null</td><td>null</td><td>null</td><td>null</td></tr><tr><td>1358</td><td>495</td><td>64</td><td>null</td><td>1106</td><td>null</td><td>887</td><td>null</td><td>1138</td><td>null</td><td>492</td><td>null</td><td>40</td><td>null</td><td>null</td><td>null</td><td>null</td><td>null</td><td>null</td><td>null</td><td>null</td><td>null</td><td>null</td><td>null</td><td>null</td><td>null</td><td>null</td><td>null</td><td>null</td><td>null</td><td>null</td><td>null</td><td>null</td><td>null</td><td>null</td><td>null</td><td>null</td><td>null</td><td>null</td><td>null</td><td>null</td><td>null</td><td>null</td><td>null</td><td>null</td><td>null</td><td>null</td><td>null</td><td>null</td><td>null</td><td>null</td><td>null</td><td>null</td><td>null</td><td>null</td><td>null</td><td>null</td><td>null</td><td>null</td><td>null</td><td>null</td><td>null</td><td>null</td><td>null</td><td>null</td><td>null</td><td>null</td><td>null</td><td>null</td><td>null</td><td>null</td><td>null</td></tr><tr><td>1330</td><td>72</td><td>null</td><td>70</td><td>55</td><td>136</td><td>82</td><td>null</td><td>19</td><td>6</td><td>null</td><td>null</td><td>6</td><td>null</td><td>null</td><td>null</td><td>null</td><td>45</td><td>null</td><td>null</td><td>null</td><td>null</td><td>17</td><td>null</td><td>175</td><td>178</td><td>43</td><td>null</td><td>null</td><td>null</td><td>null</td><td>null</td><td>95</td><td>146</td><td>10</td><td>null</td><td>353</td><td>null</td><td>394</td><td>null</td><td>182</td><td>null</td><td>null</td><td>null</td><td>null</td><td>null</td><td>null</td><td>null</td><td>null</td><td>null</td><td>null</td><td>null</td><td>null</td><td>null</td><td>null</td><td>null</td><td>null</td><td>null</td><td>null</td><td>null</td><td>null</td><td>null</td><td>null</td><td>null</td><td>null</td><td>null</td><td>null</td><td>null</td><td>null</td><td>null</td><td>null</td><td>null</td></tr><tr><td>1303</td><td>280</td><td>null</td><td>628</td><td>376</td><td>null</td><td>null</td><td>null</td><td>null</td><td>null</td><td>null</td><td>null</td><td>12</td><td>72</td><td>null</td><td>null</td><td>null</td><td>null</td><td>null</td><td>78</td><td>55</td><td>null</td><td>null</td><td>null</td><td>null</td><td>null</td><td>null</td><td>null</td><td>null</td><td>null</td><td>null</td><td>null</td><td>null</td><td>null</td><td>169</td><td>29</td><td>null</td><td>244</td><td>180</td><td>null</td><td>null</td><td>null</td><td>null</td><td>null</td><td>null</td><td>231</td><td>182</td><td>48</td><td>39</td><td>63</td><td>87</td><td>null</td><td>252</td><td>null</td><td>null</td><td>null</td><td>null</td><td>null</td><td>77</td><td>null</td><td>null</td><td>null</td><td>null</td><td>null</td><td>null</td><td>null</td><td>null</td><td>null</td><td>null</td><td>null</td><td>null</td><td>null</td></tr><tr><td>1283</td><td>358</td><td>null</td><td>564</td><td>null</td><td>936</td><td>325</td><td>456</td><td>69</td><td>null</td><td>567</td><td>null</td><td>1132</td><td>348</td><td>null</td><td>897</td><td>null</td><td>477</td><td>20</td><td>8</td><td>396</td><td>null</td><td>848</td><td>null</td><td>1026</td><td>430</td><td>null</td><td>1041</td><td>96</td><td>null</td><td>1175</td><td>362</td><td>null</td><td>1038</td><td>143</td><td>null</td><td>1359</td><td>358</td><td>null</td><td>776</td><td>47</td><td>null</td><td>null</td><td>37</td><td>12</td><td>null</td><td>null</td><td>171</td><td>null</td><td>null</td><td>null</td><td>null</td><td>null</td><td>null</td><td>null</td><td>null</td><td>null</td><td>null</td><td>null</td><td>null</td><td>null</td><td>null</td><td>null</td><td>null</td><td>null</td><td>null</td><td>null</td><td>null</td><td>null</td><td>null</td><td>null</td><td>null</td></tr><tr><td>1272</td><td>22</td><td>143</td><td>null</td><td>null</td><td>4</td><td>null</td><td>155</td><td>4</td><td>35</td><td>8</td><td>null</td><td>null</td><td>49</td><td>null</td><td>null</td><td>null</td><td>null</td><td>null</td><td>null</td><td>null</td><td>null</td><td>99</td><td>164</td><td>164</td><td>47</td><td>103</td><td>null</td><td>null</td><td>null</td><td>null</td><td>18</td><td>null</td><td>null</td><td>9</td><td>null</td><td>null</td><td>8</td><td>null</td><td>null</td><td>161</td><td>199</td><td>64</td><td>null</td><td>null</td><td>44</td><td>32</td><td>null</td><td>null</td><td>null</td><td>null</td><td>null</td><td>null</td><td>null</td><td>null</td><td>null</td><td>null</td><td>null</td><td>null</td><td>null</td><td>null</td><td>null</td><td>null</td><td>null</td><td>null</td><td>null</td><td>null</td><td>null</td><td>null</td><td>null</td><td>null</td><td>null</td></tr><tr><td>1258</td><td>99</td><td>null</td><td>1330</td><td>72</td><td>null</td><td>70</td><td>55</td><td>136</td><td>82</td><td>null</td><td>19</td><td>6</td><td>null</td><td>null</td><td>6</td><td>null</td><td>null</td><td>null</td><td>null</td><td>45</td><td>null</td><td>null</td><td>null</td><td>null</td><td>17</td><td>null</td><td>175</td><td>178</td><td>43</td><td>null</td><td>null</td><td>null</td><td>null</td><td>null</td><td>95</td><td>146</td><td>10</td><td>null</td><td>353</td><td>null</td><td>394</td><td>null</td><td>182</td><td>null</td><td>null</td><td>null</td><td>null</td><td>null</td><td>null</td><td>null</td><td>null</td><td>null</td><td>null</td><td>null</td><td>null</td><td>null</td><td>null</td><td>null</td><td>null</td><td>null</td><td>null</td><td>null</td><td>null</td><td>null</td><td>null</td><td>null</td><td>null</td><td>null</td><td>null</td><td>null</td><td>null</td></tr><tr><td>1239</td><td>null</td><td>131</td><td>114</td><td>8</td><td>103</td><td>50</td><td>53</td><td>43</td><td>null</td><td>41</td><td>null</td><td>8</td><td>null</td><td>96</td><td>133</td><td>21</td><td>178</td><td>null</td><td>8</td><td>61</td><td>null</td><td>null</td><td>null</td><td>null</td><td>null</td><td>null</td><td>null</td><td>null</td><td>null</td><td>null</td><td>null</td><td>null</td><td>null</td><td>null</td><td>null</td><td>null</td><td>null</td><td>null</td><td>null</td><td>null</td><td>38</td><td>null</td><td>null</td><td>null</td><td>null</td><td>null</td><td>null</td><td>null</td><td>null</td><td>null</td><td>null</td><td>null</td><td>null</td><td>null</td><td>null</td><td>null</td><td>null</td><td>null</td><td>null</td><td>null</td><td>null</td><td>null</td><td>null</td><td>null</td><td>null</td><td>null</td><td>null</td><td>null</td><td>null</td><td>null</td><td>null</td></tr><tr><td>1238</td><td>389</td><td>null</td><td>null</td><td>null</td><td>null</td><td>null</td><td>null</td><td>null</td><td>null</td><td>null</td><td>null</td><td>null</td><td>null</td><td>null</td><td>null</td><td>null</td><td>null</td><td>79</td><td>null</td><td>null</td><td>null</td><td>null</td><td>null</td><td>null</td><td>null</td><td>null</td><td>3</td><td>null</td><td>140</td><td>null</td><td>251</td><td>null</td><td>null</td><td>null</td><td>null</td><td>null</td><td>null</td><td>null</td><td>null</td><td>null</td><td>67</td><td>198</td><td>320</td><td>null</td><td>966</td><td>91</td><td>null</td><td>348</td><td>11</td><td>205</td><td>73</td><td>125</td><td>229</td><td>null</td><td>null</td><td>null</td><td>null</td><td>null</td><td>null</td><td>null</td><td>null</td><td>null</td><td>null</td><td>null</td><td>null</td><td>null</td><td>null</td><td>null</td><td>null</td><td>null</td><td>null</td></tr><tr><td>1229</td><td>null</td><td>928</td><td>null</td><td>111</td><td>null</td><td>null</td><td>null</td><td>null</td><td>null</td><td>null</td><td>null</td><td>null</td><td>null</td><td>null</td><td>null</td><td>null</td><td>null</td><td>null</td><td>null</td><td>null</td><td>null</td><td>null</td><td>203</td><td>108</td><td>67</td><td>13</td><td>105</td><td>150</td><td>null</td><td>null</td><td>null</td><td>136</td><td>234</td><td>232</td><td>202</td><td>148</td><td>136</td><td>null</td><td>116</td><td>null</td><td>null</td><td>81</td><td>139</td><td>74</td><td>176</td><td>null</td><td>340</td><td>25</td><td>null</td><td>null</td><td>16</td><td>74</td><td>null</td><td>null</td><td>null</td><td>160</td><td>null</td><td>354</td><td>306</td><td>40</td><td>88</td><td>61</td><td>6</td><td>null</td><td>6</td><td>null</td><td>null</td><td>60</td><td>null</td><td>null</td><td>52</td></tr></tbody></table></div>"
      ],
      "text/plain": [
       "shape: (10, 72)\n",
       "┌───────────┬───────────┬───────────┬───────────┬───┬───────────┬───────────┬───────────┬──────────┐\n",
       "│ steps-5:5 ┆ steps-5:5 ┆ steps-5:4 ┆ steps-5:4 ┆ … ┆ steps-0:1 ┆ steps-0:1 ┆ steps-0:0 ┆ steps-0: │\n",
       "│ 5         ┆ 0         ┆ 5         ┆ 0         ┆   ┆ 5         ┆ 0         ┆ 5         ┆ 00       │\n",
       "│ ---       ┆ ---       ┆ ---       ┆ ---       ┆   ┆ ---       ┆ ---       ┆ ---       ┆ ---      │\n",
       "│ i64       ┆ i64       ┆ i64       ┆ i64       ┆   ┆ i64       ┆ i64       ┆ i64       ┆ i64      │\n",
       "╞═══════════╪═══════════╪═══════════╪═══════════╪═══╪═══════════╪═══════════╪═══════════╪══════════╡\n",
       "│ 1359      ┆ 358       ┆ null      ┆ 776       ┆ … ┆ null      ┆ null      ┆ null      ┆ null     │\n",
       "│ 1358      ┆ 495       ┆ 64        ┆ null      ┆ … ┆ null      ┆ null      ┆ null      ┆ null     │\n",
       "│ 1330      ┆ 72        ┆ null      ┆ 70        ┆ … ┆ null      ┆ null      ┆ null      ┆ null     │\n",
       "│ 1303      ┆ 280       ┆ null      ┆ 628       ┆ … ┆ null      ┆ null      ┆ null      ┆ null     │\n",
       "│ 1283      ┆ 358       ┆ null      ┆ 564       ┆ … ┆ null      ┆ null      ┆ null      ┆ null     │\n",
       "│ 1272      ┆ 22        ┆ 143       ┆ null      ┆ … ┆ null      ┆ null      ┆ null      ┆ null     │\n",
       "│ 1258      ┆ 99        ┆ null      ┆ 1330      ┆ … ┆ null      ┆ null      ┆ null      ┆ null     │\n",
       "│ 1239      ┆ null      ┆ 131       ┆ 114       ┆ … ┆ null      ┆ null      ┆ null      ┆ null     │\n",
       "│ 1238      ┆ 389       ┆ null      ┆ null      ┆ … ┆ null      ┆ null      ┆ null      ┆ null     │\n",
       "│ 1229      ┆ null      ┆ 928       ┆ null      ┆ … ┆ 60        ┆ null      ┆ null      ┆ 52       │\n",
       "└───────────┴───────────┴───────────┴───────────┴───┴───────────┴───────────┴───────────┴──────────┘"
      ]
     },
     "execution_count": 11,
     "metadata": {},
     "output_type": "execute_result"
    }
   ],
   "source": [
    "train_schema = {\n",
    "    'id': pl.String(),\n",
    "    'p_num': pl.String(),\n",
    "    'time': pl.Time(),\n",
    "    'bg+1:00': pl.Float64()\n",
    "    \n",
    "}\n",
    "\n",
    "for measurement_time in float_time_range(5.55,0.00,-0.05):\n",
    "    train_schema[f'bg-{measurement_time}'] = pl.Float64()\n",
    "    train_schema[f'insulin-{measurement_time}'] = pl.Float64()\n",
    "    train_schema[f'carbs-{measurement_time}'] = pl.Float64()\n",
    "    train_schema[f'hr-{measurement_time}'] = pl.Float64()\n",
    "    train_schema[f'steps-{measurement_time}'] = pl.Float64()\n",
    "    train_schema[f'cals-{measurement_time}'] = pl.Float64()\n",
    "    train_schema[f'activity-{measurement_time}'] = pl.String()\n",
    "    \n",
    "train_df = pl.read_csv('../../data/train.csv',\n",
    "                       schema_overrides=pl.Schema(train_schema),\n",
    "                       null_values = ['',' ','null','NaN','None']\n",
    ")\n",
    "\n",
    "step_columns = [f'steps-{t}' for t in float_time_range(5.55, 0.00, -0.05)]\n",
    "train_df = train_df.with_columns(pl.col(step_columns).cast(pl.Int64))\n",
    "    \n",
    "train_df[step_columns].top_k(10,by='steps-5:55')"
   ]
  }
 ],
 "metadata": {
  "kernelspec": {
   "display_name": "bg_pred",
   "language": "python",
   "name": "python3"
  },
  "language_info": {
   "codemirror_mode": {
    "name": "ipython",
    "version": 3
   },
   "file_extension": ".py",
   "mimetype": "text/x-python",
   "name": "python",
   "nbconvert_exporter": "python",
   "pygments_lexer": "ipython3",
   "version": "3.10.12"
  }
 },
 "nbformat": 4,
 "nbformat_minor": 2
}
