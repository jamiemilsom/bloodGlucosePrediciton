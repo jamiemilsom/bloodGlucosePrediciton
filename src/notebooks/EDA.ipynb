{
 "cells": [
  {
   "cell_type": "markdown",
   "metadata": {},
   "source": [
    "# Blood Glucose Predicition\n",
    "Using historical blood glucose readings, insulin dosage, carbohydrate intake, and smartwatch activity data to predict future blood glucose. "
   ]
  },
  {
   "cell_type": "code",
   "execution_count": 15,
   "metadata": {},
   "outputs": [],
   "source": [
    "import numpy as np\n",
    "import pandas as pd\n",
    "import polars as pl\n",
    "import matplotlib.pyplot as plt\n",
    "import sys\n",
    "import os\n",
    "sys.path.append(os.path.abspath(os.path.join(os.getcwd(), '..')))\n",
    "from helper.helper import float_to_time, time_to_float, float_time_range\n",
    "import random\n",
    "# Set seed for repeatability\n",
    "def seed_everything(seed):\n",
    "    np.random.seed(seed) # np random seed\n",
    "    random.seed(seed) # py random seed\n",
    "seed_everything(seed=1024)"
   ]
  },
  {
   "cell_type": "code",
   "execution_count": 16,
   "metadata": {},
   "outputs": [
    {
     "data": {
      "text/html": [
       "<div><style>\n",
       ".dataframe > thead > tr,\n",
       ".dataframe > tbody > tr {\n",
       "  text-align: right;\n",
       "  white-space: pre-wrap;\n",
       "}\n",
       "</style>\n",
       "<small>shape: (177_024, 508)</small><table border=\"1\" class=\"dataframe\"><thead><tr><th>id</th><th>p_num</th><th>time</th><th>bg-5:55</th><th>bg-5:50</th><th>bg-5:45</th><th>bg-5:40</th><th>bg-5:35</th><th>bg-5:30</th><th>bg-5:25</th><th>bg-5:20</th><th>bg-5:15</th><th>bg-5:10</th><th>bg-5:05</th><th>bg-5:00</th><th>bg-4:55</th><th>bg-4:50</th><th>bg-4:45</th><th>bg-4:40</th><th>bg-4:35</th><th>bg-4:30</th><th>bg-4:25</th><th>bg-4:20</th><th>bg-4:15</th><th>bg-4:10</th><th>bg-4:05</th><th>bg-4:00</th><th>bg-3:55</th><th>bg-3:50</th><th>bg-3:45</th><th>bg-3:40</th><th>bg-3:35</th><th>bg-3:30</th><th>bg-3:25</th><th>bg-3:20</th><th>bg-3:15</th><th>bg-3:10</th><th>&hellip;</th><th>activity-2:55</th><th>activity-2:50</th><th>activity-2:45</th><th>activity-2:40</th><th>activity-2:35</th><th>activity-2:30</th><th>activity-2:25</th><th>activity-2:20</th><th>activity-2:15</th><th>activity-2:10</th><th>activity-2:05</th><th>activity-2:00</th><th>activity-1:55</th><th>activity-1:50</th><th>activity-1:45</th><th>activity-1:40</th><th>activity-1:35</th><th>activity-1:30</th><th>activity-1:25</th><th>activity-1:20</th><th>activity-1:15</th><th>activity-1:10</th><th>activity-1:05</th><th>activity-1:00</th><th>activity-0:55</th><th>activity-0:50</th><th>activity-0:45</th><th>activity-0:40</th><th>activity-0:35</th><th>activity-0:30</th><th>activity-0:25</th><th>activity-0:20</th><th>activity-0:15</th><th>activity-0:10</th><th>activity-0:05</th><th>activity-0:00</th><th>bg+1:00</th></tr><tr><td>str</td><td>str</td><td>time</td><td>f64</td><td>f64</td><td>f64</td><td>f64</td><td>f64</td><td>f64</td><td>f64</td><td>f64</td><td>f64</td><td>f64</td><td>f64</td><td>f64</td><td>f64</td><td>f64</td><td>f64</td><td>f64</td><td>f64</td><td>f64</td><td>f64</td><td>f64</td><td>f64</td><td>f64</td><td>f64</td><td>f64</td><td>f64</td><td>f64</td><td>f64</td><td>f64</td><td>f64</td><td>f64</td><td>f64</td><td>f64</td><td>f64</td><td>f64</td><td>&hellip;</td><td>str</td><td>str</td><td>str</td><td>str</td><td>str</td><td>str</td><td>str</td><td>str</td><td>str</td><td>str</td><td>str</td><td>str</td><td>str</td><td>str</td><td>str</td><td>str</td><td>str</td><td>str</td><td>str</td><td>str</td><td>str</td><td>str</td><td>str</td><td>str</td><td>str</td><td>str</td><td>str</td><td>str</td><td>str</td><td>str</td><td>str</td><td>str</td><td>str</td><td>str</td><td>str</td><td>str</td><td>f64</td></tr></thead><tbody><tr><td>&quot;p01_0&quot;</td><td>&quot;p01&quot;</td><td>06:10:00</td><td>null</td><td>null</td><td>9.6</td><td>null</td><td>null</td><td>9.7</td><td>null</td><td>null</td><td>9.2</td><td>null</td><td>null</td><td>8.7</td><td>null</td><td>null</td><td>8.4</td><td>null</td><td>null</td><td>8.1</td><td>null</td><td>null</td><td>8.3</td><td>null</td><td>null</td><td>9.6</td><td>null</td><td>null</td><td>11.1</td><td>null</td><td>null</td><td>11.8</td><td>null</td><td>null</td><td>12.8</td><td>null</td><td>&hellip;</td><td>null</td><td>null</td><td>null</td><td>null</td><td>null</td><td>null</td><td>null</td><td>null</td><td>null</td><td>null</td><td>null</td><td>null</td><td>null</td><td>null</td><td>null</td><td>null</td><td>null</td><td>null</td><td>null</td><td>null</td><td>null</td><td>null</td><td>null</td><td>null</td><td>null</td><td>null</td><td>null</td><td>null</td><td>null</td><td>null</td><td>null</td><td>null</td><td>null</td><td>null</td><td>null</td><td>null</td><td>13.4</td></tr><tr><td>&quot;p01_1&quot;</td><td>&quot;p01&quot;</td><td>06:25:00</td><td>null</td><td>null</td><td>9.7</td><td>null</td><td>null</td><td>9.2</td><td>null</td><td>null</td><td>8.7</td><td>null</td><td>null</td><td>8.4</td><td>null</td><td>null</td><td>8.1</td><td>null</td><td>null</td><td>8.3</td><td>null</td><td>null</td><td>9.6</td><td>null</td><td>null</td><td>11.1</td><td>null</td><td>null</td><td>11.8</td><td>null</td><td>null</td><td>12.8</td><td>null</td><td>null</td><td>13.9</td><td>null</td><td>&hellip;</td><td>null</td><td>null</td><td>null</td><td>null</td><td>null</td><td>null</td><td>null</td><td>null</td><td>null</td><td>null</td><td>null</td><td>null</td><td>null</td><td>null</td><td>null</td><td>null</td><td>null</td><td>null</td><td>null</td><td>null</td><td>null</td><td>null</td><td>null</td><td>null</td><td>null</td><td>null</td><td>null</td><td>null</td><td>null</td><td>null</td><td>null</td><td>null</td><td>null</td><td>null</td><td>null</td><td>null</td><td>12.8</td></tr><tr><td>&quot;p01_2&quot;</td><td>&quot;p01&quot;</td><td>06:40:00</td><td>null</td><td>null</td><td>9.2</td><td>null</td><td>null</td><td>8.7</td><td>null</td><td>null</td><td>8.4</td><td>null</td><td>null</td><td>8.1</td><td>null</td><td>null</td><td>8.3</td><td>null</td><td>null</td><td>9.6</td><td>null</td><td>null</td><td>11.1</td><td>null</td><td>null</td><td>11.8</td><td>null</td><td>null</td><td>12.8</td><td>null</td><td>null</td><td>13.9</td><td>null</td><td>null</td><td>14.2</td><td>null</td><td>&hellip;</td><td>null</td><td>null</td><td>null</td><td>null</td><td>null</td><td>null</td><td>null</td><td>null</td><td>null</td><td>null</td><td>null</td><td>null</td><td>null</td><td>null</td><td>null</td><td>null</td><td>null</td><td>null</td><td>null</td><td>null</td><td>null</td><td>null</td><td>null</td><td>null</td><td>null</td><td>null</td><td>null</td><td>null</td><td>null</td><td>null</td><td>null</td><td>null</td><td>null</td><td>null</td><td>null</td><td>null</td><td>15.5</td></tr><tr><td>&quot;p01_3&quot;</td><td>&quot;p01&quot;</td><td>06:55:00</td><td>null</td><td>null</td><td>8.7</td><td>null</td><td>null</td><td>8.4</td><td>null</td><td>null</td><td>8.1</td><td>null</td><td>null</td><td>8.3</td><td>null</td><td>null</td><td>9.6</td><td>null</td><td>null</td><td>11.1</td><td>null</td><td>null</td><td>11.8</td><td>null</td><td>null</td><td>12.8</td><td>null</td><td>null</td><td>13.9</td><td>null</td><td>null</td><td>14.2</td><td>null</td><td>null</td><td>14.2</td><td>null</td><td>&hellip;</td><td>null</td><td>null</td><td>null</td><td>null</td><td>null</td><td>null</td><td>null</td><td>null</td><td>null</td><td>null</td><td>null</td><td>null</td><td>null</td><td>null</td><td>null</td><td>null</td><td>null</td><td>null</td><td>null</td><td>null</td><td>null</td><td>null</td><td>null</td><td>null</td><td>null</td><td>null</td><td>null</td><td>null</td><td>null</td><td>null</td><td>null</td><td>null</td><td>null</td><td>null</td><td>null</td><td>null</td><td>14.8</td></tr><tr><td>&quot;p01_4&quot;</td><td>&quot;p01&quot;</td><td>07:10:00</td><td>null</td><td>null</td><td>8.4</td><td>null</td><td>null</td><td>8.1</td><td>null</td><td>null</td><td>8.3</td><td>null</td><td>null</td><td>9.6</td><td>null</td><td>null</td><td>11.1</td><td>null</td><td>null</td><td>11.8</td><td>null</td><td>null</td><td>12.8</td><td>null</td><td>null</td><td>13.9</td><td>null</td><td>null</td><td>14.2</td><td>null</td><td>null</td><td>14.2</td><td>null</td><td>null</td><td>15.4</td><td>null</td><td>&hellip;</td><td>null</td><td>null</td><td>null</td><td>null</td><td>null</td><td>null</td><td>null</td><td>null</td><td>null</td><td>null</td><td>null</td><td>null</td><td>null</td><td>null</td><td>null</td><td>null</td><td>null</td><td>null</td><td>null</td><td>null</td><td>null</td><td>null</td><td>null</td><td>null</td><td>null</td><td>null</td><td>null</td><td>null</td><td>null</td><td>null</td><td>null</td><td>null</td><td>null</td><td>null</td><td>null</td><td>null</td><td>12.7</td></tr><tr><td>&hellip;</td><td>&hellip;</td><td>&hellip;</td><td>&hellip;</td><td>&hellip;</td><td>&hellip;</td><td>&hellip;</td><td>&hellip;</td><td>&hellip;</td><td>&hellip;</td><td>&hellip;</td><td>&hellip;</td><td>&hellip;</td><td>&hellip;</td><td>&hellip;</td><td>&hellip;</td><td>&hellip;</td><td>&hellip;</td><td>&hellip;</td><td>&hellip;</td><td>&hellip;</td><td>&hellip;</td><td>&hellip;</td><td>&hellip;</td><td>&hellip;</td><td>&hellip;</td><td>&hellip;</td><td>&hellip;</td><td>&hellip;</td><td>&hellip;</td><td>&hellip;</td><td>&hellip;</td><td>&hellip;</td><td>&hellip;</td><td>&hellip;</td><td>&hellip;</td><td>&hellip;</td><td>&hellip;</td><td>&hellip;</td><td>&hellip;</td><td>&hellip;</td><td>&hellip;</td><td>&hellip;</td><td>&hellip;</td><td>&hellip;</td><td>&hellip;</td><td>&hellip;</td><td>&hellip;</td><td>&hellip;</td><td>&hellip;</td><td>&hellip;</td><td>&hellip;</td><td>&hellip;</td><td>&hellip;</td><td>&hellip;</td><td>&hellip;</td><td>&hellip;</td><td>&hellip;</td><td>&hellip;</td><td>&hellip;</td><td>&hellip;</td><td>&hellip;</td><td>&hellip;</td><td>&hellip;</td><td>&hellip;</td><td>&hellip;</td><td>&hellip;</td><td>&hellip;</td><td>&hellip;</td><td>&hellip;</td><td>&hellip;</td><td>&hellip;</td><td>&hellip;</td><td>&hellip;</td><td>&hellip;</td></tr><tr><td>&quot;p12_25294&quot;</td><td>&quot;p12&quot;</td><td>23:35:00</td><td>8.8</td><td>9.1</td><td>9.2</td><td>9.4</td><td>9.8</td><td>10.2</td><td>10.4</td><td>10.3</td><td>10.1</td><td>10.0</td><td>9.8</td><td>9.5</td><td>9.2</td><td>9.0</td><td>8.9</td><td>8.7</td><td>8.3</td><td>7.8</td><td>7.6</td><td>7.6</td><td>7.7</td><td>7.7</td><td>7.7</td><td>7.6</td><td>7.7</td><td>7.8</td><td>7.9</td><td>8.0</td><td>8.1</td><td>8.3</td><td>8.4</td><td>8.5</td><td>8.6</td><td>8.6</td><td>&hellip;</td><td>null</td><td>null</td><td>null</td><td>null</td><td>null</td><td>null</td><td>null</td><td>null</td><td>null</td><td>null</td><td>null</td><td>null</td><td>null</td><td>null</td><td>null</td><td>null</td><td>null</td><td>null</td><td>null</td><td>null</td><td>null</td><td>null</td><td>null</td><td>null</td><td>null</td><td>null</td><td>null</td><td>null</td><td>null</td><td>null</td><td>null</td><td>null</td><td>null</td><td>null</td><td>null</td><td>null</td><td>11.1</td></tr><tr><td>&quot;p12_25295&quot;</td><td>&quot;p12&quot;</td><td>23:40:00</td><td>9.1</td><td>9.2</td><td>9.4</td><td>9.8</td><td>10.2</td><td>10.4</td><td>10.3</td><td>10.1</td><td>10.0</td><td>9.8</td><td>9.5</td><td>9.2</td><td>9.0</td><td>8.9</td><td>8.7</td><td>8.3</td><td>7.8</td><td>7.6</td><td>7.6</td><td>7.7</td><td>7.7</td><td>7.7</td><td>7.6</td><td>7.7</td><td>7.8</td><td>7.9</td><td>8.0</td><td>8.1</td><td>8.3</td><td>8.4</td><td>8.5</td><td>8.6</td><td>8.6</td><td>8.5</td><td>&hellip;</td><td>null</td><td>null</td><td>null</td><td>null</td><td>null</td><td>null</td><td>null</td><td>null</td><td>null</td><td>null</td><td>null</td><td>null</td><td>null</td><td>null</td><td>null</td><td>null</td><td>null</td><td>null</td><td>null</td><td>null</td><td>null</td><td>null</td><td>null</td><td>null</td><td>null</td><td>null</td><td>null</td><td>null</td><td>null</td><td>null</td><td>null</td><td>null</td><td>null</td><td>null</td><td>null</td><td>null</td><td>10.9</td></tr><tr><td>&quot;p12_25296&quot;</td><td>&quot;p12&quot;</td><td>23:45:00</td><td>9.2</td><td>9.4</td><td>9.8</td><td>10.2</td><td>10.4</td><td>10.3</td><td>10.1</td><td>10.0</td><td>9.8</td><td>9.5</td><td>9.2</td><td>9.0</td><td>8.9</td><td>8.7</td><td>8.3</td><td>7.8</td><td>7.6</td><td>7.6</td><td>7.7</td><td>7.7</td><td>7.7</td><td>7.6</td><td>7.7</td><td>7.8</td><td>7.9</td><td>8.0</td><td>8.1</td><td>8.3</td><td>8.4</td><td>8.5</td><td>8.6</td><td>8.6</td><td>8.5</td><td>8.4</td><td>&hellip;</td><td>null</td><td>null</td><td>null</td><td>null</td><td>null</td><td>null</td><td>null</td><td>null</td><td>null</td><td>null</td><td>null</td><td>null</td><td>null</td><td>null</td><td>null</td><td>null</td><td>null</td><td>null</td><td>null</td><td>null</td><td>null</td><td>null</td><td>null</td><td>null</td><td>null</td><td>null</td><td>null</td><td>null</td><td>null</td><td>null</td><td>null</td><td>null</td><td>null</td><td>null</td><td>null</td><td>null</td><td>10.7</td></tr><tr><td>&quot;p12_25297&quot;</td><td>&quot;p12&quot;</td><td>23:50:00</td><td>9.4</td><td>9.8</td><td>10.2</td><td>10.4</td><td>10.3</td><td>10.1</td><td>10.0</td><td>9.8</td><td>9.5</td><td>9.2</td><td>9.0</td><td>8.9</td><td>8.7</td><td>8.3</td><td>7.8</td><td>7.6</td><td>7.6</td><td>7.7</td><td>7.7</td><td>7.7</td><td>7.6</td><td>7.7</td><td>7.8</td><td>7.9</td><td>8.0</td><td>8.1</td><td>8.3</td><td>8.4</td><td>8.5</td><td>8.6</td><td>8.6</td><td>8.5</td><td>8.4</td><td>8.3</td><td>&hellip;</td><td>null</td><td>null</td><td>null</td><td>null</td><td>null</td><td>null</td><td>null</td><td>null</td><td>null</td><td>null</td><td>null</td><td>null</td><td>null</td><td>null</td><td>null</td><td>null</td><td>null</td><td>null</td><td>null</td><td>null</td><td>null</td><td>null</td><td>null</td><td>null</td><td>null</td><td>null</td><td>null</td><td>null</td><td>null</td><td>null</td><td>null</td><td>null</td><td>null</td><td>null</td><td>null</td><td>null</td><td>10.5</td></tr><tr><td>&quot;p12_25298&quot;</td><td>&quot;p12&quot;</td><td>23:55:00</td><td>9.8</td><td>10.2</td><td>10.4</td><td>10.3</td><td>10.1</td><td>10.0</td><td>9.8</td><td>9.5</td><td>9.2</td><td>9.0</td><td>8.9</td><td>8.7</td><td>8.3</td><td>7.8</td><td>7.6</td><td>7.6</td><td>7.7</td><td>7.7</td><td>7.7</td><td>7.6</td><td>7.7</td><td>7.8</td><td>7.9</td><td>8.0</td><td>8.1</td><td>8.3</td><td>8.4</td><td>8.5</td><td>8.6</td><td>8.6</td><td>8.5</td><td>8.4</td><td>8.3</td><td>8.0</td><td>&hellip;</td><td>null</td><td>null</td><td>null</td><td>null</td><td>null</td><td>null</td><td>null</td><td>null</td><td>null</td><td>null</td><td>null</td><td>null</td><td>null</td><td>null</td><td>null</td><td>null</td><td>null</td><td>null</td><td>null</td><td>null</td><td>null</td><td>null</td><td>null</td><td>null</td><td>null</td><td>null</td><td>null</td><td>null</td><td>null</td><td>null</td><td>null</td><td>null</td><td>null</td><td>null</td><td>null</td><td>null</td><td>10.2</td></tr></tbody></table></div>"
      ],
      "text/plain": [
       "shape: (177_024, 508)\n",
       "┌───────────┬───────┬──────────┬─────────┬───┬──────────────┬──────────────┬─────────────┬─────────┐\n",
       "│ id        ┆ p_num ┆ time     ┆ bg-5:55 ┆ … ┆ activity-0:1 ┆ activity-0:0 ┆ activity-0: ┆ bg+1:00 │\n",
       "│ ---       ┆ ---   ┆ ---      ┆ ---     ┆   ┆ 0            ┆ 5            ┆ 00          ┆ ---     │\n",
       "│ str       ┆ str   ┆ time     ┆ f64     ┆   ┆ ---          ┆ ---          ┆ ---         ┆ f64     │\n",
       "│           ┆       ┆          ┆         ┆   ┆ str          ┆ str          ┆ str         ┆         │\n",
       "╞═══════════╪═══════╪══════════╪═════════╪═══╪══════════════╪══════════════╪═════════════╪═════════╡\n",
       "│ p01_0     ┆ p01   ┆ 06:10:00 ┆ null    ┆ … ┆ null         ┆ null         ┆ null        ┆ 13.4    │\n",
       "│ p01_1     ┆ p01   ┆ 06:25:00 ┆ null    ┆ … ┆ null         ┆ null         ┆ null        ┆ 12.8    │\n",
       "│ p01_2     ┆ p01   ┆ 06:40:00 ┆ null    ┆ … ┆ null         ┆ null         ┆ null        ┆ 15.5    │\n",
       "│ p01_3     ┆ p01   ┆ 06:55:00 ┆ null    ┆ … ┆ null         ┆ null         ┆ null        ┆ 14.8    │\n",
       "│ p01_4     ┆ p01   ┆ 07:10:00 ┆ null    ┆ … ┆ null         ┆ null         ┆ null        ┆ 12.7    │\n",
       "│ …         ┆ …     ┆ …        ┆ …       ┆ … ┆ …            ┆ …            ┆ …           ┆ …       │\n",
       "│ p12_25294 ┆ p12   ┆ 23:35:00 ┆ 8.8     ┆ … ┆ null         ┆ null         ┆ null        ┆ 11.1    │\n",
       "│ p12_25295 ┆ p12   ┆ 23:40:00 ┆ 9.1     ┆ … ┆ null         ┆ null         ┆ null        ┆ 10.9    │\n",
       "│ p12_25296 ┆ p12   ┆ 23:45:00 ┆ 9.2     ┆ … ┆ null         ┆ null         ┆ null        ┆ 10.7    │\n",
       "│ p12_25297 ┆ p12   ┆ 23:50:00 ┆ 9.4     ┆ … ┆ null         ┆ null         ┆ null        ┆ 10.5    │\n",
       "│ p12_25298 ┆ p12   ┆ 23:55:00 ┆ 9.8     ┆ … ┆ null         ┆ null         ┆ null        ┆ 10.2    │\n",
       "└───────────┴───────┴──────────┴─────────┴───┴──────────────┴──────────────┴─────────────┴─────────┘"
      ]
     },
     "execution_count": 16,
     "metadata": {},
     "output_type": "execute_result"
    }
   ],
   "source": [
    "train_schema = {\n",
    "    'id': pl.String(),\n",
    "    'p_num': pl.String(),\n",
    "    'time': pl.Time(),\n",
    "    'bg+1:00': pl.Float64()\n",
    "    \n",
    "}\n",
    "\n",
    "for measurement_time in float_time_range(5.55,0.00,-0.05):\n",
    "    train_schema[f'bg-{measurement_time}'] = pl.Float64()\n",
    "    train_schema[f'insulin-{measurement_time}'] = pl.Float64()\n",
    "    train_schema[f'carbs-{measurement_time}'] = pl.Float64()\n",
    "    train_schema[f'hr-{measurement_time}'] = pl.Float64()\n",
    "    train_schema[f'steps-{measurement_time}'] = pl.Float64()\n",
    "    train_schema[f'cals-{measurement_time}'] = pl.Float64()\n",
    "    train_schema[f'activity-{measurement_time}'] = pl.String()\n",
    "    \n",
    "train_df = pl.read_csv('../../data/train.csv',\n",
    "                       schema_overrides=pl.Schema(train_schema),\n",
    "                       null_values = ['',' ','null','NaN','None']\n",
    ")\n",
    "\n",
    "step_columns = [f'steps-{t}' for t in float_time_range(5.55, 0.00, -0.05)]\n",
    "train_df = train_df.with_columns(pl.col(step_columns).cast(pl.Int64))\n",
    "\n",
    "train_df\n",
    "    \n",
    "# train_df[step_columns].top_k(10,by='steps-5:55')"
   ]
  },
  {
   "cell_type": "markdown",
   "metadata": {},
   "source": [
    "## Dataset Description\n",
    "\n",
    "The dataset is from a study that \n",
    "- Collected data from young adults in the UK with type 1 diabetes, who used a continuous glucose monitor (CGM), an insulin pump and a smartwatch.\n",
    "- These devices collected blood glucose readings, insulin dosage, carbohydrate intake, and activity data. \n",
    "- The data collected was aggregated to five-minute intervals and formatted into samples. \n",
    "- Each sample represents a point in time and includes the aggregated five-minute intervals from the previous six hours. \n",
    "- The aim is to predict the blood glucose reading an hour into the future, for each of these samples.\n",
    "\n",
    "#### The Training Set\n",
    "- Takes samples from the first three months of study data from nine of the participants and includes the future blood glucose value.\n",
    "- These training samples appear in chronological order and overlap. \n",
    "#### The Testing Set\n",
    "- Takes samples from the remainder of the study period from fifteen of the participants (so unseen participants appear in the testing set).\n",
    "- These testing samples do not overlap and are in a random order to avoid data leakage.\n",
    "\n",
    "### Complexities to be aware of:\n",
    "- This is medical data so there are missing values and noise in the data\n",
    "- The participants did not all use the same device models (CGM, insulin pump and smartwatch) so there may be differences in the collection method of the data\n",
    "- Some participants in the test set do not appear in the training set\n",
    "\n",
    "#### Files\n",
    "* `activities.txt`: A list of activity names that appear in the `activity-X:XX` columns.\n",
    "* `sample_submission.csv`: A sample submission file in the correct format.\n",
    "* `test.csv`: The test set.\n",
    "* `train.csv`: The training set.\n",
    "\n",
    "### Training Features\n",
    "| Feature | Description |\n",
    "|---|---|\n",
    "| `id` | row id consisting of participant number and a count for that participant |\n",
    "| `p_num` | participant number |\n",
    "| `time` | time of day in the format HH:MM:SS |\n",
    "| `bg-X:XX` | blood glucose reading in mmol/L, X:XX(H:MM) time in the past (e.g. bg-2:35, would be the blood glucose reading from 2 hours and 35 minutes before the time value for that row), recorded by the continuous glucose monitor |\n",
    "| `insulin-X:XX` | total insulin dose received in units in the last 5 minutes, X:XX(H:MM) time in the past (e.g. insulin-2:35, would be the total insulin dose received between 2 hours and 40 minutes and 2 hours and 35 minutes before the time value for that row), recorded by the insulin pump |\n",
    "| `carbs-X:XX` | total carbohydrate value consumed in grammes in the last 5 minutes, X:XX(H:MM) time in the past (e.g. carbs-2:35, would be the total carbohydrate value consumed between 2 hours and 40 minutes and 2 hours and 35 minutes before the time value for that row), recorded by the participant |\n",
    "| `hr-X:XX` | mean heart rate in beats per minute in the last 5 minutes, X:XX(H:MM) time in the past (e.g. hr-2:35, would be the mean heart rate between 2 hours and 40 minutes and 2 hours and 35 minutes before the time value for that row), recorded by the smartwatch |\n",
    "| `steps-X:XX` | total steps walked in the last 5 minutes, X:XX(H:MM) time in the past (e.g. steps-2:35, would be the total steps walked between 2 hours and 40 minutes and 2 hours and 35 minutes before the time value for that row), recorded by the smartwatch |\n",
    "| `cals-X:XX` | total calories burnt in the last 5 minutes, X:XX(H:MM) time in the past (e.g. cals-2:35, would be the total calories burned between 2 hours and 40 minutes and 2 hours and 35 minutes before the time value for that row), calculated by the smartwatch |\n",
    "| `activity-X:XX` | self-declared activity performed in the last 5 minutes, X:XX(H:MM) time in the past (e.g. activity-2:35, would show a string name of the activity performed between 2 hours and 40 minutes and 2 hours and 35 minutes before the time value for that row), set on the smartwatch |\n",
    "| `bg+1:00` | blood glucose reading in mmol/L an hour in the future, this is the value you will be predicting (not provided in test.csv) |"
   ]
  },
  {
   "cell_type": "code",
   "execution_count": null,
   "metadata": {},
   "outputs": [],
   "source": []
  }
 ],
 "metadata": {
  "kernelspec": {
   "display_name": "bg_pred",
   "language": "python",
   "name": "python3"
  },
  "language_info": {
   "codemirror_mode": {
    "name": "ipython",
    "version": 3
   },
   "file_extension": ".py",
   "mimetype": "text/x-python",
   "name": "python",
   "nbconvert_exporter": "python",
   "pygments_lexer": "ipython3",
   "version": "3.10.12"
  }
 },
 "nbformat": 4,
 "nbformat_minor": 2
}
