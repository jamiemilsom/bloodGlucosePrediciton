{
 "cells": [
  {
   "cell_type": "markdown",
   "metadata": {},
   "source": [
    "# Building the LSTM Model"
   ]
  },
  {
   "cell_type": "code",
   "execution_count": null,
   "metadata": {},
   "outputs": [],
   "source": [
    "import torch\n",
    "from datetime import datetime\n",
    "from sklearn.model_selection import train_test_split\n",
    "from torch.utils.data import TensorDataset, DataLoader, random_split, Subset\n",
    "from sklearn.preprocessing import MinMaxScaler\n",
    "import numpy as np\n",
    "import pandas as pd\n",
    "import polars as pl\n",
    "import matplotlib.pyplot as plt\n",
    "import seaborn as sns\n",
    "import optuna\n",
    "import torch.optim as optim\n",
    "import torch.nn as nn\n",
    "import sys\n",
    "import os\n",
    "import optuna\n",
    "import torch\n",
    "import torch.nn as nn\n",
    "import torch.optim as optim\n",
    "from torch.utils.data import DataLoader\n",
    "import numpy as np\n",
    "from datetime import datetime\n",
    "import threading\n",
    "import webbrowser\n",
    "from optuna.visualization import plot_optimization_history\n",
    "import optuna\n",
    "import torch\n",
    "import torch.nn as nn\n",
    "import torch.optim as optim\n",
    "from torch.utils.data import DataLoader\n",
    "import numpy as np\n",
    "from datetime import datetime\n",
    "import time\n",
    "import subprocess\n",
    "import webbrowser\n",
    "sys.path.append(os.path.abspath(os.path.join(os.getcwd(), '..')))\n",
    "from helper.helper import float_to_time, time_to_float, float_time_range, float_time_minus\n",
    "import random\n",
    "import tqdm\n",
    "# Set seed for repeatability\n",
    "def seed_everything(seed):\n",
    "    np.random.seed(seed) # np random seed\n",
    "    random.seed(seed) # py random seed\n",
    "seed_everything(seed=1024)\n",
    "import torch\n",
    "print('torch version: ',torch.__version__)\n",
    "print('Cuda available: ',torch.cuda.is_available())\n",
    "print('Running on ',torch.cuda.get_device_name(torch.cuda.current_device()))\n",
    "device = torch.device('cuda' if torch.cuda.is_available() else 'cpu')"
   ]
  },
  {
   "cell_type": "code",
   "execution_count": null,
   "metadata": {},
   "outputs": [],
   "source": [
    "X_lstm_tensor = torch.load('../../data/X_lstm_train.pt',weights_only=False)\n",
    "t_lstm_tensor = torch.load('../../data/t_lstm_train.pt',weights_only=False)"
   ]
  },
  {
   "cell_type": "code",
   "execution_count": null,
   "metadata": {},
   "outputs": [],
   "source": [
    "nan_count = torch.isnan(X_lstm_tensor).sum().item()\n",
    "print(f\"Number of NaN values in X: {nan_count}\")\n",
    "nan_count = torch.isnan(t_lstm_tensor).sum().item()\n",
    "print(f\"Number of NaN values in t: {nan_count}\")\n"
   ]
  },
  {
   "cell_type": "code",
   "execution_count": null,
   "metadata": {},
   "outputs": [],
   "source": [
    "X_lstm_tensor.shape, t_lstm_tensor.shape"
   ]
  },
  {
   "cell_type": "code",
   "execution_count": 20,
   "metadata": {},
   "outputs": [
    {
     "name": "stdout",
     "output_type": "stream",
     "text": [
      "Max BG: 27.8, Min BG: 2.2\n"
     ]
    },
    {
     "data": {
      "text/html": [
       "<style>#sk-container-id-2 {\n",
       "  /* Definition of color scheme common for light and dark mode */\n",
       "  --sklearn-color-text: black;\n",
       "  --sklearn-color-line: gray;\n",
       "  /* Definition of color scheme for unfitted estimators */\n",
       "  --sklearn-color-unfitted-level-0: #fff5e6;\n",
       "  --sklearn-color-unfitted-level-1: #f6e4d2;\n",
       "  --sklearn-color-unfitted-level-2: #ffe0b3;\n",
       "  --sklearn-color-unfitted-level-3: chocolate;\n",
       "  /* Definition of color scheme for fitted estimators */\n",
       "  --sklearn-color-fitted-level-0: #f0f8ff;\n",
       "  --sklearn-color-fitted-level-1: #d4ebff;\n",
       "  --sklearn-color-fitted-level-2: #b3dbfd;\n",
       "  --sklearn-color-fitted-level-3: cornflowerblue;\n",
       "\n",
       "  /* Specific color for light theme */\n",
       "  --sklearn-color-text-on-default-background: var(--sg-text-color, var(--theme-code-foreground, var(--jp-content-font-color1, black)));\n",
       "  --sklearn-color-background: var(--sg-background-color, var(--theme-background, var(--jp-layout-color0, white)));\n",
       "  --sklearn-color-border-box: var(--sg-text-color, var(--theme-code-foreground, var(--jp-content-font-color1, black)));\n",
       "  --sklearn-color-icon: #696969;\n",
       "\n",
       "  @media (prefers-color-scheme: dark) {\n",
       "    /* Redefinition of color scheme for dark theme */\n",
       "    --sklearn-color-text-on-default-background: var(--sg-text-color, var(--theme-code-foreground, var(--jp-content-font-color1, white)));\n",
       "    --sklearn-color-background: var(--sg-background-color, var(--theme-background, var(--jp-layout-color0, #111)));\n",
       "    --sklearn-color-border-box: var(--sg-text-color, var(--theme-code-foreground, var(--jp-content-font-color1, white)));\n",
       "    --sklearn-color-icon: #878787;\n",
       "  }\n",
       "}\n",
       "\n",
       "#sk-container-id-2 {\n",
       "  color: var(--sklearn-color-text);\n",
       "}\n",
       "\n",
       "#sk-container-id-2 pre {\n",
       "  padding: 0;\n",
       "}\n",
       "\n",
       "#sk-container-id-2 input.sk-hidden--visually {\n",
       "  border: 0;\n",
       "  clip: rect(1px 1px 1px 1px);\n",
       "  clip: rect(1px, 1px, 1px, 1px);\n",
       "  height: 1px;\n",
       "  margin: -1px;\n",
       "  overflow: hidden;\n",
       "  padding: 0;\n",
       "  position: absolute;\n",
       "  width: 1px;\n",
       "}\n",
       "\n",
       "#sk-container-id-2 div.sk-dashed-wrapped {\n",
       "  border: 1px dashed var(--sklearn-color-line);\n",
       "  margin: 0 0.4em 0.5em 0.4em;\n",
       "  box-sizing: border-box;\n",
       "  padding-bottom: 0.4em;\n",
       "  background-color: var(--sklearn-color-background);\n",
       "}\n",
       "\n",
       "#sk-container-id-2 div.sk-container {\n",
       "  /* jupyter's `normalize.less` sets `[hidden] { display: none; }`\n",
       "     but bootstrap.min.css set `[hidden] { display: none !important; }`\n",
       "     so we also need the `!important` here to be able to override the\n",
       "     default hidden behavior on the sphinx rendered scikit-learn.org.\n",
       "     See: https://github.com/scikit-learn/scikit-learn/issues/21755 */\n",
       "  display: inline-block !important;\n",
       "  position: relative;\n",
       "}\n",
       "\n",
       "#sk-container-id-2 div.sk-text-repr-fallback {\n",
       "  display: none;\n",
       "}\n",
       "\n",
       "div.sk-parallel-item,\n",
       "div.sk-serial,\n",
       "div.sk-item {\n",
       "  /* draw centered vertical line to link estimators */\n",
       "  background-image: linear-gradient(var(--sklearn-color-text-on-default-background), var(--sklearn-color-text-on-default-background));\n",
       "  background-size: 2px 100%;\n",
       "  background-repeat: no-repeat;\n",
       "  background-position: center center;\n",
       "}\n",
       "\n",
       "/* Parallel-specific style estimator block */\n",
       "\n",
       "#sk-container-id-2 div.sk-parallel-item::after {\n",
       "  content: \"\";\n",
       "  width: 100%;\n",
       "  border-bottom: 2px solid var(--sklearn-color-text-on-default-background);\n",
       "  flex-grow: 1;\n",
       "}\n",
       "\n",
       "#sk-container-id-2 div.sk-parallel {\n",
       "  display: flex;\n",
       "  align-items: stretch;\n",
       "  justify-content: center;\n",
       "  background-color: var(--sklearn-color-background);\n",
       "  position: relative;\n",
       "}\n",
       "\n",
       "#sk-container-id-2 div.sk-parallel-item {\n",
       "  display: flex;\n",
       "  flex-direction: column;\n",
       "}\n",
       "\n",
       "#sk-container-id-2 div.sk-parallel-item:first-child::after {\n",
       "  align-self: flex-end;\n",
       "  width: 50%;\n",
       "}\n",
       "\n",
       "#sk-container-id-2 div.sk-parallel-item:last-child::after {\n",
       "  align-self: flex-start;\n",
       "  width: 50%;\n",
       "}\n",
       "\n",
       "#sk-container-id-2 div.sk-parallel-item:only-child::after {\n",
       "  width: 0;\n",
       "}\n",
       "\n",
       "/* Serial-specific style estimator block */\n",
       "\n",
       "#sk-container-id-2 div.sk-serial {\n",
       "  display: flex;\n",
       "  flex-direction: column;\n",
       "  align-items: center;\n",
       "  background-color: var(--sklearn-color-background);\n",
       "  padding-right: 1em;\n",
       "  padding-left: 1em;\n",
       "}\n",
       "\n",
       "\n",
       "/* Toggleable style: style used for estimator/Pipeline/ColumnTransformer box that is\n",
       "clickable and can be expanded/collapsed.\n",
       "- Pipeline and ColumnTransformer use this feature and define the default style\n",
       "- Estimators will overwrite some part of the style using the `sk-estimator` class\n",
       "*/\n",
       "\n",
       "/* Pipeline and ColumnTransformer style (default) */\n",
       "\n",
       "#sk-container-id-2 div.sk-toggleable {\n",
       "  /* Default theme specific background. It is overwritten whether we have a\n",
       "  specific estimator or a Pipeline/ColumnTransformer */\n",
       "  background-color: var(--sklearn-color-background);\n",
       "}\n",
       "\n",
       "/* Toggleable label */\n",
       "#sk-container-id-2 label.sk-toggleable__label {\n",
       "  cursor: pointer;\n",
       "  display: block;\n",
       "  width: 100%;\n",
       "  margin-bottom: 0;\n",
       "  padding: 0.5em;\n",
       "  box-sizing: border-box;\n",
       "  text-align: center;\n",
       "}\n",
       "\n",
       "#sk-container-id-2 label.sk-toggleable__label-arrow:before {\n",
       "  /* Arrow on the left of the label */\n",
       "  content: \"▸\";\n",
       "  float: left;\n",
       "  margin-right: 0.25em;\n",
       "  color: var(--sklearn-color-icon);\n",
       "}\n",
       "\n",
       "#sk-container-id-2 label.sk-toggleable__label-arrow:hover:before {\n",
       "  color: var(--sklearn-color-text);\n",
       "}\n",
       "\n",
       "/* Toggleable content - dropdown */\n",
       "\n",
       "#sk-container-id-2 div.sk-toggleable__content {\n",
       "  max-height: 0;\n",
       "  max-width: 0;\n",
       "  overflow: hidden;\n",
       "  text-align: left;\n",
       "  /* unfitted */\n",
       "  background-color: var(--sklearn-color-unfitted-level-0);\n",
       "}\n",
       "\n",
       "#sk-container-id-2 div.sk-toggleable__content.fitted {\n",
       "  /* fitted */\n",
       "  background-color: var(--sklearn-color-fitted-level-0);\n",
       "}\n",
       "\n",
       "#sk-container-id-2 div.sk-toggleable__content pre {\n",
       "  margin: 0.2em;\n",
       "  border-radius: 0.25em;\n",
       "  color: var(--sklearn-color-text);\n",
       "  /* unfitted */\n",
       "  background-color: var(--sklearn-color-unfitted-level-0);\n",
       "}\n",
       "\n",
       "#sk-container-id-2 div.sk-toggleable__content.fitted pre {\n",
       "  /* unfitted */\n",
       "  background-color: var(--sklearn-color-fitted-level-0);\n",
       "}\n",
       "\n",
       "#sk-container-id-2 input.sk-toggleable__control:checked~div.sk-toggleable__content {\n",
       "  /* Expand drop-down */\n",
       "  max-height: 200px;\n",
       "  max-width: 100%;\n",
       "  overflow: auto;\n",
       "}\n",
       "\n",
       "#sk-container-id-2 input.sk-toggleable__control:checked~label.sk-toggleable__label-arrow:before {\n",
       "  content: \"▾\";\n",
       "}\n",
       "\n",
       "/* Pipeline/ColumnTransformer-specific style */\n",
       "\n",
       "#sk-container-id-2 div.sk-label input.sk-toggleable__control:checked~label.sk-toggleable__label {\n",
       "  color: var(--sklearn-color-text);\n",
       "  background-color: var(--sklearn-color-unfitted-level-2);\n",
       "}\n",
       "\n",
       "#sk-container-id-2 div.sk-label.fitted input.sk-toggleable__control:checked~label.sk-toggleable__label {\n",
       "  background-color: var(--sklearn-color-fitted-level-2);\n",
       "}\n",
       "\n",
       "/* Estimator-specific style */\n",
       "\n",
       "/* Colorize estimator box */\n",
       "#sk-container-id-2 div.sk-estimator input.sk-toggleable__control:checked~label.sk-toggleable__label {\n",
       "  /* unfitted */\n",
       "  background-color: var(--sklearn-color-unfitted-level-2);\n",
       "}\n",
       "\n",
       "#sk-container-id-2 div.sk-estimator.fitted input.sk-toggleable__control:checked~label.sk-toggleable__label {\n",
       "  /* fitted */\n",
       "  background-color: var(--sklearn-color-fitted-level-2);\n",
       "}\n",
       "\n",
       "#sk-container-id-2 div.sk-label label.sk-toggleable__label,\n",
       "#sk-container-id-2 div.sk-label label {\n",
       "  /* The background is the default theme color */\n",
       "  color: var(--sklearn-color-text-on-default-background);\n",
       "}\n",
       "\n",
       "/* On hover, darken the color of the background */\n",
       "#sk-container-id-2 div.sk-label:hover label.sk-toggleable__label {\n",
       "  color: var(--sklearn-color-text);\n",
       "  background-color: var(--sklearn-color-unfitted-level-2);\n",
       "}\n",
       "\n",
       "/* Label box, darken color on hover, fitted */\n",
       "#sk-container-id-2 div.sk-label.fitted:hover label.sk-toggleable__label.fitted {\n",
       "  color: var(--sklearn-color-text);\n",
       "  background-color: var(--sklearn-color-fitted-level-2);\n",
       "}\n",
       "\n",
       "/* Estimator label */\n",
       "\n",
       "#sk-container-id-2 div.sk-label label {\n",
       "  font-family: monospace;\n",
       "  font-weight: bold;\n",
       "  display: inline-block;\n",
       "  line-height: 1.2em;\n",
       "}\n",
       "\n",
       "#sk-container-id-2 div.sk-label-container {\n",
       "  text-align: center;\n",
       "}\n",
       "\n",
       "/* Estimator-specific */\n",
       "#sk-container-id-2 div.sk-estimator {\n",
       "  font-family: monospace;\n",
       "  border: 1px dotted var(--sklearn-color-border-box);\n",
       "  border-radius: 0.25em;\n",
       "  box-sizing: border-box;\n",
       "  margin-bottom: 0.5em;\n",
       "  /* unfitted */\n",
       "  background-color: var(--sklearn-color-unfitted-level-0);\n",
       "}\n",
       "\n",
       "#sk-container-id-2 div.sk-estimator.fitted {\n",
       "  /* fitted */\n",
       "  background-color: var(--sklearn-color-fitted-level-0);\n",
       "}\n",
       "\n",
       "/* on hover */\n",
       "#sk-container-id-2 div.sk-estimator:hover {\n",
       "  /* unfitted */\n",
       "  background-color: var(--sklearn-color-unfitted-level-2);\n",
       "}\n",
       "\n",
       "#sk-container-id-2 div.sk-estimator.fitted:hover {\n",
       "  /* fitted */\n",
       "  background-color: var(--sklearn-color-fitted-level-2);\n",
       "}\n",
       "\n",
       "/* Specification for estimator info (e.g. \"i\" and \"?\") */\n",
       "\n",
       "/* Common style for \"i\" and \"?\" */\n",
       "\n",
       ".sk-estimator-doc-link,\n",
       "a:link.sk-estimator-doc-link,\n",
       "a:visited.sk-estimator-doc-link {\n",
       "  float: right;\n",
       "  font-size: smaller;\n",
       "  line-height: 1em;\n",
       "  font-family: monospace;\n",
       "  background-color: var(--sklearn-color-background);\n",
       "  border-radius: 1em;\n",
       "  height: 1em;\n",
       "  width: 1em;\n",
       "  text-decoration: none !important;\n",
       "  margin-left: 1ex;\n",
       "  /* unfitted */\n",
       "  border: var(--sklearn-color-unfitted-level-1) 1pt solid;\n",
       "  color: var(--sklearn-color-unfitted-level-1);\n",
       "}\n",
       "\n",
       ".sk-estimator-doc-link.fitted,\n",
       "a:link.sk-estimator-doc-link.fitted,\n",
       "a:visited.sk-estimator-doc-link.fitted {\n",
       "  /* fitted */\n",
       "  border: var(--sklearn-color-fitted-level-1) 1pt solid;\n",
       "  color: var(--sklearn-color-fitted-level-1);\n",
       "}\n",
       "\n",
       "/* On hover */\n",
       "div.sk-estimator:hover .sk-estimator-doc-link:hover,\n",
       ".sk-estimator-doc-link:hover,\n",
       "div.sk-label-container:hover .sk-estimator-doc-link:hover,\n",
       ".sk-estimator-doc-link:hover {\n",
       "  /* unfitted */\n",
       "  background-color: var(--sklearn-color-unfitted-level-3);\n",
       "  color: var(--sklearn-color-background);\n",
       "  text-decoration: none;\n",
       "}\n",
       "\n",
       "div.sk-estimator.fitted:hover .sk-estimator-doc-link.fitted:hover,\n",
       ".sk-estimator-doc-link.fitted:hover,\n",
       "div.sk-label-container:hover .sk-estimator-doc-link.fitted:hover,\n",
       ".sk-estimator-doc-link.fitted:hover {\n",
       "  /* fitted */\n",
       "  background-color: var(--sklearn-color-fitted-level-3);\n",
       "  color: var(--sklearn-color-background);\n",
       "  text-decoration: none;\n",
       "}\n",
       "\n",
       "/* Span, style for the box shown on hovering the info icon */\n",
       ".sk-estimator-doc-link span {\n",
       "  display: none;\n",
       "  z-index: 9999;\n",
       "  position: relative;\n",
       "  font-weight: normal;\n",
       "  right: .2ex;\n",
       "  padding: .5ex;\n",
       "  margin: .5ex;\n",
       "  width: min-content;\n",
       "  min-width: 20ex;\n",
       "  max-width: 50ex;\n",
       "  color: var(--sklearn-color-text);\n",
       "  box-shadow: 2pt 2pt 4pt #999;\n",
       "  /* unfitted */\n",
       "  background: var(--sklearn-color-unfitted-level-0);\n",
       "  border: .5pt solid var(--sklearn-color-unfitted-level-3);\n",
       "}\n",
       "\n",
       ".sk-estimator-doc-link.fitted span {\n",
       "  /* fitted */\n",
       "  background: var(--sklearn-color-fitted-level-0);\n",
       "  border: var(--sklearn-color-fitted-level-3);\n",
       "}\n",
       "\n",
       ".sk-estimator-doc-link:hover span {\n",
       "  display: block;\n",
       "}\n",
       "\n",
       "/* \"?\"-specific style due to the `<a>` HTML tag */\n",
       "\n",
       "#sk-container-id-2 a.estimator_doc_link {\n",
       "  float: right;\n",
       "  font-size: 1rem;\n",
       "  line-height: 1em;\n",
       "  font-family: monospace;\n",
       "  background-color: var(--sklearn-color-background);\n",
       "  border-radius: 1rem;\n",
       "  height: 1rem;\n",
       "  width: 1rem;\n",
       "  text-decoration: none;\n",
       "  /* unfitted */\n",
       "  color: var(--sklearn-color-unfitted-level-1);\n",
       "  border: var(--sklearn-color-unfitted-level-1) 1pt solid;\n",
       "}\n",
       "\n",
       "#sk-container-id-2 a.estimator_doc_link.fitted {\n",
       "  /* fitted */\n",
       "  border: var(--sklearn-color-fitted-level-1) 1pt solid;\n",
       "  color: var(--sklearn-color-fitted-level-1);\n",
       "}\n",
       "\n",
       "/* On hover */\n",
       "#sk-container-id-2 a.estimator_doc_link:hover {\n",
       "  /* unfitted */\n",
       "  background-color: var(--sklearn-color-unfitted-level-3);\n",
       "  color: var(--sklearn-color-background);\n",
       "  text-decoration: none;\n",
       "}\n",
       "\n",
       "#sk-container-id-2 a.estimator_doc_link.fitted:hover {\n",
       "  /* fitted */\n",
       "  background-color: var(--sklearn-color-fitted-level-3);\n",
       "}\n",
       "</style><div id=\"sk-container-id-2\" class=\"sk-top-container\"><div class=\"sk-text-repr-fallback\"><pre>MinMaxScaler()</pre><b>In a Jupyter environment, please rerun this cell to show the HTML representation or trust the notebook. <br />On GitHub, the HTML representation is unable to render, please try loading this page with nbviewer.org.</b></div><div class=\"sk-container\" hidden><div class=\"sk-item\"><div class=\"sk-estimator fitted sk-toggleable\"><input class=\"sk-toggleable__control sk-hidden--visually\" id=\"sk-estimator-id-2\" type=\"checkbox\" checked><label for=\"sk-estimator-id-2\" class=\"sk-toggleable__label fitted sk-toggleable__label-arrow fitted\">&nbsp;&nbsp;MinMaxScaler<a class=\"sk-estimator-doc-link fitted\" rel=\"noreferrer\" target=\"_blank\" href=\"https://scikit-learn.org/1.5/modules/generated/sklearn.preprocessing.MinMaxScaler.html\">?<span>Documentation for MinMaxScaler</span></a><span class=\"sk-estimator-doc-link fitted\">i<span>Fitted</span></span></label><div class=\"sk-toggleable__content fitted\"><pre>MinMaxScaler()</pre></div> </div></div></div></div>"
      ],
      "text/plain": [
       "MinMaxScaler()"
      ]
     },
     "execution_count": 20,
     "metadata": {},
     "output_type": "execute_result"
    }
   ],
   "source": [
    "lstm_hr_df = pl.read_csv('../../data/lstm_hr_train_clean.csv')\n",
    "bg_columns = ['bg', 'bg+1:00']\n",
    "bg_max = lstm_hr_df['bg'].max()\n",
    "bg_min = lstm_hr_df['bg'].min()\n",
    "print(f\"Max BG: {bg_max}, Min BG: {bg_min}\")\n",
    "bg_data = lstm_hr_df.select(bg_columns).to_numpy()\n",
    "\n",
    "bg_scaler = MinMaxScaler()\n",
    "bg_scaler.fit(lstm_hr_df['bg'].to_numpy().reshape(-1, 1)) \n"
   ]
  },
  {
   "cell_type": "code",
   "execution_count": null,
   "metadata": {},
   "outputs": [],
   "source": [
    "dataset = TensorDataset(X_lstm_tensor, t_lstm_tensor)\n",
    "\n",
    "patient_columns = X_lstm_tensor[:, :, 2:10]\n",
    "patient_columns\n",
    "class_labels = patient_columns.argmax(dim=2)[:, 0]\n",
    "\n",
    "\n",
    "train_indices, temp_indices = train_test_split(\n",
    "    range(len(dataset)),\n",
    "    test_size=0.5,  # 50% for val+test\n",
    "    stratify=class_labels\n",
    ")\n",
    "\n",
    "val_indices, test_indices = train_test_split(\n",
    "    temp_indices,\n",
    "    test_size=0.5,  # Half of temp for test, other half for val\n",
    "    stratify=class_labels[temp_indices]\n",
    ")\n",
    "\n",
    "# Create subsets\n",
    "train_dataset = Subset(dataset, train_indices)\n",
    "val_dataset = Subset(dataset, val_indices)\n",
    "test_dataset = Subset(dataset, test_indices)\n",
    "\n",
    "# Create data loaders\n",
    "batch_size = 64\n",
    "train_loader = DataLoader(train_dataset, batch_size=batch_size, shuffle=True)\n",
    "val_loader = DataLoader(val_dataset, batch_size=batch_size, shuffle=False)\n",
    "test_loader = DataLoader(test_dataset, batch_size=batch_size, shuffle=False)"
   ]
  },
  {
   "cell_type": "code",
   "execution_count": null,
   "metadata": {},
   "outputs": [],
   "source": [
    "def create_dataloaders(X_lstm_tensor, t_tensor, batch_size, val_split=0.4):\n",
    "    dataset_size = len(X_lstm_tensor)\n",
    "    indices = list(range(dataset_size))\n",
    "    split = int(np.floor(val_split * dataset_size))\n",
    "    \n",
    "    train_indices, val_indices = indices[split:], indices[:split]\n",
    "    \n",
    "    train_loader = DataLoader(\n",
    "        list(zip(X_lstm_tensor[train_indices], t_tensor[train_indices])),\n",
    "        batch_size=batch_size,\n",
    "        shuffle=True\n",
    "    )\n",
    "    \n",
    "    val_loader = DataLoader(\n",
    "        list(zip(X_lstm_tensor[val_indices], t_tensor[val_indices])),\n",
    "        batch_size=batch_size,\n",
    "        shuffle=False\n",
    "    )\n",
    "    \n",
    "    return train_loader, val_loader"
   ]
  },
  {
   "cell_type": "code",
   "execution_count": null,
   "metadata": {},
   "outputs": [],
   "source": [
    "from collections import Counter\n",
    "import numpy as np\n",
    "\n",
    "# Function to count class distribution\n",
    "def check_proportions(dataset, description):\n",
    "    # Extract the one-hot encoded columns\n",
    "    one_hot_columns = X_lstm_tensor[dataset.indices, :, 2:11]\n",
    "    \n",
    "    # Convert one-hot encoding to class labels\n",
    "    class_labels = one_hot_columns.argmax(dim=2)[:, 0].numpy()  # Use the first timestep's label\n",
    "    \n",
    "    # Count occurrences\n",
    "    class_counts = Counter(class_labels)\n",
    "    total_samples = sum(class_counts.values())\n",
    "    \n",
    "    print(f\"{description} Class Proportions:\")\n",
    "    for cls, count in sorted(class_counts.items()):\n",
    "        print(f\"Class {cls}: {count} samples ({count / total_samples:.2%})\")\n",
    "    print(\"-\" * 50)\n",
    "\n",
    "# Check proportions for each split\n",
    "check_proportions(train_dataset, \"Train\")\n",
    "check_proportions(val_dataset, \"Validation\")\n",
    "check_proportions(test_dataset, \"Test\")\n"
   ]
  },
  {
   "cell_type": "code",
   "execution_count": null,
   "metadata": {},
   "outputs": [],
   "source": [
    "for X, t in train_loader:\n",
    "    print('X.shape:', X.shape, 't.shape:', t.shape)\n",
    "    break\n",
    "for X, t in val_loader:\n",
    "    print('X.shape:', X.shape, 't.shape:', t.shape)\n",
    "    break\n",
    "for X, t in test_loader:\n",
    "    print('X.shape:', X.shape, 't.shape:', t.shape)\n",
    "    break"
   ]
  },
  {
   "cell_type": "code",
   "execution_count": 17,
   "metadata": {},
   "outputs": [],
   "source": [
    "import torch.nn as nn\n",
    "import json\n",
    "\n",
    "class LSTMRegressor(nn.Module):\n",
    "    def __init__(self, input_size, hidden_size, num_layers, dropout):\n",
    "        super(LSTMRegressor, self).__init__()\n",
    "        self.lstm = nn.LSTM(\n",
    "            input_size=input_size,\n",
    "            hidden_size=hidden_size,\n",
    "            num_layers=num_layers,\n",
    "            batch_first=True,\n",
    "            dropout=dropout if num_layers > 1 else 0\n",
    "        )\n",
    "        self.fc = nn.Linear(hidden_size, 1)\n",
    "        \n",
    "    def forward(self, x):\n",
    "        output, (hn, cn) = self.lstm(x)\n",
    "        last_hidden_state = output[:, -1, :]\n",
    "        prediction = self.fc(last_hidden_state)\n",
    "        return prediction\n",
    "\n",
    "INPUT_SIZE = X_lstm_tensor.shape[-1]\n",
    "\n",
    "class TrialProgress:\n",
    "    def __init__(self, study_name):\n",
    "        self.study_name = study_name\n",
    "        self.results_dir = \"optuna_results\"\n",
    "        os.makedirs(self.results_dir, exist_ok=True)\n",
    "        self.results_file = os.path.join(self.results_dir, f\"{study_name}_results.json\")\n",
    "        self.current_best = float('inf')\n",
    "        self.results = {\n",
    "            \"study_name\": study_name,\n",
    "            \"trials\": [],\n",
    "            \"best_trial\": None,\n",
    "            \"best_value\": float('inf')\n",
    "        }\n",
    "        \n",
    "    def update(self, trial, value):\n",
    "        trial_info = {\n",
    "            \"number\": trial.number,\n",
    "            \"params\": trial.params,\n",
    "            \"value\": value,\n",
    "            \"datetime\": datetime.now().strftime(\"%Y-%m-%d %H:%M:%S\")\n",
    "        }\n",
    "        \n",
    "        self.results[\"trials\"].append(trial_info)\n",
    "        if value < self.results[\"best_value\"]:\n",
    "            self.results[\"best_value\"] = value\n",
    "            self.results[\"best_trial\"] = trial_info\n",
    "            self.current_best = value\n",
    "        \n",
    "        # Save results to file\n",
    "        with open(self.results_file, 'w') as f:\n",
    "            json.dump(self.results, f, indent=2)"
   ]
  },
  {
   "cell_type": "code",
   "execution_count": 19,
   "metadata": {},
   "outputs": [
    {
     "name": "stderr",
     "output_type": "stream",
     "text": [
      "[I 2024-11-23 02:35:27,434] A new study created in memory with name: lstm_optimization_20241123_023527\n"
     ]
    },
    {
     "name": "stdout",
     "output_type": "stream",
     "text": [
      "Starting optimization...\n",
      "Study name: lstm_optimization_20241123_023527\n",
      "Results will be saved to: optuna_results/lstm_optimization_20241123_023527_results.json\n",
      "\n",
      "To monitor progress:\n",
      "1. Check the terminal output for real-time updates\n",
      "2. View the JSON results file: optuna_results/lstm_optimization_20241123_023527_results.json\n",
      "\n",
      "Trial 0 started\n",
      "Parameters: {'hidden_size': 204, 'num_layers': 1, 'dropout': 0.44409212356202415, 'batch_size': 128, 'learning_rate': 0.005910714624583147}\n",
      "Epoch  27/ 50 | Train RMSE: 0.0738 | Val RMSE: 0.0744 | Best overall: inf\n",
      "Early stopping triggered at epoch 27\n",
      "\n",
      "Trial 0 finished with best val_loss: 0.0659\n"
     ]
    },
    {
     "name": "stderr",
     "output_type": "stream",
     "text": [
      "[I 2024-11-23 02:41:22,732] Trial 0 finished with value: 0.06594620736319227 and parameters: {'hidden_size': 204, 'num_layers': 1, 'dropout': 0.44409212356202415, 'batch_size': 128, 'learning_rate': 0.005910714624583147}. Best is trial 0 with value: 0.06594620736319227.\n"
     ]
    },
    {
     "name": "stdout",
     "output_type": "stream",
     "text": [
      "\n",
      "Trial 1 started\n",
      "Parameters: {'hidden_size': 220, 'num_layers': 3, 'dropout': 0.47460816687392127, 'batch_size': 16, 'learning_rate': 0.0019550937147834214}\n",
      "Epoch   5/ 50 | Train RMSE: 0.0876 | Val RMSE: 0.0796 | Best overall: 0.0659\n",
      "Early stopping triggered at epoch 5\n",
      "\n",
      "Trial 1 finished with best val_loss: 0.0757\n"
     ]
    },
    {
     "name": "stderr",
     "output_type": "stream",
     "text": [
      "[I 2024-11-23 02:50:27,015] Trial 1 finished with value: 0.07572863223757967 and parameters: {'hidden_size': 220, 'num_layers': 3, 'dropout': 0.47460816687392127, 'batch_size': 16, 'learning_rate': 0.0019550937147834214}. Best is trial 0 with value: 0.06594620736319227.\n"
     ]
    },
    {
     "name": "stdout",
     "output_type": "stream",
     "text": [
      "\n",
      "Trial 2 started\n",
      "Parameters: {'hidden_size': 158, 'num_layers': 3, 'dropout': 0.14312592170159116, 'batch_size': 64, 'learning_rate': 0.0001589029224149536}\n",
      "Epoch  49/ 50 | Train RMSE: 0.0584 | Val RMSE: 0.0600 | Best overall: 0.0659\n",
      "Trial 2 finished with best val_loss: 0.0600\n"
     ]
    },
    {
     "name": "stderr",
     "output_type": "stream",
     "text": [
      "[I 2024-11-23 04:38:09,728] Trial 2 finished with value: 0.060000414258636496 and parameters: {'hidden_size': 158, 'num_layers': 3, 'dropout': 0.14312592170159116, 'batch_size': 64, 'learning_rate': 0.0001589029224149536}. Best is trial 2 with value: 0.060000414258636496.\n"
     ]
    },
    {
     "name": "stdout",
     "output_type": "stream",
     "text": [
      "\n",
      "Trial 3 started\n",
      "Parameters: {'hidden_size': 142, 'num_layers': 2, 'dropout': 0.02196117940985992, 'batch_size': 32, 'learning_rate': 0.0002168702733088833}\n",
      "Epoch  49/ 50 | Train RMSE: 0.0445 | Val RMSE: 0.0497 | Best overall: 0.0600\n",
      "Trial 3 finished with best val_loss: 0.0497\n"
     ]
    },
    {
     "name": "stderr",
     "output_type": "stream",
     "text": [
      "[I 2024-11-23 05:48:32,013] Trial 3 finished with value: 0.04965812712654255 and parameters: {'hidden_size': 142, 'num_layers': 2, 'dropout': 0.02196117940985992, 'batch_size': 32, 'learning_rate': 0.0002168702733088833}. Best is trial 3 with value: 0.04965812712654255.\n"
     ]
    },
    {
     "name": "stdout",
     "output_type": "stream",
     "text": [
      "\n",
      "Trial 4 started\n",
      "Parameters: {'hidden_size': 68, 'num_layers': 3, 'dropout': 0.3003743399145725, 'batch_size': 32, 'learning_rate': 0.0004032393667862285}\n",
      "Epoch  49/ 50 | Train RMSE: 0.0601 | Val RMSE: 0.0612 | Best overall: 0.0497\n",
      "Trial 4 finished with best val_loss: 0.0612\n"
     ]
    },
    {
     "name": "stderr",
     "output_type": "stream",
     "text": [
      "[I 2024-11-23 06:02:00,960] Trial 4 finished with value: 0.06117684997029995 and parameters: {'hidden_size': 68, 'num_layers': 3, 'dropout': 0.3003743399145725, 'batch_size': 32, 'learning_rate': 0.0004032393667862285}. Best is trial 3 with value: 0.04965812712654255.\n"
     ]
    },
    {
     "name": "stdout",
     "output_type": "stream",
     "text": [
      "\n",
      "Trial 5 started\n",
      "Parameters: {'hidden_size': 211, 'num_layers': 3, 'dropout': 0.26618858947139545, 'batch_size': 128, 'learning_rate': 0.00042706110420994857}\n"
     ]
    },
    {
     "name": "stderr",
     "output_type": "stream",
     "text": [
      "[I 2024-11-23 06:02:39,981] Trial 5 pruned. \n"
     ]
    },
    {
     "name": "stdout",
     "output_type": "stream",
     "text": [
      "Epoch   0/ 50 | Train RMSE: 0.0896 | Val RMSE: 0.0841 | Best overall: 0.0497\n",
      "Trial 5 pruned.\n",
      "\n",
      "Trial 6 started\n",
      "Parameters: {'hidden_size': 176, 'num_layers': 1, 'dropout': 0.3746375714825799, 'batch_size': 128, 'learning_rate': 0.0003440552106631601}\n"
     ]
    },
    {
     "name": "stderr",
     "output_type": "stream",
     "text": [
      "[I 2024-11-23 06:03:40,227] Trial 6 pruned. \n"
     ]
    },
    {
     "name": "stdout",
     "output_type": "stream",
     "text": [
      "Epoch   0/ 50 | Train RMSE: 0.0907 | Val RMSE: 0.0819 | Best overall: 0.0497\n",
      "Trial 6 pruned.\n",
      "\n",
      "Trial 7 started\n",
      "Parameters: {'hidden_size': 189, 'num_layers': 2, 'dropout': 0.25954924091375536, 'batch_size': 64, 'learning_rate': 0.00021199858092769383}\n"
     ]
    },
    {
     "name": "stderr",
     "output_type": "stream",
     "text": [
      "[I 2024-11-23 06:05:49,843] Trial 7 pruned. \n"
     ]
    },
    {
     "name": "stdout",
     "output_type": "stream",
     "text": [
      "Epoch   0/ 50 | Train RMSE: 0.0888 | Val RMSE: 0.0816 | Best overall: 0.0497\n",
      "Trial 7 pruned.\n",
      "\n",
      "Trial 8 started\n",
      "Parameters: {'hidden_size': 102, 'num_layers': 1, 'dropout': 0.3376473541285027, 'batch_size': 64, 'learning_rate': 0.0026930312968810326}\n",
      "Epoch  49/ 50 | Train RMSE: 0.0430 | Val RMSE: 0.0494 | Best overall: 0.0497\n",
      "Trial 8 finished with best val_loss: 0.0494\n"
     ]
    },
    {
     "name": "stderr",
     "output_type": "stream",
     "text": [
      "[I 2024-11-23 06:14:38,679] Trial 8 finished with value: 0.04938529467653017 and parameters: {'hidden_size': 102, 'num_layers': 1, 'dropout': 0.3376473541285027, 'batch_size': 64, 'learning_rate': 0.0026930312968810326}. Best is trial 8 with value: 0.04938529467653017.\n"
     ]
    },
    {
     "name": "stdout",
     "output_type": "stream",
     "text": [
      "\n",
      "Trial 9 started\n",
      "Parameters: {'hidden_size': 43, 'num_layers': 1, 'dropout': 0.21002239304461923, 'batch_size': 32, 'learning_rate': 0.0007034483427671107}\n",
      "Epoch   8/ 50 | Train RMSE: 0.0728 | Val RMSE: 0.0729 | Best overall: 0.0494"
     ]
    },
    {
     "name": "stderr",
     "output_type": "stream",
     "text": [
      "[I 2024-11-23 06:16:06,581] Trial 9 pruned. \n"
     ]
    },
    {
     "name": "stdout",
     "output_type": "stream",
     "text": [
      "Epoch   9/ 50 | Train RMSE: 0.0725 | Val RMSE: 0.0730 | Best overall: 0.0494\n",
      "Trial 9 pruned.\n",
      "\n",
      "Trial 10 started\n",
      "Parameters: {'hidden_size': 108, 'num_layers': 2, 'dropout': 0.3713044723482629, 'batch_size': 64, 'learning_rate': 0.00274481729394829}\n",
      "Epoch   0/ 50 | Train RMSE: 0.0835 | Val RMSE: 0.0776 | Best overall: 0.0494"
     ]
    },
    {
     "name": "stderr",
     "output_type": "stream",
     "text": [
      "[I 2024-11-23 06:16:46,439] Trial 10 pruned. \n"
     ]
    },
    {
     "name": "stdout",
     "output_type": "stream",
     "text": [
      "Epoch   1/ 50 | Train RMSE: 0.0783 | Val RMSE: 0.0781 | Best overall: 0.0494\n",
      "Trial 10 pruned.\n",
      "\n",
      "Trial 11 started\n",
      "Parameters: {'hidden_size': 117, 'num_layers': 2, 'dropout': 0.00642028439009662, 'batch_size': 32, 'learning_rate': 0.0018198280685311988}\n",
      "Epoch  19/ 50 | Train RMSE: 0.0736 | Val RMSE: 0.0734 | Best overall: 0.0494\n",
      "Early stopping triggered at epoch 19\n",
      "\n",
      "Trial 11 finished with best val_loss: 0.0678\n"
     ]
    },
    {
     "name": "stderr",
     "output_type": "stream",
     "text": [
      "[I 2024-11-23 06:24:51,628] Trial 11 finished with value: 0.06784480090799003 and parameters: {'hidden_size': 117, 'num_layers': 2, 'dropout': 0.00642028439009662, 'batch_size': 32, 'learning_rate': 0.0018198280685311988}. Best is trial 8 with value: 0.04938529467653017.\n"
     ]
    },
    {
     "name": "stdout",
     "output_type": "stream",
     "text": [
      "\n",
      "Trial 12 started\n",
      "Parameters: {'hidden_size': 109, 'num_layers': 2, 'dropout': 0.0007846740481743386, 'batch_size': 16, 'learning_rate': 0.00934062019744114}\n",
      "Epoch   4/ 50 | Train RMSE: 0.0786 | Val RMSE: 0.0798 | Best overall: 0.0494"
     ]
    },
    {
     "name": "stderr",
     "output_type": "stream",
     "text": [
      "[I 2024-11-23 06:27:34,074] Trial 12 pruned. \n"
     ]
    },
    {
     "name": "stdout",
     "output_type": "stream",
     "text": [
      "Epoch   5/ 50 | Train RMSE: 0.0762 | Val RMSE: 0.0772 | Best overall: 0.0494\n",
      "Trial 12 pruned.\n",
      "\n",
      "Trial 13 started\n",
      "Parameters: {'hidden_size': 140, 'num_layers': 1, 'dropout': 0.1003211456241675, 'batch_size': 32, 'learning_rate': 0.00011276736369367928}\n"
     ]
    },
    {
     "name": "stderr",
     "output_type": "stream",
     "text": [
      "[I 2024-11-23 06:28:17,315] Trial 13 pruned. \n"
     ]
    },
    {
     "name": "stdout",
     "output_type": "stream",
     "text": [
      "Epoch   0/ 50 | Train RMSE: 0.0896 | Val RMSE: 0.0820 | Best overall: 0.0494\n",
      "Trial 13 pruned.\n",
      "\n",
      "Trial 14 started\n",
      "Parameters: {'hidden_size': 74, 'num_layers': 1, 'dropout': 0.16746702557235627, 'batch_size': 64, 'learning_rate': 0.0011067816619177643}\n"
     ]
    },
    {
     "name": "stderr",
     "output_type": "stream",
     "text": [
      "[I 2024-11-23 06:28:24,439] Trial 14 pruned. \n"
     ]
    },
    {
     "name": "stdout",
     "output_type": "stream",
     "text": [
      "Epoch   0/ 50 | Train RMSE: 0.0832 | Val RMSE: 0.0788 | Best overall: 0.0494\n",
      "Trial 14 pruned.\n",
      "\n",
      "Trial 15 started\n",
      "Parameters: {'hidden_size': 241, 'num_layers': 2, 'dropout': 0.3410827042830697, 'batch_size': 32, 'learning_rate': 0.004449986940817186}\n"
     ]
    },
    {
     "name": "stderr",
     "output_type": "stream",
     "text": [
      "[I 2024-11-23 06:29:14,620] Trial 15 pruned. \n"
     ]
    },
    {
     "name": "stdout",
     "output_type": "stream",
     "text": [
      "Epoch   0/ 50 | Train RMSE: 0.0850 | Val RMSE: 0.1161 | Best overall: 0.0494\n",
      "Trial 15 pruned.\n",
      "\n",
      "Trial 16 started\n",
      "Parameters: {'hidden_size': 138, 'num_layers': 1, 'dropout': 0.10628303941880857, 'batch_size': 64, 'learning_rate': 0.0008117725761031125}\n",
      "Epoch   4/ 50 | Train RMSE: 0.0746 | Val RMSE: 0.0745 | Best overall: 0.0494"
     ]
    },
    {
     "name": "stderr",
     "output_type": "stream",
     "text": [
      "[I 2024-11-23 06:33:16,356] Trial 16 pruned. \n"
     ]
    },
    {
     "name": "stdout",
     "output_type": "stream",
     "text": [
      "Epoch   5/ 50 | Train RMSE: 0.0741 | Val RMSE: 0.0745 | Best overall: 0.0494\n",
      "Trial 16 pruned.\n",
      "\n",
      "Trial 17 started\n",
      "Parameters: {'hidden_size': 85, 'num_layers': 2, 'dropout': 0.4227477219753639, 'batch_size': 16, 'learning_rate': 0.0013149344229711447}\n",
      "Epoch  25/ 50 | Train RMSE: 0.0718 | Val RMSE: 0.0695 | Best overall: 0.0494\n",
      "Early stopping triggered at epoch 25\n",
      "\n",
      "Trial 17 finished with best val_loss: 0.0668\n"
     ]
    },
    {
     "name": "stderr",
     "output_type": "stream",
     "text": [
      "[I 2024-11-23 06:41:49,556] Trial 17 finished with value: 0.06681992981993609 and parameters: {'hidden_size': 85, 'num_layers': 2, 'dropout': 0.4227477219753639, 'batch_size': 16, 'learning_rate': 0.0013149344229711447}. Best is trial 8 with value: 0.04938529467653017.\n"
     ]
    },
    {
     "name": "stdout",
     "output_type": "stream",
     "text": [
      "\n",
      "Trial 18 started\n",
      "Parameters: {'hidden_size': 35, 'num_layers': 1, 'dropout': 0.0807151553817212, 'batch_size': 64, 'learning_rate': 0.003413985109008456}\n",
      "Epoch   1/ 50 | Train RMSE: 0.0765 | Val RMSE: 0.0760 | Best overall: 0.0494"
     ]
    },
    {
     "name": "stderr",
     "output_type": "stream",
     "text": [
      "[I 2024-11-23 06:42:05,699] Trial 18 pruned. \n"
     ]
    },
    {
     "name": "stdout",
     "output_type": "stream",
     "text": [
      "Epoch   2/ 50 | Train RMSE: 0.0756 | Val RMSE: 0.0759 | Best overall: 0.0494\n",
      "Trial 18 pruned.\n",
      "\n",
      "Trial 19 started\n",
      "Parameters: {'hidden_size': 161, 'num_layers': 2, 'dropout': 0.22560991987150028, 'batch_size': 32, 'learning_rate': 0.00021860708176523117}\n"
     ]
    },
    {
     "name": "stderr",
     "output_type": "stream",
     "text": [
      "[I 2024-11-23 06:44:02,690] Trial 19 pruned. \n"
     ]
    },
    {
     "name": "stdout",
     "output_type": "stream",
     "text": [
      "Epoch   0/ 50 | Train RMSE: 0.0858 | Val RMSE: 0.0798 | Best overall: 0.0494\n",
      "Trial 19 pruned.\n",
      "\n",
      "Trial 20 started\n",
      "Parameters: {'hidden_size': 126, 'num_layers': 2, 'dropout': 0.3169600457487097, 'batch_size': 64, 'learning_rate': 0.00010203977973574173}\n"
     ]
    },
    {
     "name": "stderr",
     "output_type": "stream",
     "text": [
      "[I 2024-11-23 06:44:24,470] Trial 20 pruned. \n"
     ]
    },
    {
     "name": "stdout",
     "output_type": "stream",
     "text": [
      "Epoch   0/ 50 | Train RMSE: 0.0922 | Val RMSE: 0.0845 | Best overall: 0.0494\n",
      "Trial 20 pruned.\n",
      "\n",
      "Trial 21 started\n",
      "Parameters: {'hidden_size': 162, 'num_layers': 3, 'dropout': 0.15938475840454547, 'batch_size': 64, 'learning_rate': 0.00020653852273873295}\n"
     ]
    },
    {
     "name": "stderr",
     "output_type": "stream",
     "text": [
      "[I 2024-11-23 06:47:10,083] Trial 21 pruned. \n"
     ]
    },
    {
     "name": "stdout",
     "output_type": "stream",
     "text": [
      "Epoch   0/ 50 | Train RMSE: 0.0894 | Val RMSE: 0.0819 | Best overall: 0.0494\n",
      "Trial 21 pruned.\n",
      "\n",
      "Trial 22 started\n",
      "Parameters: {'hidden_size': 95, 'num_layers': 3, 'dropout': 0.05647027635500325, 'batch_size': 64, 'learning_rate': 0.00016850271915246377}\n"
     ]
    },
    {
     "name": "stderr",
     "output_type": "stream",
     "text": [
      "[I 2024-11-23 06:47:25,552] Trial 22 pruned. \n"
     ]
    },
    {
     "name": "stdout",
     "output_type": "stream",
     "text": [
      "Epoch   0/ 50 | Train RMSE: 0.0931 | Val RMSE: 0.0838 | Best overall: 0.0494\n",
      "Trial 22 pruned.\n",
      "\n",
      "Trial 23 started\n",
      "Parameters: {'hidden_size': 165, 'num_layers': 3, 'dropout': 0.15364758550088015, 'batch_size': 64, 'learning_rate': 0.0006091637852740413}\n"
     ]
    },
    {
     "name": "stderr",
     "output_type": "stream",
     "text": [
      "[I 2024-11-23 06:50:14,853] Trial 23 pruned. \n"
     ]
    },
    {
     "name": "stdout",
     "output_type": "stream",
     "text": [
      "Epoch   0/ 50 | Train RMSE: 0.0846 | Val RMSE: 0.0786 | Best overall: 0.0494\n",
      "Trial 23 pruned.\n",
      "\n",
      "Trial 24 started\n",
      "Parameters: {'hidden_size': 148, 'num_layers': 3, 'dropout': 0.06332916508535108, 'batch_size': 64, 'learning_rate': 0.00015363628869113192}\n"
     ]
    },
    {
     "name": "stderr",
     "output_type": "stream",
     "text": [
      "[I 2024-11-23 06:52:18,044] Trial 24 pruned. \n"
     ]
    },
    {
     "name": "stdout",
     "output_type": "stream",
     "text": [
      "Epoch   0/ 50 | Train RMSE: 0.0913 | Val RMSE: 0.0829 | Best overall: 0.0494\n",
      "Trial 24 pruned.\n",
      "\n",
      "Trial 25 started\n",
      "Parameters: {'hidden_size': 186, 'num_layers': 2, 'dropout': 0.19276166704548653, 'batch_size': 32, 'learning_rate': 0.00026629013942585056}\n"
     ]
    },
    {
     "name": "stderr",
     "output_type": "stream",
     "text": [
      "[I 2024-11-23 06:54:31,966] Trial 25 pruned. \n"
     ]
    },
    {
     "name": "stdout",
     "output_type": "stream",
     "text": [
      "Epoch   0/ 50 | Train RMSE: 0.0852 | Val RMSE: 0.0802 | Best overall: 0.0494\n",
      "Trial 25 pruned.\n",
      "\n",
      "Trial 26 started\n",
      "Parameters: {'hidden_size': 59, 'num_layers': 1, 'dropout': 0.1332882324529908, 'batch_size': 16, 'learning_rate': 0.00013251832443977188}\n"
     ]
    },
    {
     "name": "stderr",
     "output_type": "stream",
     "text": [
      "[I 2024-11-23 06:54:49,572] Trial 26 pruned. \n"
     ]
    },
    {
     "name": "stdout",
     "output_type": "stream",
     "text": [
      "Epoch   0/ 50 | Train RMSE: 0.0880 | Val RMSE: 0.0799 | Best overall: 0.0494\n",
      "Trial 26 pruned.\n",
      "\n",
      "Trial 27 started\n",
      "Parameters: {'hidden_size': 131, 'num_layers': 2, 'dropout': 0.03116664307937525, 'batch_size': 128, 'learning_rate': 0.0005504730320563536}\n"
     ]
    },
    {
     "name": "stderr",
     "output_type": "stream",
     "text": [
      "[I 2024-11-23 06:56:02,490] Trial 27 pruned. \n"
     ]
    },
    {
     "name": "stdout",
     "output_type": "stream",
     "text": [
      "Epoch   0/ 50 | Train RMSE: 0.0869 | Val RMSE: 0.0803 | Best overall: 0.0494\n",
      "Trial 27 pruned.\n",
      "\n",
      "Trial 28 started\n",
      "Parameters: {'hidden_size': 96, 'num_layers': 3, 'dropout': 0.12425544890744332, 'batch_size': 64, 'learning_rate': 0.00031291390472842933}\n"
     ]
    },
    {
     "name": "stderr",
     "output_type": "stream",
     "text": [
      "[I 2024-11-23 06:56:18,419] Trial 28 pruned. \n"
     ]
    },
    {
     "name": "stdout",
     "output_type": "stream",
     "text": [
      "Epoch   0/ 50 | Train RMSE: 0.0888 | Val RMSE: 0.0839 | Best overall: 0.0494\n",
      "Trial 28 pruned.\n",
      "\n",
      "Trial 29 started\n",
      "Parameters: {'hidden_size': 150, 'num_layers': 1, 'dropout': 0.41811625734115543, 'batch_size': 128, 'learning_rate': 0.006480650785591668}\n",
      "Epoch   0/ 50 | Train RMSE: 0.0839 | Val RMSE: 0.0772 | Best overall: 0.0494"
     ]
    },
    {
     "name": "stderr",
     "output_type": "stream",
     "text": [
      "[I 2024-11-23 06:57:40,322] Trial 29 pruned. \n"
     ]
    },
    {
     "name": "stdout",
     "output_type": "stream",
     "text": [
      "Epoch   1/ 50 | Train RMSE: 0.0772 | Val RMSE: 0.0786 | Best overall: 0.0494\n",
      "Trial 29 pruned.\n",
      "\n",
      "Trial 30 started\n",
      "Parameters: {'hidden_size': 118, 'num_layers': 2, 'dropout': 0.28262059019063335, 'batch_size': 32, 'learning_rate': 0.00146052852162297}\n",
      "Epoch   9/ 50 | Train RMSE: 0.0723 | Val RMSE: 0.0725 | Best overall: 0.0494"
     ]
    },
    {
     "name": "stderr",
     "output_type": "stream",
     "text": [
      "[I 2024-11-23 07:02:07,286] Trial 30 pruned. \n"
     ]
    },
    {
     "name": "stdout",
     "output_type": "stream",
     "text": [
      "Epoch  10/ 50 | Train RMSE: 0.0719 | Val RMSE: 0.0732 | Best overall: 0.0494\n",
      "Trial 30 pruned.\n",
      "\n",
      "Trial 31 started\n",
      "Parameters: {'hidden_size': 70, 'num_layers': 3, 'dropout': 0.3102054557413688, 'batch_size': 32, 'learning_rate': 0.0004115586933847848}\n"
     ]
    },
    {
     "name": "stderr",
     "output_type": "stream",
     "text": [
      "[I 2024-11-23 07:02:24,360] Trial 31 pruned. \n"
     ]
    },
    {
     "name": "stdout",
     "output_type": "stream",
     "text": [
      "Epoch   0/ 50 | Train RMSE: 0.0873 | Val RMSE: 0.0830 | Best overall: 0.0494\n",
      "Trial 31 pruned.\n",
      "\n",
      "Trial 32 started\n",
      "Parameters: {'hidden_size': 61, 'num_layers': 3, 'dropout': 0.35809368213920045, 'batch_size': 32, 'learning_rate': 0.0004626210127573693}\n"
     ]
    },
    {
     "name": "stderr",
     "output_type": "stream",
     "text": [
      "[I 2024-11-23 07:02:37,730] Trial 32 pruned. \n"
     ]
    },
    {
     "name": "stdout",
     "output_type": "stream",
     "text": [
      "Epoch   0/ 50 | Train RMSE: 0.0873 | Val RMSE: 0.0810 | Best overall: 0.0494\n",
      "Trial 32 pruned.\n",
      "\n",
      "Trial 33 started\n",
      "Parameters: {'hidden_size': 95, 'num_layers': 3, 'dropout': 0.39103547719088105, 'batch_size': 32, 'learning_rate': 0.0002620794579402387}\n"
     ]
    },
    {
     "name": "stderr",
     "output_type": "stream",
     "text": [
      "[I 2024-11-23 07:02:56,412] Trial 33 pruned. \n"
     ]
    },
    {
     "name": "stdout",
     "output_type": "stream",
     "text": [
      "Epoch   0/ 50 | Train RMSE: 0.0893 | Val RMSE: 0.0823 | Best overall: 0.0494\n",
      "Trial 33 pruned.\n",
      "\n",
      "Trial 34 started\n",
      "Parameters: {'hidden_size': 207, 'num_layers': 3, 'dropout': 0.4757091822812457, 'batch_size': 32, 'learning_rate': 0.0009002378166470631}\n"
     ]
    },
    {
     "name": "stderr",
     "output_type": "stream",
     "text": [
      "[I 2024-11-23 07:04:00,706] Trial 34 pruned. \n"
     ]
    },
    {
     "name": "stdout",
     "output_type": "stream",
     "text": [
      "Epoch   0/ 50 | Train RMSE: 0.0844 | Val RMSE: 0.0796 | Best overall: 0.0494\n",
      "Trial 34 pruned.\n",
      "\n",
      "Trial 35 started\n",
      "Parameters: {'hidden_size': 229, 'num_layers': 3, 'dropout': 0.2321975085013423, 'batch_size': 128, 'learning_rate': 0.00017009963967075202}\n"
     ]
    },
    {
     "name": "stderr",
     "output_type": "stream",
     "text": [
      "[I 2024-11-23 07:04:43,083] Trial 35 pruned. \n"
     ]
    },
    {
     "name": "stdout",
     "output_type": "stream",
     "text": [
      "Epoch   0/ 50 | Train RMSE: 0.0920 | Val RMSE: 0.0838 | Best overall: 0.0494\n",
      "Trial 35 pruned.\n",
      "\n",
      "Trial 36 started\n",
      "Parameters: {'hidden_size': 184, 'num_layers': 3, 'dropout': 0.3072120812539979, 'batch_size': 16, 'learning_rate': 0.00034878646923858247}\n"
     ]
    },
    {
     "name": "stderr",
     "output_type": "stream",
     "text": [
      "[I 2024-11-23 07:08:09,479] Trial 36 pruned. \n"
     ]
    },
    {
     "name": "stdout",
     "output_type": "stream",
     "text": [
      "Epoch   0/ 50 | Train RMSE: 0.0831 | Val RMSE: 0.0782 | Best overall: 0.0494\n",
      "Trial 36 pruned.\n",
      "\n",
      "Trial 37 started\n",
      "Parameters: {'hidden_size': 53, 'num_layers': 3, 'dropout': 0.27681528806845723, 'batch_size': 64, 'learning_rate': 0.002193984362763198}\n"
     ]
    },
    {
     "name": "stderr",
     "output_type": "stream",
     "text": [
      "[I 2024-11-23 07:08:18,854] Trial 37 pruned. \n"
     ]
    },
    {
     "name": "stdout",
     "output_type": "stream",
     "text": [
      "Epoch   0/ 50 | Train RMSE: 0.0841 | Val RMSE: 0.0788 | Best overall: 0.0494\n",
      "Trial 37 pruned.\n",
      "\n",
      "Trial 38 started\n",
      "Parameters: {'hidden_size': 82, 'num_layers': 1, 'dropout': 0.18661329204052307, 'batch_size': 32, 'learning_rate': 0.00022531075832323482}\n"
     ]
    },
    {
     "name": "stderr",
     "output_type": "stream",
     "text": [
      "[I 2024-11-23 07:08:29,306] Trial 38 pruned. \n"
     ]
    },
    {
     "name": "stdout",
     "output_type": "stream",
     "text": [
      "Epoch   0/ 50 | Train RMSE: 0.0868 | Val RMSE: 0.0802 | Best overall: 0.0494\n",
      "Trial 38 pruned.\n",
      "\n",
      "Trial 39 started\n",
      "Parameters: {'hidden_size': 175, 'num_layers': 2, 'dropout': 0.24550290811577513, 'batch_size': 64, 'learning_rate': 0.0004771941433467046}\n"
     ]
    },
    {
     "name": "stderr",
     "output_type": "stream",
     "text": [
      "[I 2024-11-23 07:10:30,072] Trial 39 pruned. \n"
     ]
    },
    {
     "name": "stdout",
     "output_type": "stream",
     "text": [
      "Epoch   0/ 50 | Train RMSE: 0.0859 | Val RMSE: 0.0832 | Best overall: 0.0494\n",
      "Trial 39 pruned.\n",
      "\n",
      "Trial 40 started\n",
      "Parameters: {'hidden_size': 114, 'num_layers': 2, 'dropout': 0.32429534932223486, 'batch_size': 128, 'learning_rate': 0.00013808868276975937}\n"
     ]
    },
    {
     "name": "stderr",
     "output_type": "stream",
     "text": [
      "[I 2024-11-23 07:10:49,035] Trial 40 pruned. \n"
     ]
    },
    {
     "name": "stdout",
     "output_type": "stream",
     "text": [
      "Epoch   0/ 50 | Train RMSE: 0.0967 | Val RMSE: 0.0884 | Best overall: 0.0494\n",
      "Trial 40 pruned.\n",
      "\n",
      "Trial 41 started\n",
      "Parameters: {'hidden_size': 192, 'num_layers': 1, 'dropout': 0.44948925896765995, 'batch_size': 128, 'learning_rate': 0.004462494684811493}\n"
     ]
    },
    {
     "name": "stderr",
     "output_type": "stream",
     "text": [
      "[I 2024-11-23 07:11:53,001] Trial 41 pruned. \n"
     ]
    },
    {
     "name": "stdout",
     "output_type": "stream",
     "text": [
      "Epoch   0/ 50 | Train RMSE: 0.0818 | Val RMSE: 0.0799 | Best overall: 0.0494\n",
      "Trial 41 pruned.\n",
      "\n",
      "Trial 42 started\n",
      "Parameters: {'hidden_size': 254, 'num_layers': 1, 'dropout': 0.45162471486104616, 'batch_size': 128, 'learning_rate': 0.0060147322518791626}\n"
     ]
    },
    {
     "name": "stderr",
     "output_type": "stream",
     "text": [
      "[I 2024-11-23 07:12:09,590] Trial 42 pruned. \n"
     ]
    },
    {
     "name": "stdout",
     "output_type": "stream",
     "text": [
      "Epoch   0/ 50 | Train RMSE: 0.0822 | Val RMSE: 0.0783 | Best overall: 0.0494\n",
      "Trial 42 pruned.\n",
      "\n",
      "Trial 43 started\n",
      "Parameters: {'hidden_size': 206, 'num_layers': 1, 'dropout': 0.38447385254003835, 'batch_size': 128, 'learning_rate': 0.008121254756307192}\n",
      "Epoch   1/ 50 | Train RMSE: 0.1409 | Val RMSE: 0.1190 | Best overall: 0.0494"
     ]
    },
    {
     "name": "stderr",
     "output_type": "stream",
     "text": [
      "[I 2024-11-23 07:12:48,389] Trial 43 pruned. \n"
     ]
    },
    {
     "name": "stdout",
     "output_type": "stream",
     "text": [
      "Epoch   2/ 50 | Train RMSE: 0.0917 | Val RMSE: 0.0979 | Best overall: 0.0494\n",
      "Trial 43 pruned.\n",
      "\n",
      "Trial 44 started\n",
      "Parameters: {'hidden_size': 198, 'num_layers': 1, 'dropout': 0.3477747257212626, 'batch_size': 32, 'learning_rate': 0.002696967142954926}\n",
      "Epoch  19/ 50 | Train RMSE: 0.0700 | Val RMSE: 0.0701 | Best overall: 0.0494\n",
      "Early stopping triggered at epoch 19\n",
      "\n",
      "Trial 44 finished with best val_loss: 0.0677\n"
     ]
    },
    {
     "name": "stderr",
     "output_type": "stream",
     "text": [
      "[I 2024-11-23 07:19:07,812] Trial 44 finished with value: 0.06771432676820757 and parameters: {'hidden_size': 198, 'num_layers': 1, 'dropout': 0.3477747257212626, 'batch_size': 32, 'learning_rate': 0.002696967142954926}. Best is trial 8 with value: 0.04938529467653017.\n"
     ]
    },
    {
     "name": "stdout",
     "output_type": "stream",
     "text": [
      "\n",
      "Trial 45 started\n",
      "Parameters: {'hidden_size': 229, 'num_layers': 1, 'dropout': 0.4915294647184135, 'batch_size': 16, 'learning_rate': 0.0033342715450770393}\n"
     ]
    },
    {
     "name": "stderr",
     "output_type": "stream",
     "text": [
      "[I 2024-11-23 07:19:39,484] Trial 45 pruned. \n"
     ]
    },
    {
     "name": "stdout",
     "output_type": "stream",
     "text": [
      "Epoch   0/ 50 | Train RMSE: 0.0783 | Val RMSE: 0.0791 | Best overall: 0.0494\n",
      "Trial 45 pruned.\n",
      "\n",
      "Trial 46 started\n",
      "Parameters: {'hidden_size': 130, 'num_layers': 1, 'dropout': 0.29072062016740985, 'batch_size': 64, 'learning_rate': 0.001555898276582776}\n",
      "Epoch   0/ 50 | Train RMSE: 0.0818 | Val RMSE: 0.0770 | Best overall: 0.0494"
     ]
    },
    {
     "name": "stderr",
     "output_type": "stream",
     "text": [
      "[I 2024-11-23 07:20:54,841] Trial 46 pruned. \n"
     ]
    },
    {
     "name": "stdout",
     "output_type": "stream",
     "text": [
      "Epoch   1/ 50 | Train RMSE: 0.0765 | Val RMSE: 0.0777 | Best overall: 0.0494\n",
      "Trial 46 pruned.\n",
      "\n",
      "Trial 47 started\n",
      "Parameters: {'hidden_size': 105, 'num_layers': 2, 'dropout': 0.02645971631890389, 'batch_size': 32, 'learning_rate': 0.004421847613363177}\n",
      "Epoch   4/ 50 | Train RMSE: 0.0737 | Val RMSE: 0.0744 | Best overall: 0.0494"
     ]
    },
    {
     "name": "stderr",
     "output_type": "stream",
     "text": [
      "[I 2024-11-23 07:23:15,686] Trial 47 pruned. \n"
     ]
    },
    {
     "name": "stdout",
     "output_type": "stream",
     "text": [
      "Epoch   5/ 50 | Train RMSE: 0.0731 | Val RMSE: 0.0738 | Best overall: 0.0494\n",
      "Trial 47 pruned.\n",
      "\n",
      "Trial 48 started\n",
      "Parameters: {'hidden_size': 216, 'num_layers': 1, 'dropout': 0.3989033657445553, 'batch_size': 128, 'learning_rate': 0.0010896233837849258}\n"
     ]
    },
    {
     "name": "stderr",
     "output_type": "stream",
     "text": [
      "[I 2024-11-23 07:23:30,260] Trial 48 pruned. \n"
     ]
    },
    {
     "name": "stdout",
     "output_type": "stream",
     "text": [
      "Epoch   0/ 50 | Train RMSE: 0.0849 | Val RMSE: 0.0789 | Best overall: 0.0494\n",
      "Trial 48 pruned.\n",
      "\n",
      "Trial 49 started\n",
      "Parameters: {'hidden_size': 174, 'num_layers': 2, 'dropout': 0.25907284898201943, 'batch_size': 64, 'learning_rate': 0.002002902690430186}\n"
     ]
    },
    {
     "name": "stderr",
     "output_type": "stream",
     "text": [
      "[I 2024-11-23 07:25:30,345] Trial 49 pruned. \n"
     ]
    },
    {
     "name": "stdout",
     "output_type": "stream",
     "text": [
      "Epoch   0/ 50 | Train RMSE: 0.0833 | Val RMSE: 0.0793 | Best overall: 0.0494\n",
      "Trial 49 pruned.\n",
      "\n",
      "Trial 50 started\n",
      "Parameters: {'hidden_size': 154, 'num_layers': 3, 'dropout': 0.09890834698471226, 'batch_size': 32, 'learning_rate': 0.0001918932963489398}\n"
     ]
    },
    {
     "name": "stderr",
     "output_type": "stream",
     "text": [
      "[I 2024-11-23 07:27:47,192] Trial 50 pruned. \n"
     ]
    },
    {
     "name": "stdout",
     "output_type": "stream",
     "text": [
      "Epoch   0/ 50 | Train RMSE: 0.0859 | Val RMSE: 0.0793 | Best overall: 0.0494\n",
      "Trial 50 pruned.\n",
      "\n",
      "Trial 51 started\n",
      "Parameters: {'hidden_size': 82, 'num_layers': 2, 'dropout': 0.4198556753384973, 'batch_size': 16, 'learning_rate': 0.0012749790293175248}\n",
      "Epoch  49/ 50 | Train RMSE: 0.0519 | Val RMSE: 0.0547 | Best overall: 0.0494\n",
      "Trial 51 finished with best val_loss: 0.0535\n"
     ]
    },
    {
     "name": "stderr",
     "output_type": "stream",
     "text": [
      "[I 2024-11-23 07:44:10,250] Trial 51 finished with value: 0.05349330926827829 and parameters: {'hidden_size': 82, 'num_layers': 2, 'dropout': 0.4198556753384973, 'batch_size': 16, 'learning_rate': 0.0012749790293175248}. Best is trial 8 with value: 0.04938529467653017.\n"
     ]
    },
    {
     "name": "stdout",
     "output_type": "stream",
     "text": [
      "\n",
      "Trial 52 started\n",
      "Parameters: {'hidden_size': 77, 'num_layers': 2, 'dropout': 0.44116211452753773, 'batch_size': 16, 'learning_rate': 0.0007226009541157915}\n",
      "Epoch   0/ 50 | Train RMSE: 0.0827 | Val RMSE: 0.0770 | Best overall: 0.0494"
     ]
    },
    {
     "name": "stderr",
     "output_type": "stream",
     "text": [
      "[I 2024-11-23 07:44:50,412] Trial 52 pruned. \n"
     ]
    },
    {
     "name": "stdout",
     "output_type": "stream",
     "text": [
      "Epoch   1/ 50 | Train RMSE: 0.0774 | Val RMSE: 0.0782 | Best overall: 0.0494\n",
      "Trial 52 pruned.\n",
      "\n",
      "Trial 53 started\n",
      "Parameters: {'hidden_size': 51, 'num_layers': 2, 'dropout': 0.42217328661402986, 'batch_size': 16, 'learning_rate': 0.0001146788394076723}\n"
     ]
    },
    {
     "name": "stderr",
     "output_type": "stream",
     "text": [
      "[I 2024-11-23 07:45:10,320] Trial 53 pruned. \n"
     ]
    },
    {
     "name": "stdout",
     "output_type": "stream",
     "text": [
      "Epoch   0/ 50 | Train RMSE: 0.0895 | Val RMSE: 0.0832 | Best overall: 0.0494\n",
      "Trial 53 pruned.\n",
      "\n",
      "Trial 54 started\n",
      "Parameters: {'hidden_size': 68, 'num_layers': 2, 'dropout': 0.3642265491382408, 'batch_size': 16, 'learning_rate': 0.003111983165334525}\n",
      "Epoch  11/ 50 | Train RMSE: 0.0717 | Val RMSE: 0.0714 | Best overall: 0.0494"
     ]
    },
    {
     "name": "stderr",
     "output_type": "stream",
     "text": [
      "[I 2024-11-23 07:49:27,991] Trial 54 pruned. \n"
     ]
    },
    {
     "name": "stdout",
     "output_type": "stream",
     "text": [
      "Epoch  12/ 50 | Train RMSE: 0.0749 | Val RMSE: 0.0753 | Best overall: 0.0494\n",
      "Trial 54 pruned.\n",
      "\n",
      "Trial 55 started\n",
      "Parameters: {'hidden_size': 32, 'num_layers': 2, 'dropout': 0.40583305312821705, 'batch_size': 16, 'learning_rate': 0.0053528262066803835}\n",
      "Epoch   5/ 50 | Train RMSE: 0.0742 | Val RMSE: 0.0740 | Best overall: 0.0494"
     ]
    },
    {
     "name": "stderr",
     "output_type": "stream",
     "text": [
      "[I 2024-11-23 07:51:39,892] Trial 55 pruned. \n"
     ]
    },
    {
     "name": "stdout",
     "output_type": "stream",
     "text": [
      "Epoch   6/ 50 | Train RMSE: 0.0761 | Val RMSE: 0.0733 | Best overall: 0.0494\n",
      "Trial 55 pruned.\n",
      "\n",
      "Trial 56 started\n",
      "Parameters: {'hidden_size': 88, 'num_layers': 2, 'dropout': 0.33026714793978934, 'batch_size': 64, 'learning_rate': 0.002257893666584756}\n",
      "Epoch   0/ 50 | Train RMSE: 0.0836 | Val RMSE: 0.0778 | Best overall: 0.0494"
     ]
    },
    {
     "name": "stderr",
     "output_type": "stream",
     "text": [
      "[I 2024-11-23 07:52:00,619] Trial 56 pruned. \n"
     ]
    },
    {
     "name": "stdout",
     "output_type": "stream",
     "text": [
      "Epoch   1/ 50 | Train RMSE: 0.0782 | Val RMSE: 0.0765 | Best overall: 0.0494\n",
      "Trial 56 pruned.\n",
      "\n",
      "Trial 57 started\n",
      "Parameters: {'hidden_size': 86, 'num_layers': 1, 'dropout': 0.2065297509663736, 'batch_size': 64, 'learning_rate': 0.008363728242737256}\n",
      "Epoch   2/ 50 | Train RMSE: 0.0754 | Val RMSE: 0.0747 | Best overall: 0.0494"
     ]
    },
    {
     "name": "stderr",
     "output_type": "stream",
     "text": [
      "[I 2024-11-23 07:52:26,043] Trial 57 pruned. \n"
     ]
    },
    {
     "name": "stdout",
     "output_type": "stream",
     "text": [
      "Epoch   3/ 50 | Train RMSE: 0.0746 | Val RMSE: 0.0746 | Best overall: 0.0494\n",
      "Trial 57 pruned.\n",
      "\n",
      "Trial 58 started\n",
      "Parameters: {'hidden_size': 105, 'num_layers': 3, 'dropout': 0.46822830031264406, 'batch_size': 16, 'learning_rate': 0.0002670966119318032}\n"
     ]
    },
    {
     "name": "stderr",
     "output_type": "stream",
     "text": [
      "[I 2024-11-23 07:53:04,823] Trial 58 pruned. \n"
     ]
    },
    {
     "name": "stdout",
     "output_type": "stream",
     "text": [
      "Epoch   0/ 50 | Train RMSE: 0.0858 | Val RMSE: 0.0819 | Best overall: 0.0494\n",
      "Trial 58 pruned.\n",
      "\n",
      "Trial 59 started\n",
      "Parameters: {'hidden_size': 124, 'num_layers': 2, 'dropout': 0.37056557658601547, 'batch_size': 32, 'learning_rate': 0.0012040939446848465}\n"
     ]
    },
    {
     "name": "stderr",
     "output_type": "stream",
     "text": [
      "[I 2024-11-23 07:53:30,499] Trial 59 pruned. \n"
     ]
    },
    {
     "name": "stdout",
     "output_type": "stream",
     "text": [
      "Epoch   0/ 50 | Train RMSE: 0.0831 | Val RMSE: 0.0782 | Best overall: 0.0494\n",
      "Trial 59 pruned.\n",
      "\n",
      "Trial 60 started\n",
      "Parameters: {'hidden_size': 139, 'num_layers': 3, 'dropout': 0.06966223409629732, 'batch_size': 64, 'learning_rate': 0.0016543154797331338}\n"
     ]
    },
    {
     "name": "stderr",
     "output_type": "stream",
     "text": [
      "[I 2024-11-23 07:55:28,118] Trial 60 pruned. \n"
     ]
    },
    {
     "name": "stdout",
     "output_type": "stream",
     "text": [
      "Epoch   0/ 50 | Train RMSE: 0.0824 | Val RMSE: 0.0784 | Best overall: 0.0494\n",
      "Trial 60 pruned.\n",
      "\n",
      "Trial 61 started\n",
      "Parameters: {'hidden_size': 41, 'num_layers': 2, 'dropout': 0.4301100420486602, 'batch_size': 16, 'learning_rate': 0.001292334593508647}\n",
      "Epoch  11/ 50 | Train RMSE: 0.0712 | Val RMSE: 0.0706 | Best overall: 0.0494"
     ]
    },
    {
     "name": "stderr",
     "output_type": "stream",
     "text": [
      "[I 2024-11-23 07:59:29,660] Trial 61 pruned. \n"
     ]
    },
    {
     "name": "stdout",
     "output_type": "stream",
     "text": [
      "Epoch  12/ 50 | Train RMSE: 0.0709 | Val RMSE: 0.0712 | Best overall: 0.0494\n",
      "Trial 61 pruned.\n",
      "\n",
      "Trial 62 started\n",
      "Parameters: {'hidden_size': 64, 'num_layers': 2, 'dropout': 0.29875753947099226, 'batch_size': 16, 'learning_rate': 0.000911323442062923}\n",
      "Epoch  11/ 50 | Train RMSE: 0.0707 | Val RMSE: 0.0705 | Best overall: 0.0494"
     ]
    },
    {
     "name": "stderr",
     "output_type": "stream",
     "text": [
      "[I 2024-11-23 08:03:35,176] Trial 62 pruned. \n"
     ]
    },
    {
     "name": "stdout",
     "output_type": "stream",
     "text": [
      "Epoch  12/ 50 | Train RMSE: 0.0704 | Val RMSE: 0.0703 | Best overall: 0.0494\n",
      "Trial 62 pruned.\n",
      "\n",
      "Trial 63 started\n",
      "Parameters: {'hidden_size': 78, 'num_layers': 2, 'dropout': 0.4978195052847658, 'batch_size': 16, 'learning_rate': 0.00062564038821894}\n",
      "Epoch   9/ 50 | Train RMSE: 0.0722 | Val RMSE: 0.0714 | Best overall: 0.0494"
     ]
    },
    {
     "name": "stderr",
     "output_type": "stream",
     "text": [
      "[I 2024-11-23 08:07:12,213] Trial 63 pruned. \n"
     ]
    },
    {
     "name": "stdout",
     "output_type": "stream",
     "text": [
      "Epoch  10/ 50 | Train RMSE: 0.0719 | Val RMSE: 0.0715 | Best overall: 0.0494\n",
      "Trial 63 pruned.\n",
      "\n",
      "Trial 64 started\n",
      "Parameters: {'hidden_size': 98, 'num_layers': 2, 'dropout': 0.40822264068465114, 'batch_size': 16, 'learning_rate': 0.0013914711421976374}\n",
      "Epoch  11/ 50 | Train RMSE: 0.0704 | Val RMSE: 0.0704 | Best overall: 0.0494"
     ]
    },
    {
     "name": "stderr",
     "output_type": "stream",
     "text": [
      "[I 2024-11-23 08:12:50,363] Trial 64 pruned. \n"
     ]
    },
    {
     "name": "stdout",
     "output_type": "stream",
     "text": [
      "Epoch  12/ 50 | Train RMSE: 0.0700 | Val RMSE: 0.0705 | Best overall: 0.0494\n",
      "Trial 64 pruned.\n",
      "\n",
      "Trial 65 started\n",
      "Parameters: {'hidden_size': 169, 'num_layers': 2, 'dropout': 0.3459402522395608, 'batch_size': 32, 'learning_rate': 0.00405604940496012}\n",
      "Epoch   4/ 50 | Train RMSE: 0.0748 | Val RMSE: 0.0750 | Best overall: 0.0494"
     ]
    },
    {
     "name": "stderr",
     "output_type": "stream",
     "text": [
      "[I 2024-11-23 08:25:05,351] Trial 65 pruned. \n"
     ]
    },
    {
     "name": "stdout",
     "output_type": "stream",
     "text": [
      "Epoch   5/ 50 | Train RMSE: 0.0824 | Val RMSE: 0.0813 | Best overall: 0.0494\n",
      "Trial 65 pruned.\n",
      "\n",
      "Trial 66 started\n",
      "Parameters: {'hidden_size': 89, 'num_layers': 1, 'dropout': 0.1366757054253024, 'batch_size': 128, 'learning_rate': 0.0025968445773182423}\n",
      "Epoch   0/ 50 | Train RMSE: 0.0835 | Val RMSE: 0.0775 | Best overall: 0.0494"
     ]
    },
    {
     "name": "stderr",
     "output_type": "stream",
     "text": [
      "[I 2024-11-23 08:25:16,706] Trial 66 pruned. \n"
     ]
    },
    {
     "name": "stdout",
     "output_type": "stream",
     "text": [
      "Epoch   1/ 50 | Train RMSE: 0.0772 | Val RMSE: 0.0770 | Best overall: 0.0494\n",
      "Trial 66 pruned.\n",
      "\n",
      "Trial 67 started\n",
      "Parameters: {'hidden_size': 71, 'num_layers': 3, 'dropout': 0.46338318388254096, 'batch_size': 64, 'learning_rate': 0.0003544913913572861}\n"
     ]
    },
    {
     "name": "stderr",
     "output_type": "stream",
     "text": [
      "[I 2024-11-23 08:25:31,184] Trial 67 pruned. \n"
     ]
    },
    {
     "name": "stdout",
     "output_type": "stream",
     "text": [
      "Epoch   0/ 50 | Train RMSE: 0.0908 | Val RMSE: 0.0870 | Best overall: 0.0494\n",
      "Trial 67 pruned.\n",
      "\n",
      "Trial 68 started\n",
      "Parameters: {'hidden_size': 157, 'num_layers': 2, 'dropout': 0.048425047080204925, 'batch_size': 32, 'learning_rate': 0.0007668593732854407}\n",
      "Epoch   0/ 50 | Train RMSE: 0.0809 | Val RMSE: 0.0769 | Best overall: 0.0494"
     ]
    },
    {
     "name": "stderr",
     "output_type": "stream",
     "text": [
      "[I 2024-11-23 08:28:38,000] Trial 68 pruned. \n"
     ]
    },
    {
     "name": "stdout",
     "output_type": "stream",
     "text": [
      "Epoch   1/ 50 | Train RMSE: 0.0764 | Val RMSE: 0.0787 | Best overall: 0.0494\n",
      "Trial 68 pruned.\n",
      "\n",
      "Trial 69 started\n",
      "Parameters: {'hidden_size': 144, 'num_layers': 1, 'dropout': 0.38731539044419583, 'batch_size': 16, 'learning_rate': 0.0018187120792158267}\n",
      "Epoch  33/ 50 | Train RMSE: 0.0898 | Val RMSE: 0.0880 | Best overall: 0.0494\n",
      "Early stopping triggered at epoch 33\n",
      "\n",
      "Trial 69 finished with best val_loss: 0.0608\n"
     ]
    },
    {
     "name": "stderr",
     "output_type": "stream",
     "text": [
      "[I 2024-11-23 08:56:51,570] Trial 69 finished with value: 0.060751231912077285 and parameters: {'hidden_size': 144, 'num_layers': 1, 'dropout': 0.38731539044419583, 'batch_size': 16, 'learning_rate': 0.0018187120792158267}. Best is trial 8 with value: 0.04938529467653017.\n"
     ]
    },
    {
     "name": "stdout",
     "output_type": "stream",
     "text": [
      "\n",
      "Trial 70 started\n",
      "Parameters: {'hidden_size': 142, 'num_layers': 1, 'dropout': 0.388743506706337, 'batch_size': 64, 'learning_rate': 0.0016929517738549235}\n",
      "Epoch   1/ 50 | Train RMSE: 0.0766 | Val RMSE: 0.0759 | Best overall: 0.0494"
     ]
    },
    {
     "name": "stderr",
     "output_type": "stream",
     "text": [
      "[I 2024-11-23 08:58:52,153] Trial 70 pruned. \n"
     ]
    },
    {
     "name": "stdout",
     "output_type": "stream",
     "text": [
      "Epoch   2/ 50 | Train RMSE: 0.0755 | Val RMSE: 0.0758 | Best overall: 0.0494\n",
      "Trial 70 pruned.\n",
      "\n",
      "Trial 71 started\n",
      "Parameters: {'hidden_size': 134, 'num_layers': 1, 'dropout': 0.37947554880255635, 'batch_size': 16, 'learning_rate': 0.0010598175512316584}\n",
      "Epoch   7/ 50 | Train RMSE: 0.0712 | Val RMSE: 0.0723 | Best overall: 0.0494"
     ]
    },
    {
     "name": "stderr",
     "output_type": "stream",
     "text": [
      "[I 2024-11-23 09:05:56,900] Trial 71 pruned. \n"
     ]
    },
    {
     "name": "stdout",
     "output_type": "stream",
     "text": [
      "Epoch   8/ 50 | Train RMSE: 0.0707 | Val RMSE: 0.0725 | Best overall: 0.0494\n",
      "Trial 71 pruned.\n",
      "\n",
      "Trial 72 started\n",
      "Parameters: {'hidden_size': 112, 'num_layers': 1, 'dropout': 0.4390694758157532, 'batch_size': 16, 'learning_rate': 0.001804278450535905}\n",
      "Epoch  22/ 50 | Train RMSE: 0.0970 | Val RMSE: 0.0889 | Best overall: 0.0494\n",
      "Early stopping triggered at epoch 22\n",
      "\n",
      "Trial 72 finished with best val_loss: 0.0661\n"
     ]
    },
    {
     "name": "stderr",
     "output_type": "stream",
     "text": [
      "[I 2024-11-23 09:12:47,055] Trial 72 finished with value: 0.06609887820152995 and parameters: {'hidden_size': 112, 'num_layers': 1, 'dropout': 0.4390694758157532, 'batch_size': 16, 'learning_rate': 0.001804278450535905}. Best is trial 8 with value: 0.04938529467653017.\n"
     ]
    },
    {
     "name": "stdout",
     "output_type": "stream",
     "text": [
      "\n",
      "Trial 73 started\n",
      "Parameters: {'hidden_size': 146, 'num_layers': 1, 'dropout': 0.4296993144975143, 'batch_size': 16, 'learning_rate': 0.001972098629625466}\n",
      "Epoch  34/ 50 | Train RMSE: 0.1009 | Val RMSE: 0.0953 | Best overall: 0.0494\n",
      "Early stopping triggered at epoch 34\n",
      "\n",
      "Trial 73 finished with best val_loss: 0.0581\n"
     ]
    },
    {
     "name": "stderr",
     "output_type": "stream",
     "text": [
      "[I 2024-11-23 09:42:20,807] Trial 73 finished with value: 0.05814478059169142 and parameters: {'hidden_size': 146, 'num_layers': 1, 'dropout': 0.4296993144975143, 'batch_size': 16, 'learning_rate': 0.001972098629625466}. Best is trial 8 with value: 0.04938529467653017.\n"
     ]
    },
    {
     "name": "stdout",
     "output_type": "stream",
     "text": [
      "\n",
      "Trial 74 started\n",
      "Parameters: {'hidden_size': 144, 'num_layers': 1, 'dropout': 0.3309075733604772, 'batch_size': 16, 'learning_rate': 0.002290730336832708}\n",
      "Epoch  24/ 50 | Train RMSE: 0.0758 | Val RMSE: 0.0778 | Best overall: 0.0494\n",
      "Early stopping triggered at epoch 24\n",
      "\n",
      "Trial 74 finished with best val_loss: 0.0659\n"
     ]
    },
    {
     "name": "stderr",
     "output_type": "stream",
     "text": [
      "[I 2024-11-23 10:03:13,930] Trial 74 finished with value: 0.06588284810244388 and parameters: {'hidden_size': 144, 'num_layers': 1, 'dropout': 0.3309075733604772, 'batch_size': 16, 'learning_rate': 0.002290730336832708}. Best is trial 8 with value: 0.04938529467653017.\n"
     ]
    },
    {
     "name": "stdout",
     "output_type": "stream",
     "text": [
      "\n",
      "Trial 75 started\n",
      "Parameters: {'hidden_size': 149, 'num_layers': 1, 'dropout': 0.32615035784038504, 'batch_size': 16, 'learning_rate': 0.002299337661484248}\n",
      "Epoch  10/ 50 | Train RMSE: 0.0708 | Val RMSE: 0.0708 | Best overall: 0.0494"
     ]
    },
    {
     "name": "stderr",
     "output_type": "stream",
     "text": [
      "[I 2024-11-23 10:13:38,345] Trial 75 pruned. \n"
     ]
    },
    {
     "name": "stdout",
     "output_type": "stream",
     "text": [
      "Epoch  11/ 50 | Train RMSE: 0.0695 | Val RMSE: 0.0713 | Best overall: 0.0494\n",
      "Trial 75 pruned.\n",
      "\n",
      "Trial 76 started\n",
      "Parameters: {'hidden_size': 123, 'num_layers': 1, 'dropout': 0.27701054026200794, 'batch_size': 16, 'learning_rate': 0.0028471224296519643}\n",
      "Epoch  24/ 50 | Train RMSE: 0.1083 | Val RMSE: 0.1084 | Best overall: 0.0494"
     ]
    },
    {
     "name": "stderr",
     "output_type": "stream",
     "text": [
      "[I 2024-11-23 10:21:25,051] Trial 76 pruned. \n"
     ]
    },
    {
     "name": "stdout",
     "output_type": "stream",
     "text": [
      "Epoch  25/ 50 | Train RMSE: 0.1073 | Val RMSE: 0.1062 | Best overall: 0.0494\n",
      "Trial 76 pruned.\n",
      "\n",
      "Trial 77 started\n",
      "Parameters: {'hidden_size': 166, 'num_layers': 1, 'dropout': 0.33548756873787366, 'batch_size': 16, 'learning_rate': 0.001999856587680849}\n",
      "Epoch  32/ 50 | Train RMSE: 0.0983 | Val RMSE: 0.1029 | Best overall: 0.0494\n",
      "Early stopping triggered at epoch 32\n",
      "\n",
      "Trial 77 finished with best val_loss: 0.0615\n"
     ]
    },
    {
     "name": "stderr",
     "output_type": "stream",
     "text": [
      "[I 2024-11-23 10:57:48,537] Trial 77 finished with value: 0.061480086042838146 and parameters: {'hidden_size': 166, 'num_layers': 1, 'dropout': 0.33548756873787366, 'batch_size': 16, 'learning_rate': 0.001999856587680849}. Best is trial 8 with value: 0.04938529467653017.\n"
     ]
    },
    {
     "name": "stdout",
     "output_type": "stream",
     "text": [
      "\n",
      "Trial 78 started\n",
      "Parameters: {'hidden_size': 167, 'num_layers': 1, 'dropout': 0.013458466708773181, 'batch_size': 16, 'learning_rate': 0.002008209530424317}\n"
     ]
    },
    {
     "name": "stderr",
     "output_type": "stream",
     "text": [
      "[I 2024-11-23 10:58:56,247] Trial 78 pruned. \n"
     ]
    },
    {
     "name": "stdout",
     "output_type": "stream",
     "text": [
      "Epoch   0/ 50 | Train RMSE: 0.0783 | Val RMSE: 0.0777 | Best overall: 0.0494\n",
      "Trial 78 pruned.\n",
      "\n",
      "Trial 79 started\n",
      "Parameters: {'hidden_size': 159, 'num_layers': 1, 'dropout': 0.34878435527665125, 'batch_size': 16, 'learning_rate': 0.0037241536565752113}\n",
      "Epoch  19/ 50 | Train RMSE: 0.1079 | Val RMSE: 0.1098 | Best overall: 0.0494\n",
      "Early stopping triggered at epoch 19\n",
      "\n",
      "Trial 79 finished with best val_loss: 0.0677\n"
     ]
    },
    {
     "name": "stderr",
     "output_type": "stream",
     "text": [
      "[I 2024-11-23 11:17:11,806] Trial 79 finished with value: 0.06768803957582684 and parameters: {'hidden_size': 159, 'num_layers': 1, 'dropout': 0.34878435527665125, 'batch_size': 16, 'learning_rate': 0.0037241536565752113}. Best is trial 8 with value: 0.04938529467653017.\n"
     ]
    },
    {
     "name": "stdout",
     "output_type": "stream",
     "text": [
      "\n",
      "Trial 80 started\n",
      "Parameters: {'hidden_size': 135, 'num_layers': 1, 'dropout': 0.36142308353622415, 'batch_size': 16, 'learning_rate': 0.0001722769117625264}\n"
     ]
    },
    {
     "name": "stderr",
     "output_type": "stream",
     "text": [
      "[I 2024-11-23 11:18:00,595] Trial 80 pruned. \n"
     ]
    },
    {
     "name": "stdout",
     "output_type": "stream",
     "text": [
      "Epoch   0/ 50 | Train RMSE: 0.0836 | Val RMSE: 0.0782 | Best overall: 0.0494\n",
      "Trial 80 pruned.\n",
      "\n",
      "Trial 81 started\n",
      "Parameters: {'hidden_size': 180, 'num_layers': 1, 'dropout': 0.30242153677656025, 'batch_size': 16, 'learning_rate': 0.0023281756925999674}\n",
      "Epoch  11/ 50 | Train RMSE: 0.0699 | Val RMSE: 0.0703 | Best overall: 0.0494"
     ]
    },
    {
     "name": "stderr",
     "output_type": "stream",
     "text": [
      "[I 2024-11-23 11:33:23,419] Trial 81 pruned. \n"
     ]
    },
    {
     "name": "stdout",
     "output_type": "stream",
     "text": [
      "Epoch  12/ 50 | Train RMSE: 0.0694 | Val RMSE: 0.0699 | Best overall: 0.0494\n",
      "Trial 81 pruned.\n",
      "\n",
      "Trial 82 started\n",
      "Parameters: {'hidden_size': 149, 'num_layers': 1, 'dropout': 0.316485529227308, 'batch_size': 16, 'learning_rate': 0.001820033841370662}\n",
      "Epoch  32/ 50 | Train RMSE: 0.0893 | Val RMSE: 0.0842 | Best overall: 0.0494\n",
      "Early stopping triggered at epoch 32\n",
      "\n",
      "Trial 82 finished with best val_loss: 0.0584\n"
     ]
    },
    {
     "name": "stderr",
     "output_type": "stream",
     "text": [
      "[I 2024-11-23 12:01:57,897] Trial 82 finished with value: 0.05837390678191047 and parameters: {'hidden_size': 149, 'num_layers': 1, 'dropout': 0.316485529227308, 'batch_size': 16, 'learning_rate': 0.001820033841370662}. Best is trial 8 with value: 0.04938529467653017.\n"
     ]
    },
    {
     "name": "stdout",
     "output_type": "stream",
     "text": [
      "\n",
      "Trial 83 started\n",
      "Parameters: {'hidden_size': 152, 'num_layers': 1, 'dropout': 0.24212973138566013, 'batch_size': 16, 'learning_rate': 0.001933565939053024}\n",
      "Epoch   2/ 50 | Train RMSE: 0.0737 | Val RMSE: 0.0763 | Best overall: 0.0494"
     ]
    },
    {
     "name": "stderr",
     "output_type": "stream",
     "text": [
      "[I 2024-11-23 12:05:27,910] Trial 83 pruned. \n"
     ]
    },
    {
     "name": "stdout",
     "output_type": "stream",
     "text": [
      "Epoch   3/ 50 | Train RMSE: 0.0734 | Val RMSE: 0.0746 | Best overall: 0.0494\n",
      "Trial 83 pruned.\n",
      "\n",
      "Trial 84 started\n",
      "Parameters: {'hidden_size': 164, 'num_layers': 1, 'dropout': 0.26355918396761613, 'batch_size': 32, 'learning_rate': 0.00127049186767176}\n"
     ]
    },
    {
     "name": "stderr",
     "output_type": "stream",
     "text": [
      "[I 2024-11-23 12:06:28,895] Trial 84 pruned. \n"
     ]
    },
    {
     "name": "stdout",
     "output_type": "stream",
     "text": [
      "Epoch   0/ 50 | Train RMSE: 0.0802 | Val RMSE: 0.0775 | Best overall: 0.0494\n",
      "Trial 84 pruned.\n",
      "\n",
      "Trial 85 started\n",
      "Parameters: {'hidden_size': 145, 'num_layers': 1, 'dropout': 0.31696027094918927, 'batch_size': 16, 'learning_rate': 0.00014361929320868657}\n"
     ]
    },
    {
     "name": "stderr",
     "output_type": "stream",
     "text": [
      "[I 2024-11-23 12:07:21,499] Trial 85 pruned. \n"
     ]
    },
    {
     "name": "stdout",
     "output_type": "stream",
     "text": [
      "Epoch   0/ 50 | Train RMSE: 0.0835 | Val RMSE: 0.0784 | Best overall: 0.0494\n",
      "Trial 85 pruned.\n",
      "\n",
      "Trial 86 started\n",
      "Parameters: {'hidden_size': 170, 'num_layers': 3, 'dropout': 0.341352892722029, 'batch_size': 16, 'learning_rate': 0.001483565685439995}\n"
     ]
    },
    {
     "name": "stderr",
     "output_type": "stream",
     "text": [
      "[I 2024-11-23 12:10:35,645] Trial 86 pruned. \n"
     ]
    },
    {
     "name": "stdout",
     "output_type": "stream",
     "text": [
      "Epoch   0/ 50 | Train RMSE: 0.0811 | Val RMSE: 0.0794 | Best overall: 0.0494\n",
      "Trial 86 pruned.\n",
      "\n",
      "Trial 87 started\n",
      "Parameters: {'hidden_size': 157, 'num_layers': 1, 'dropout': 0.09059580865759483, 'batch_size': 64, 'learning_rate': 0.00023480396833454035}\n"
     ]
    },
    {
     "name": "stderr",
     "output_type": "stream",
     "text": [
      "[I 2024-11-23 12:11:20,521] Trial 87 pruned. \n"
     ]
    },
    {
     "name": "stdout",
     "output_type": "stream",
     "text": [
      "Epoch   0/ 50 | Train RMSE: 0.0897 | Val RMSE: 0.0822 | Best overall: 0.0494\n",
      "Trial 87 pruned.\n",
      "\n",
      "Trial 88 started\n",
      "Parameters: {'hidden_size': 192, 'num_layers': 1, 'dropout': 0.2888411281634725, 'batch_size': 32, 'learning_rate': 0.0025356587261054614}\n"
     ]
    },
    {
     "name": "stderr",
     "output_type": "stream",
     "text": [
      "[I 2024-11-23 12:12:29,221] Trial 88 pruned. \n"
     ]
    },
    {
     "name": "stdout",
     "output_type": "stream",
     "text": [
      "Epoch   0/ 50 | Train RMSE: 0.0798 | Val RMSE: 0.0779 | Best overall: 0.0494\n",
      "Trial 88 pruned.\n",
      "\n",
      "Trial 89 started\n",
      "Parameters: {'hidden_size': 178, 'num_layers': 3, 'dropout': 0.41044552150650754, 'batch_size': 16, 'learning_rate': 0.00011387134545085627}\n"
     ]
    },
    {
     "name": "stderr",
     "output_type": "stream",
     "text": [
      "[I 2024-11-23 12:15:51,484] Trial 89 pruned. \n"
     ]
    },
    {
     "name": "stdout",
     "output_type": "stream",
     "text": [
      "Epoch   0/ 50 | Train RMSE: 0.0874 | Val RMSE: 0.0815 | Best overall: 0.0494\n",
      "Trial 89 pruned.\n",
      "\n",
      "Trial 90 started\n",
      "Parameters: {'hidden_size': 129, 'num_layers': 1, 'dropout': 0.17301973544849347, 'batch_size': 64, 'learning_rate': 0.003085291895863244}\n"
     ]
    },
    {
     "name": "stderr",
     "output_type": "stream",
     "text": [
      "[I 2024-11-23 12:16:29,380] Trial 90 pruned. \n"
     ]
    },
    {
     "name": "stdout",
     "output_type": "stream",
     "text": [
      "Epoch   0/ 50 | Train RMSE: 0.0806 | Val RMSE: 0.0767 | Best overall: 0.0494\n",
      "Trial 90 pruned.\n",
      "\n",
      "Trial 91 started\n",
      "Parameters: {'hidden_size': 148, 'num_layers': 1, 'dropout': 0.33847748379431636, 'batch_size': 16, 'learning_rate': 0.0017942627990989032}\n"
     ]
    },
    {
     "name": "stderr",
     "output_type": "stream",
     "text": [
      "[I 2024-11-23 12:17:21,660] Trial 91 pruned. \n"
     ]
    },
    {
     "name": "stdout",
     "output_type": "stream",
     "text": [
      "Epoch   0/ 50 | Train RMSE: 0.0781 | Val RMSE: 0.0759 | Best overall: 0.0494\n",
      "Trial 91 pruned.\n",
      "\n",
      "Trial 92 started\n",
      "Parameters: {'hidden_size': 144, 'num_layers': 1, 'dropout': 0.31531865940373177, 'batch_size': 16, 'learning_rate': 0.0015493907782536962}\n",
      "Epoch   2/ 50 | Train RMSE: 0.0738 | Val RMSE: 0.0731 | Best overall: 0.0494"
     ]
    },
    {
     "name": "stderr",
     "output_type": "stream",
     "text": [
      "[I 2024-11-23 12:20:42,301] Trial 92 pruned. \n"
     ]
    },
    {
     "name": "stdout",
     "output_type": "stream",
     "text": [
      "Epoch   3/ 50 | Train RMSE: 0.0745 | Val RMSE: 0.0736 | Best overall: 0.0494\n",
      "Trial 92 pruned.\n",
      "\n",
      "Trial 93 started\n",
      "Parameters: {'hidden_size': 144, 'num_layers': 1, 'dropout': 0.3580522356154327, 'batch_size': 16, 'learning_rate': 0.0021576098434781697}\n",
      "Epoch  32/ 50 | Train RMSE: 0.0575 | Val RMSE: 0.0603 | Best overall: 0.0494\n",
      "Early stopping triggered at epoch 32\n",
      "\n",
      "Trial 93 finished with best val_loss: 0.0586\n"
     ]
    },
    {
     "name": "stderr",
     "output_type": "stream",
     "text": [
      "[I 2024-11-23 12:48:09,780] Trial 93 finished with value: 0.05856133051032366 and parameters: {'hidden_size': 144, 'num_layers': 1, 'dropout': 0.3580522356154327, 'batch_size': 16, 'learning_rate': 0.0021576098434781697}. Best is trial 8 with value: 0.04938529467653017.\n"
     ]
    },
    {
     "name": "stdout",
     "output_type": "stream",
     "text": [
      "\n",
      "Trial 94 started\n",
      "Parameters: {'hidden_size': 160, 'num_layers': 1, 'dropout': 0.37281911649749233, 'batch_size': 16, 'learning_rate': 0.000994552770498042}\n"
     ]
    },
    {
     "name": "stderr",
     "output_type": "stream",
     "text": [
      "[I 2024-11-23 12:49:04,373] Trial 94 pruned. \n"
     ]
    },
    {
     "name": "stdout",
     "output_type": "stream",
     "text": [
      "Epoch   0/ 50 | Train RMSE: 0.0786 | Val RMSE: 0.0764 | Best overall: 0.0494\n",
      "Trial 94 pruned.\n",
      "\n",
      "Trial 95 started\n",
      "Parameters: {'hidden_size': 153, 'num_layers': 1, 'dropout': 0.39877537717011635, 'batch_size': 16, 'learning_rate': 0.0020504611006569957}\n",
      "Epoch  20/ 50 | Train RMSE: 0.0795 | Val RMSE: 0.0776 | Best overall: 0.0494\n",
      "Early stopping triggered at epoch 20\n",
      "\n",
      "Trial 95 finished with best val_loss: 0.0657\n"
     ]
    },
    {
     "name": "stderr",
     "output_type": "stream",
     "text": [
      "[I 2024-11-23 13:07:29,860] Trial 95 finished with value: 0.06568048013705496 and parameters: {'hidden_size': 153, 'num_layers': 1, 'dropout': 0.39877537717011635, 'batch_size': 16, 'learning_rate': 0.0020504611006569957}. Best is trial 8 with value: 0.04938529467653017.\n"
     ]
    },
    {
     "name": "stdout",
     "output_type": "stream",
     "text": [
      "\n",
      "Trial 96 started\n",
      "Parameters: {'hidden_size': 135, 'num_layers': 1, 'dropout': 0.35020258295492296, 'batch_size': 32, 'learning_rate': 0.00019079937758518397}\n"
     ]
    },
    {
     "name": "stderr",
     "output_type": "stream",
     "text": [
      "[I 2024-11-23 13:08:11,868] Trial 96 pruned. \n"
     ]
    },
    {
     "name": "stdout",
     "output_type": "stream",
     "text": [
      "Epoch   0/ 50 | Train RMSE: 0.0852 | Val RMSE: 0.0813 | Best overall: 0.0494\n",
      "Trial 96 pruned.\n",
      "\n",
      "Trial 97 started\n",
      "Parameters: {'hidden_size': 124, 'num_layers': 1, 'dropout': 0.35660776563233954, 'batch_size': 16, 'learning_rate': 0.0016930358071821508}\n",
      "Epoch   2/ 50 | Train RMSE: 0.0737 | Val RMSE: 0.0740 | Best overall: 0.0494"
     ]
    },
    {
     "name": "stderr",
     "output_type": "stream",
     "text": [
      "[I 2024-11-23 13:09:24,814] Trial 97 pruned. \n"
     ]
    },
    {
     "name": "stdout",
     "output_type": "stream",
     "text": [
      "Epoch   3/ 50 | Train RMSE: 0.0732 | Val RMSE: 0.0746 | Best overall: 0.0494\n",
      "Trial 97 pruned.\n",
      "\n",
      "Trial 98 started\n",
      "Parameters: {'hidden_size': 119, 'num_layers': 3, 'dropout': 0.3920271579243134, 'batch_size': 64, 'learning_rate': 0.0029279545083165516}\n"
     ]
    },
    {
     "name": "stderr",
     "output_type": "stream",
     "text": [
      "[I 2024-11-23 13:09:55,989] Trial 98 pruned. \n"
     ]
    },
    {
     "name": "stdout",
     "output_type": "stream",
     "text": [
      "Epoch   0/ 50 | Train RMSE: 0.0839 | Val RMSE: 0.0799 | Best overall: 0.0494\n",
      "Trial 98 pruned.\n",
      "\n",
      "Trial 99 started\n",
      "Parameters: {'hidden_size': 100, 'num_layers': 1, 'dropout': 0.430917550166707, 'batch_size': 32, 'learning_rate': 0.00250238184515355}\n"
     ]
    },
    {
     "name": "stderr",
     "output_type": "stream",
     "text": [
      "[I 2024-11-23 13:10:10,018] Trial 99 pruned. \n"
     ]
    },
    {
     "name": "stdout",
     "output_type": "stream",
     "text": [
      "Epoch   0/ 50 | Train RMSE: 0.0796 | Val RMSE: 0.0772 | Best overall: 0.0494\n",
      "Trial 99 pruned.\n",
      "\n",
      "Optimization completed!\n",
      "\n",
      "Best trial:\n",
      "  Value:  0.04938529467653017\n",
      "  Params: \n",
      "    hidden_size: 102\n",
      "    num_layers: 1\n",
      "    dropout: 0.3376473541285027\n",
      "    batch_size: 64\n",
      "    learning_rate: 0.0026930312968810326\n"
     ]
    }
   ],
   "source": [
    "def objective(trial):\n",
    "    trial_number = trial.number\n",
    "    \n",
    "    # Hyperparameters to optimize\n",
    "    hidden_size = trial.suggest_int('hidden_size', 32, 256)\n",
    "    num_layers = trial.suggest_int('num_layers', 1, 3)\n",
    "    dropout = trial.suggest_float('dropout', 0.0, 0.5)\n",
    "    batch_size = trial.suggest_categorical('batch_size', [16, 32, 64, 128])\n",
    "    learning_rate = trial.suggest_float('learning_rate', 1e-4, 1e-2, log=True)\n",
    "    \n",
    "    print(f\"\\nTrial {trial_number} started\")\n",
    "    print(f\"Parameters: {trial.params}\")\n",
    "    \n",
    "    model = LSTMRegressor(\n",
    "        input_size=INPUT_SIZE,\n",
    "        hidden_size=hidden_size,\n",
    "        num_layers=num_layers,\n",
    "        dropout=dropout\n",
    "    ).to(device)\n",
    "    \n",
    "    train_loader, val_loader = create_dataloaders(X_lstm_tensor, t_lstm_tensor, batch_size)\n",
    "    \n",
    "    criterion = nn.MSELoss()\n",
    "    optimizer = optim.Adam(model.parameters(), lr=learning_rate)\n",
    "    \n",
    "    best_val_loss = float('inf')\n",
    "    patience = 5\n",
    "    patience_counter = 0\n",
    "    max_epochs = 50\n",
    "    \n",
    "    for epoch in range(max_epochs):\n",
    "        # Training loop\n",
    "        model.train()\n",
    "        train_loss = 0.0\n",
    "        for X_batch, y_batch in train_loader:\n",
    "            X_batch, y_batch = X_batch.to(device), y_batch.to(device)\n",
    "            optimizer.zero_grad()\n",
    "            predictions = model(X_batch)\n",
    "            loss = torch.sqrt(criterion(predictions, y_batch))\n",
    "            loss.backward()\n",
    "            optimizer.step()\n",
    "            train_loss += loss.item()\n",
    "        \n",
    "        avg_train_loss = train_loss / len(train_loader)\n",
    "        \n",
    "        # Validation loop\n",
    "        model.eval()\n",
    "        val_loss = 0.0\n",
    "        with torch.no_grad():\n",
    "            for X_val_batch, y_val_batch in val_loader:\n",
    "                X_val_batch, y_val_batch = X_val_batch.to(device), y_val_batch.to(device)\n",
    "                val_predictions = model(X_val_batch)\n",
    "                loss = torch.sqrt(criterion(val_predictions, y_val_batch))\n",
    "                val_loss += loss.item()\n",
    "        \n",
    "        avg_val_loss = val_loss / len(val_loader)\n",
    "        \n",
    "        # Print progress\n",
    "        print(f\"\\rEpoch {epoch:3d}/{max_epochs:3d} | \"\n",
    "              f\"Train RMSE: {avg_train_loss:.4f} | Val RMSE: {avg_val_loss:.4f} | \"\n",
    "              f\"Best overall: {progress_tracker.current_best:.4f}\", end=\"\")\n",
    "        \n",
    "        if avg_val_loss < best_val_loss:\n",
    "            best_val_loss = avg_val_loss\n",
    "            patience_counter = 0\n",
    "        else:\n",
    "            patience_counter += 1\n",
    "            if patience_counter >= patience:\n",
    "                print(f\"\\nEarly stopping triggered at epoch {epoch}\")\n",
    "                break\n",
    "        \n",
    "        trial.report(avg_val_loss, epoch)\n",
    "        if trial.should_prune():\n",
    "            print(f\"\\nTrial {trial_number} pruned.\")\n",
    "            raise optuna.exceptions.TrialPruned()\n",
    "    \n",
    "    # Update progress tracker\n",
    "    progress_tracker.update(trial, best_val_loss)\n",
    "    \n",
    "    print(f\"\\nTrial {trial_number} finished with best val_loss: {best_val_loss:.4f}\")\n",
    "    return best_val_loss\n",
    "\n",
    "# Create study\n",
    "timestamp = datetime.now().strftime(\"%Y%m%d_%H%M%S\")\n",
    "study_name = f\"lstm_optimization_{timestamp}\"\n",
    "\n",
    "# Initialize progress tracker\n",
    "progress_tracker = TrialProgress(study_name)\n",
    "\n",
    "# Create study\n",
    "study = optuna.create_study(\n",
    "    study_name=study_name,\n",
    "    direction='minimize',\n",
    "    pruner=optuna.pruners.MedianPruner()\n",
    ")\n",
    "\n",
    "print(\"Starting optimization...\")\n",
    "print(f\"Study name: {study_name}\")\n",
    "print(f\"Results will be saved to: {progress_tracker.results_file}\")\n",
    "print(\"\\nTo monitor progress:\")\n",
    "print(f\"1. Check the terminal output for real-time updates\")\n",
    "print(f\"2. View the JSON results file: {progress_tracker.results_file}\")\n",
    "\n",
    "try:\n",
    "    study.optimize(objective, n_trials=100, timeout=43200)  # 12 hours timeout\n",
    "except KeyboardInterrupt:\n",
    "    print(\"\\nOptimization interrupted by user.\")\n",
    "\n",
    "# Final results\n",
    "print(\"\\nOptimization completed!\")\n",
    "print(\"\\nBest trial:\")\n",
    "trial = study.best_trial\n",
    "print(\"  Value: \", trial.value)\n",
    "print(\"  Params: \")\n",
    "for key, value in trial.params.items():\n",
    "    print(f\"    {key}: {value}\")"
   ]
  },
  {
   "cell_type": "code",
   "execution_count": null,
   "metadata": {},
   "outputs": [],
   "source": [
    "import torch.optim as optim\n",
    "import torch.nn as nn\n",
    "\n",
    "INPUT_SIZE = X_lstm_tensor.shape[-1]\n",
    "HIDDEN_SIZE = 102\n",
    "BATCH_SIZE = 64\n",
    "EPOCHS = 50\n",
    "LEARTNING_RATE =  0.0026930312968810326\n",
    "\n",
    "LSTMReg = LSTMRegressor(input_size=INPUT_SIZE, hidden_size=HIDDEN_SIZE)\n",
    "LSTMReg.to(device)\n",
    "\n",
    "criterion = nn.MSELoss()\n",
    "optimizer = optim.Adam(LSTMReg.parameters(), lr=LEARTNING_RATE)\n",
    "\n",
    "for epoch in range(EPOCHS):\n",
    "    LSTMReg.train()\n",
    "    train_loss = 0.0  # For accumulating training loss\n",
    "    \n",
    "    for X_batch, t_batch in train_loader:\n",
    "        X_batch, t_batch = X_batch.to(device), t_batch.to(device)\n",
    "        \n",
    "        optimizer.zero_grad()  # Clear gradients\n",
    "        predictions = LSTMReg(X_batch)  # Forward pass\n",
    "        \n",
    "        loss = torch.sqrt(criterion(predictions, t_batch))\n",
    "        loss.backward()  # Backward pass\n",
    "        optimizer.step()  # Update model parameters\n",
    "        \n",
    "        train_loss += loss.item()  # Accumulate batch loss\n",
    "\n",
    "    # Compute average train loss (MSE)\n",
    "    avg_train_loss = train_loss / len(train_loader)\n",
    "\n",
    "    # Validation loop\n",
    "    LSTMReg.eval()\n",
    "    val_loss = 0.0  # For accumulating validation loss\n",
    "    with torch.no_grad():  # Disable gradient computation for validation\n",
    "        for X_val_batch, t_val_batch in val_loader:\n",
    "            X_val_batch, t_val_batch = X_val_batch.to(device), t_val_batch.to(device)\n",
    "            val_predictions = LSTMReg(X_val_batch)  # Forward pass\n",
    "            \n",
    "            loss = torch.sqrt(criterion(val_predictions, t_val_batch))\n",
    "            val_loss += loss.item()  # Accumulate batch loss\n",
    "\n",
    "    # Compute average validation loss (MSE)\n",
    "    avg_val_loss = val_loss / len(val_loader)\n",
    "\n",
    "    print(f\"Epoch [{epoch + 1}/{EPOCHS}], Train MSE: {avg_train_loss:.4f}, Val MSE: {avg_val_loss:.4f}\")\n"
   ]
  },
  {
   "cell_type": "code",
   "execution_count": null,
   "metadata": {},
   "outputs": [],
   "source": [
    "LSTMReg.eval()\n",
    "\n",
    "squared_error_total = 0.0  \n",
    "num_samples = 0 \n",
    "\n",
    "with torch.no_grad():\n",
    "    for X_test_batch, t_test_batch in test_loader:\n",
    "        X_test_batch, t_test_batch = X_test_batch.to(device), t_test_batch.to(device)\n",
    "        \n",
    "        test_predictions = LSTMReg(X_test_batch)\n",
    "        \n",
    "        t_test_batch = t_test_batch.view(-1, 1)\n",
    "        test_predictions = test_predictions.view(-1, 1)\n",
    "\n",
    "        combined_data = np.hstack([t_test_batch.cpu().numpy(), test_predictions.cpu().numpy()])\n",
    "        \n",
    "        t_test_batch_inverse, test_predictions_inverse = bg_scaler.inverse_transform(combined_data).T\n",
    "        t_test_batch_inverse = torch.from_numpy(t_test_batch_inverse)\n",
    "        test_predictions_inverse = torch.from_numpy(test_predictions_inverse)\n",
    "\n",
    "\n",
    "        squared_error = (test_predictions_inverse - t_test_batch_inverse) ** 2\n",
    "\n",
    "        squared_error_total += squared_error.sum().item() \n",
    "        num_samples += len(t_test_batch_inverse)  \n",
    "\n",
    "\n",
    "average_squared_error = squared_error_total / num_samples\n",
    "\n",
    "\n",
    "test_rmse = np.sqrt(average_squared_error)\n",
    "\n",
    "print(f\"Test RMSE: {test_rmse:.4f}\")\n"
   ]
  },
  {
   "cell_type": "code",
   "execution_count": null,
   "metadata": {},
   "outputs": [],
   "source": [
    "import matplotlib.pyplot as plt\n",
    "import numpy as np\n",
    "import torch\n",
    "\n",
    "LSTMReg.eval()\n",
    "\n",
    "def calculate_rmse(predictions, targets):\n",
    "    return torch.sqrt(((predictions - targets) ** 2).mean())\n",
    "\n",
    "test_rmse = 0.0\n",
    "num_batches = 0\n",
    "\n",
    "all_targets = []\n",
    "all_predictions = []\n",
    "last_bg = []\n",
    "\n",
    "with torch.no_grad():  \n",
    "    for X_test_batch, t_test_batch in test_loader:\n",
    "        X_test_batch, t_test_batch = X_test_batch.to(device), t_test_batch.to(device)\n",
    "        \n",
    "        test_predictions = LSTMReg(X_test_batch)\n",
    "        \n",
    "        # Flatten both targets and predictions for proper shape handling\n",
    "        t_test_batch = t_test_batch.view(-1, 1)\n",
    "        test_predictions = test_predictions.view(-1, 1)\n",
    "        \n",
    "        # Collect last bg values (assuming 13th index is where bg is located)\n",
    "        last_bg_batch = X_test_batch[:,-1,13].cpu().numpy()\n",
    "        \n",
    "        # Inverse transform the last bg, targets, and predictions\n",
    "        last_bg_inverse = bg_scaler.inverse_transform(last_bg_batch.reshape(-1, 1))\n",
    "        t_test_batch_inverse = bg_scaler.inverse_transform(t_test_batch.cpu().numpy())\n",
    "        test_predictions_inverse = bg_scaler.inverse_transform(test_predictions.cpu().numpy())\n",
    "        \n",
    "        # Convert back to tensors\n",
    "        t_test_batch_inverse = torch.from_numpy(t_test_batch_inverse)\n",
    "        test_predictions_inverse = torch.from_numpy(test_predictions_inverse)\n",
    "\n",
    "        # Append all values to lists\n",
    "        all_targets.append(t_test_batch_inverse.cpu().numpy())\n",
    "        all_predictions.append(test_predictions_inverse.cpu().numpy())\n",
    "        last_bg.append(last_bg_inverse)\n",
    "\n",
    "        # Calculate RMSE for the current batch and update total\n",
    "        test_rmse += calculate_rmse(test_predictions_inverse, t_test_batch_inverse).item()\n",
    "        num_batches += 1\n",
    "\n",
    "# Concatenate the results for all batches\n",
    "all_targets = np.concatenate(all_targets)\n",
    "all_predictions = np.concatenate(all_predictions)\n",
    "all_last_bg = np.concatenate(last_bg)\n",
    "\n",
    "# Calculate the average RMSE over all batches\n",
    "test_rmse /= num_batches\n",
    "print(f\"Test RMSE: {test_rmse:.4f}\")\n",
    "\n",
    "# Sort the data based on targets\n",
    "sorted_indices = np.argsort(all_targets)  \n",
    "sorted_targets = all_targets[sorted_indices] \n",
    "sorted_predictions = all_predictions[sorted_indices]  \n",
    "sorted_last_bg = all_last_bg[sorted_indices]\n",
    "\n",
    "# Check lengths for debugging\n",
    "print(len(sorted_targets), len(sorted_predictions), len(sorted_last_bg))\n"
   ]
  },
  {
   "cell_type": "code",
   "execution_count": null,
   "metadata": {},
   "outputs": [],
   "source": [
    "start,end = 0, len(sorted_targets)\n",
    "plt.figure(figsize=(20, 12))\n",
    "plt.plot(sorted(all_predictions), label='Predictions', color='red', linestyle='--')\n",
    "plt.plot(sorted(all_targets), label='True Values', color='blue')\n",
    "plt.plot(sorted(all_last_bg), label='Last BG', color='green')\n",
    "\n",
    "plt.xlabel('Index (sorted by Target Value)')\n",
    "plt.ylabel('Value')\n",
    "plt.title('True vs Predicted Values (Sorted by Target Value)')\n",
    "plt.legend()\n",
    "plt.show()"
   ]
  },
  {
   "cell_type": "code",
   "execution_count": null,
   "metadata": {},
   "outputs": [],
   "source": [
    "X_"
   ]
  },
  {
   "cell_type": "code",
   "execution_count": null,
   "metadata": {},
   "outputs": [],
   "source": [
    "import matplotlib.pyplot as plt\n",
    "import numpy as np\n",
    "\n",
    "plt.figure(figsize=(20, 10))\n",
    "plt.plot(np.arange(len(all_targets)), all_targets, '.', alpha=0.5)\n",
    "plt.plot(np.arange(len(all_predictions)), all_predictions, '.', alpha=0.5)\n",
    "plt.xlabel('Index')\n",
    "plt.ylabel('Target Value')\n",
    "plt.title('Plot of all_targets')\n",
    "plt.show()\n"
   ]
  },
  {
   "cell_type": "code",
   "execution_count": null,
   "metadata": {},
   "outputs": [],
   "source": [
    "X_lstm_tensor = torch.load('../../data/X_lstm_test.pt',weights_only=False)\n",
    "\n",
    "submission_ids = X_lstm_tensor[:, 0, -1]\n",
    "X_lstm_tensor = X_lstm_tensor[:,:,:-1].to(device)\n",
    "\n",
    "all_ids = []\n",
    "for ids in submission_ids:\n",
    "    all_ids.append([float_id_converter(ids),ids])"
   ]
  },
  {
   "cell_type": "code",
   "execution_count": null,
   "metadata": {},
   "outputs": [],
   "source": [
    "pandas_ids = pd.DataFrame(all_ids, columns=['id', 'float_id'])\n",
    "pandas_ids.describe()\n",
    "pandas_ids"
   ]
  },
  {
   "cell_type": "code",
   "execution_count": null,
   "metadata": {},
   "outputs": [],
   "source": [
    "def float_id_converter(float_id):\n",
    "    # Extract the integer part and fractional part\n",
    "    int_part = int(float_id)\n",
    "    frac_part = np.round((float_id - int_part) * 1e5)\n",
    "    \n",
    "    formatted_int_part = f'{int_part:02}'  \n",
    "    formatted_frac_part = f'{int(frac_part)}'\n",
    "    \n",
    "    return f'p{formatted_int_part}_{formatted_frac_part}'\n",
    "\n",
    "float_id_converter(3.0001)\n",
    "\n"
   ]
  },
  {
   "cell_type": "code",
   "execution_count": null,
   "metadata": {},
   "outputs": [],
   "source": [
    "LSTMReg.eval()\n",
    "\n",
    "\n",
    "with torch.no_grad():  \n",
    "    predictions = LSTMReg(X_lstm_tensor).cpu().numpy()\n",
    "\n",
    "# Now, prepare the output in the desired format\n",
    "output_lines = []\n",
    "for i in range(len(submission_ids)):\n",
    "    float_id = submission_ids[i].item()  # Convert to scalar if it's a tensor\n",
    "    id_str = float_id_converter(float_id)  # Convert to the desired string format\n",
    "    \n",
    "    # Assuming that bg+1:00 is the first predicted value\n",
    "    bg_value = predictions[i, 0]  # You can adjust this if your model outputs multiple columns\n",
    "    bg_value = bg_scaler.inverse_transform([[bg_value]])  # Inverse transform\n",
    "    bg_value = bg_value[0, 0]  # Extract the scalar value\n",
    "    print(bg_value)\n",
    "    # Format the output\n",
    "    output_lines.append(f\"{id_str},{bg_value}\")  # Format bg_value to 2 decimal places\n",
    "\n",
    "# Save or print the output\n",
    "output = \"\\n\".join(output_lines)\n",
    "\n",
    "# Optionally, write to a CSV file\n",
    "with open(\"submission_output.csv\", \"w\") as f:\n",
    "    f.write(\"id,bg+1:00\\n\")\n",
    "    f.write(output)\n"
   ]
  }
 ],
 "metadata": {
  "kernelspec": {
   "display_name": "bg_pred",
   "language": "python",
   "name": "python3"
  },
  "language_info": {
   "codemirror_mode": {
    "name": "ipython",
    "version": 3
   },
   "file_extension": ".py",
   "mimetype": "text/x-python",
   "name": "python",
   "nbconvert_exporter": "python",
   "pygments_lexer": "ipython3",
   "version": "3.12.3"
  }
 },
 "nbformat": 4,
 "nbformat_minor": 2
}
